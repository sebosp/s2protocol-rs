{
 "cells": [
  {
   "cell_type": "code",
   "execution_count": null,
   "id": "de32eb68-01b3-48ab-95ea-d095fa69d73a",
   "metadata": {},
   "outputs": [],
   "source": [
    "import plotly.express as px\n",
    "import polars as pl\n",
    "from functime.cross_validation import train_test_split\n",
    "from functime.forecasting import linear_model\n",
    "from functime.metrics import mase\n",
    "from functime.preprocessing import scale\n",
    "from functime.seasonality import add_calendar_effects, add_fourier_terms\n",
    "\n",
    "pl.Config.set_tbl_width_chars(256)\n",
    "pl.Config.set_fmt_str_lengths(256)\n",
    "\n",
    "# The usernames are stored in the Details section of the MPQ. This can be used later to correlate \"played_id\"s with human friendly player name.\n",
    "details_df = pl.scan_ipc(\"/home/seb/git/s2protocol-rs/ipcs/details.ipc\")\n",
    "details_df = (\n",
    "    details_df\n",
    "    .explode(\"player_list\")\n",
    "    .unnest(\"player_list\")\n",
    "    .filter(pl.col(\"name\").str.ends_with(\"Sazed\"))\n",
    "    .select([pl.col(\"working_set_slot_id\") + 1,pl.col(\"ext_fs_replay_sha256\"),pl.col(\"ext_datetime\")])\n",
    ")\n",
    "\n",
    "unit_born_df = pl.scan_ipc(\"/home/seb/git/s2protocol-rs/ipcs/unit_born.ipc\")\n",
    "unit_died_df = pl.scan_ipc(\"/home/seb/git/s2protocol-rs/ipcs/unit_died.ipc\")\n",
    "stats_df = pl.scan_ipc(\"/home/seb/git/s2protocol-rs/ipcs/stats.ipc\")\n",
    "init_data_df = pl.scan_ipc(\"/home/seb/git/s2protocol-rs/ipcs/init_data.ipc\")\n",
    "upgrades_df = pl.scan_ipc(\"/home/seb/git/s2protocol-rs/ipcs/upgrades.ipc\")\n",
    "\n",
    "\n",
    "\n",
    "\n",
    "latest_replay_digest = (\n",
    "    details_df.collect()\n",
    "    .sort(\"ext_datetime\", descending=True)\n",
    "    .select(pl.col(\"ext_fs_replay_sha256\"))\n",
    "    .limit(1)\n",
    ")\n",
    "# In this case I'm interested in my own user data.\n",
    "my_username = \"2-1-8459957-Sazed\"\n",
    "# To find your user, you can inspect a replay, for example the latest one, this is a combination of the blizzard ids, region, etc.\n",
    "unit_born_df.filter((pl.col(\"ext_fs_replay_sha256\") == latest_replay_digest)).group_by(\n",
    "    \"ext_replay_detail_player_name\"\n",
    ").agg(pl.count()).collect()\n",
    "\n"
   ]
  }
 ],
 "metadata": {
  "kernelspec": {
   "display_name": "Python 3 (ipykernel)",
   "language": "python",
   "name": "python3"
  },
  "language_info": {
   "codemirror_mode": {
    "name": "ipython",
    "version": 3
   },
   "file_extension": ".py",
   "mimetype": "text/x-python",
   "name": "python",
   "nbconvert_exporter": "python",
   "pygments_lexer": "ipython3",
   "version": "3.11.5"
  }
 },
 "nbformat": 4,
 "nbformat_minor": 5
}
