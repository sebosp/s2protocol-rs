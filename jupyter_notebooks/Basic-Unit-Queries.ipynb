{
 "cells": [
  {
   "cell_type": "code",
   "execution_count": 22,
   "id": "85a3b87b-e834-4ab7-99d3-8a192c6154a8",
   "metadata": {},
   "outputs": [
    {
     "data": {
      "text/plain": [
       "polars.config.Config"
      ]
     },
     "execution_count": 22,
     "metadata": {},
     "output_type": "execute_result"
    }
   ],
   "source": [
    "import datashader as ds\n",
    "import plotly.express as px\n",
    "import polars as pl\n",
    "\n",
    "pl.Config.set_tbl_width_chars(128)\n",
    "pl.Config.set_fmt_str_lengths(128)"
   ]
  },
  {
   "cell_type": "code",
   "execution_count": 24,
   "id": "100b03a1-582d-4235-8612-ce0ef8b853c4",
   "metadata": {},
   "outputs": [
    {
     "data": {
      "text/html": [
       "<div><style>\n",
       ".dataframe > thead > tr > th,\n",
       ".dataframe > tbody > tr > td {\n",
       "  text-align: right;\n",
       "  white-space: pre-wrap;\n",
       "}\n",
       "</style>\n",
       "<small>shape: (3_600, 2)</small><table border=\"1\" class=\"dataframe\"><thead><tr><th>ext_fs_replay_sha256</th><th>ext_datetime</th></tr><tr><td>str</td><td>datetime[ns]</td></tr></thead><tbody><tr><td>&quot;bcdc9f4529f33d8dc195e077a3efc8f2f5d171629589810258ce9c3b2884d606&quot;</td><td>2023-09-01 16:27:20.513336</td></tr><tr><td>&quot;ca5319b603e1695072fe7ed503a4bee1e1cd2e21f0866b6d6a466675d8882053&quot;</td><td>2023-09-01 16:07:19.388774</td></tr><tr><td>&quot;78522d042952fed26f959f43cd2d96b546f70ab6fea9c7c5d495c274ab92f4cc&quot;</td><td>2023-09-01 15:58:14.462896</td></tr><tr><td>&quot;36fd9860aa778d0c5c38a46fd3653410de75b6271d7bf87331764426115c4e20&quot;</td><td>2023-09-01 15:42:43.177646</td></tr><tr><td>&quot;d58b26a98c8c0ce7ae6ece61d20a0f567103139b24abcad3ea87aa31058cf220&quot;</td><td>2023-09-01 15:26:07.515228</td></tr><tr><td>&quot;0d50ff17a2e5102fe7bc518acfcb6da0288c595ce8ba786cf4bc713a6da7d21a&quot;</td><td>2023-09-01 15:01:38.400463</td></tr><tr><td>&quot;67f1dc4df940615db4a1bb0a19666e762a62aab97312d1ad48cc6c3c78b98eea&quot;</td><td>2023-09-01 14:30:55.372892</td></tr><tr><td>&quot;e9dce9c415599c08b3d0f3180dfa01ce64dbadaad283cf83bfd53cd071b9c12d&quot;</td><td>2023-08-30 17:46:52.934368</td></tr><tr><td>&quot;eded356f4f66bcedaccfdfb6a1c6a2ad98c8d0d8c8d0770f926f1414bcfbc9cd&quot;</td><td>2023-08-30 17:25:46.633691</td></tr><tr><td>&quot;a4be5d9842e4e549c100b7b144d3abfc5df364e4387f91e4957ff500bfb50d57&quot;</td><td>2023-08-30 17:01:26.343535</td></tr><tr><td>&quot;b2f6ddd93c86a817483a1df910d060a873f1d80aea9e2dfe01d287dd5475686d&quot;</td><td>2023-08-27 15:27:48.899489</td></tr><tr><td>&quot;aca76c18fe2034823709c8f17da381b59f4b216f9dee93ca4e72d97d1701629f&quot;</td><td>2023-08-27 15:13:21.214139</td></tr><tr><td>&hellip;</td><td>&hellip;</td></tr><tr><td>&quot;792da475608046d120b29da3d3bd3094fb64d9739fa84e2c6b706efe7dc06241&quot;</td><td>2021-02-14 19:40:12.731273</td></tr><tr><td>&quot;e6d4df0faa634f6e15cd050b21d6295769be4a493b0bc5dda04afc25bcbce991&quot;</td><td>2021-02-14 19:29:49.893792</td></tr><tr><td>&quot;9850f0cb3b85392d6307695927598f17e37351d0232159bf8bba0bccc12b48c9&quot;</td><td>2021-02-14 19:20:00.352336</td></tr><tr><td>&quot;ae4fee23ba56e7b077b7d1de09f6d25a4d6f5e2e9315206e6ec84cb954346f19&quot;</td><td>2021-02-14 19:11:53.916107</td></tr><tr><td>&quot;7472dfbec0bc804845fb7cabf1615b97870ac0760d87e4447a9213ea949cca9e&quot;</td><td>2021-02-14 19:11:06.787525</td></tr><tr><td>&quot;9309d3917d186644e248b23cd49ad421adc653cad6717987cbc1d025a83cb837&quot;</td><td>2021-02-14 19:08:26.467083</td></tr><tr><td>&quot;2210c71fa3119b1b0e757eb049c79753d4b4f88340ef4edac7cf57f4b1faf062&quot;</td><td>2021-02-14 19:07:53.812388</td></tr><tr><td>&quot;62d0bdd6f6769470ec94fee392c0a7da8804ba874d9ed06f8ab2e2c4c516d278&quot;</td><td>2021-02-14 18:57:48.001751</td></tr><tr><td>&quot;2986d64d61b40e65c6a2d0d85ec2d9dbbae8c72c296f7c3a586d8a8d48406745&quot;</td><td>2021-02-14 18:54:29.412994</td></tr><tr><td>&quot;9f2c12d120c218590557955ee0e37d5eed89da5f727aec810510901eb949be64&quot;</td><td>2021-02-14 18:53:36.741682</td></tr><tr><td>&quot;1ff03793350068b7ca58fa495e98019564b23c16358b0e21c067017a9286be8d&quot;</td><td>2021-02-14 18:42:35.602101</td></tr><tr><td>&quot;f4e179720dfeb792e5917a4bc4419acde5d2df44e20d9ea5c9afcc9ac371cefe&quot;</td><td>2021-02-14 18:29:34.812194</td></tr></tbody></table></div>"
      ],
      "text/plain": [
       "shape: (3_600, 2)\n",
       "┌──────────────────────────────────────────────────────────────────┬────────────────────────────┐\n",
       "│ ext_fs_replay_sha256                                             ┆ ext_datetime               │\n",
       "│ ---                                                              ┆ ---                        │\n",
       "│ str                                                              ┆ datetime[ns]               │\n",
       "╞══════════════════════════════════════════════════════════════════╪════════════════════════════╡\n",
       "│ bcdc9f4529f33d8dc195e077a3efc8f2f5d171629589810258ce9c3b2884d606 ┆ 2023-09-01 16:27:20.513336 │\n",
       "│ ca5319b603e1695072fe7ed503a4bee1e1cd2e21f0866b6d6a466675d8882053 ┆ 2023-09-01 16:07:19.388774 │\n",
       "│ 78522d042952fed26f959f43cd2d96b546f70ab6fea9c7c5d495c274ab92f4cc ┆ 2023-09-01 15:58:14.462896 │\n",
       "│ 36fd9860aa778d0c5c38a46fd3653410de75b6271d7bf87331764426115c4e20 ┆ 2023-09-01 15:42:43.177646 │\n",
       "│ …                                                                ┆ …                          │\n",
       "│ 2986d64d61b40e65c6a2d0d85ec2d9dbbae8c72c296f7c3a586d8a8d48406745 ┆ 2021-02-14 18:54:29.412994 │\n",
       "│ 9f2c12d120c218590557955ee0e37d5eed89da5f727aec810510901eb949be64 ┆ 2021-02-14 18:53:36.741682 │\n",
       "│ 1ff03793350068b7ca58fa495e98019564b23c16358b0e21c067017a9286be8d ┆ 2021-02-14 18:42:35.602101 │\n",
       "│ f4e179720dfeb792e5917a4bc4419acde5d2df44e20d9ea5c9afcc9ac371cefe ┆ 2021-02-14 18:29:34.812194 │\n",
       "└──────────────────────────────────────────────────────────────────┴────────────────────────────┘"
      ]
     },
     "execution_count": 24,
     "metadata": {},
     "output_type": "execute_result"
    }
   ],
   "source": [
    "unit_born_df = pl.scan_ipc(\"/home/seb/git/s2protocol-rs/ipcs/unit_born.ipc\")\n",
    "unit_died_df = pl.scan_ipc(\"/home/seb/git/s2protocol-rs/ipcs/unit_died.ipc\")\n",
    "orig_details_df = pl.scan_ipc(\"/home/seb/git/s2protocol-rs/ipcs/details.ipc\")\n",
    "freq_maps_df = (\n",
    "    orig_details_df.group_by(\"title\")\n",
    "    .agg(pl.count())\n",
    "    .filter(pl.col(\"count\") > 25)\n",
    "    .with_columns(pl.col(\"count\").alias(\"map_count\"))\n",
    "    .select([\"title\", \"map_count\"])\n",
    ")\n",
    "details_df = orig_details_df.join(freq_maps_df, on=\"title\", how=\"inner\")\n",
    "# unit_born_df.group_by(\"ext_replay_detail_player_name\").agg(pl.count()).filter(\n",
    "#    pl.col(\"count\") > 10\n",
    "# ).collect().sort(\"count\", descending=True)#\n",
    "# freq_maps_df.collect().sort(\"map_count\", descending=True)\n",
    "orig_details_df.select(\n",
    "    [pl.col(\"ext_fs_replay_sha256\"), pl.col(\"ext_datetime\")]\n",
    ").collect().sort(\"ext_datetime\", descending=True)"
   ]
  },
  {
   "cell_type": "code",
   "execution_count": 25,
   "id": "97e12aac-f63e-447c-8cd2-55ca5e2801c7",
   "metadata": {},
   "outputs": [
    {
     "data": {
      "text/html": [
       "<div><style>\n",
       ".dataframe > thead > tr > th,\n",
       ".dataframe > tbody > tr > td {\n",
       "  text-align: right;\n",
       "  white-space: pre-wrap;\n",
       "}\n",
       "</style>\n",
       "<small>shape: (5, 6)</small><table border=\"1\" class=\"dataframe\"><thead><tr><th>unit_type_name</th><th>unit_tag_index</th><th>unit_tag_recycle</th><th>creator_ability_name</th><th>ext_replay_seconds</th><th>ext_replay_detail_player_name</th></tr><tr><td>str</td><td>u32</td><td>u32</td><td>str</td><td>u32</td><td>str</td></tr></thead><tbody><tr><td>&quot;Larva&quot;</td><td>353</td><td>1</td><td>&quot;&quot;</td><td>18</td><td>&quot;2-1-8459957-Sazed&quot;</td></tr><tr><td>&quot;Drone&quot;</td><td>337</td><td>2</td><td>&quot;LarvaTrain&quot;</td><td>20</td><td>&quot;2-1-8459957-Sazed&quot;</td></tr><tr><td>&quot;Larva&quot;</td><td>359</td><td>1</td><td>&quot;&quot;</td><td>37</td><td>&quot;2-1-8459957-Sazed&quot;</td></tr><tr><td>&quot;Drone&quot;</td><td>338</td><td>2</td><td>&quot;LarvaTrain&quot;</td><td>44</td><td>&quot;2-1-8459957-Sazed&quot;</td></tr><tr><td>&quot;Overlord&quot;</td><td>336</td><td>2</td><td>&quot;LarvaTrain&quot;</td><td>48</td><td>&quot;2-1-8459957-Sazed&quot;</td></tr></tbody></table></div>"
      ],
      "text/plain": [
       "shape: (5, 6)\n",
       "┌────────────────┬────────────────┬──────────────────┬──────────────────────┬────────────────────┬─────────────────────────────┐\n",
       "│ unit_type_name ┆ unit_tag_index ┆ unit_tag_recycle ┆ creator_ability_name ┆ ext_replay_seconds ┆ ext_replay_detail_player_na │\n",
       "│ ---            ┆ ---            ┆ ---              ┆ ---                  ┆ ---                ┆ me                          │\n",
       "│ str            ┆ u32            ┆ u32              ┆ str                  ┆ u32                ┆ ---                         │\n",
       "│                ┆                ┆                  ┆                      ┆                    ┆ str                         │\n",
       "╞════════════════╪════════════════╪══════════════════╪══════════════════════╪════════════════════╪═════════════════════════════╡\n",
       "│ Larva          ┆ 353            ┆ 1                ┆                      ┆ 18                 ┆ 2-1-8459957-Sazed           │\n",
       "│ Drone          ┆ 337            ┆ 2                ┆ LarvaTrain           ┆ 20                 ┆ 2-1-8459957-Sazed           │\n",
       "│ Larva          ┆ 359            ┆ 1                ┆                      ┆ 37                 ┆ 2-1-8459957-Sazed           │\n",
       "│ Drone          ┆ 338            ┆ 2                ┆ LarvaTrain           ┆ 44                 ┆ 2-1-8459957-Sazed           │\n",
       "│ Overlord       ┆ 336            ┆ 2                ┆ LarvaTrain           ┆ 48                 ┆ 2-1-8459957-Sazed           │\n",
       "└────────────────┴────────────────┴──────────────────┴──────────────────────┴────────────────────┴─────────────────────────────┘"
      ]
     },
     "execution_count": 25,
     "metadata": {},
     "output_type": "execute_result"
    }
   ],
   "source": [
    "unit_born_ec_le = (\n",
    "    unit_born_df.join(details_df, on=\"ext_fs_replay_sha256\", how=\"inner\")\n",
    "    .filter(\n",
    "        (pl.col(\"ext_replay_detail_player_name\") == \"2-1-8459957-Sazed\")\n",
    "        & (\n",
    "            pl.col(\"ext_fs_replay_sha256\")\n",
    "            == \"bcdc9f4529f33d8dc195e077a3efc8f2f5d171629589810258ce9c3b2884d606\"\n",
    "        )\n",
    "        & (pl.col(\"unit_type_name\") != \"InvisibleTargetDummy\")\n",
    "        & (~pl.col(\"unit_type_name\").str.starts_with(\"Beacon\"))\n",
    "        & (~pl.col(\"unit_type_name\").str.ends_with(\"Geyser\"))\n",
    "        & (~pl.col(\"unit_type_name\").str.starts_with(\"LabMineralField\"))\n",
    "        & (~pl.col(\"unit_type_name\").str.starts_with(\"RichMineralField\"))\n",
    "        & (~pl.col(\"unit_type_name\").str.starts_with(\"MineralField\"))\n",
    "        & (pl.col(\"ext_replay_seconds\") > 0)\n",
    "    )\n",
    "    .select(\n",
    "        [\n",
    "            pl.col(\"unit_type_name\"),\n",
    "            pl.col(\"unit_tag_index\"),\n",
    "            pl.col(\"unit_tag_recycle\"),\n",
    "            pl.col(\"creator_ability_name\"),\n",
    "            pl.col(\"ext_replay_seconds\"),\n",
    "            pl.col(\"ext_replay_detail_player_name\"),\n",
    "        ]\n",
    "    )\n",
    ")\n",
    "unit_born_ec_le.collect().sort(\"ext_replay_seconds\").head(5)"
   ]
  },
  {
   "cell_type": "code",
   "execution_count": 54,
   "id": "004cd4c6-0c68-4074-a062-832e8f73510d",
   "metadata": {},
   "outputs": [
    {
     "data": {
      "application/vnd.plotly.v1+json": {
       "config": {
        "plotlyServerURL": "https://plot.ly"
       },
       "data": [
        {
         "alignmentgroup": "True",
         "bingroup": "x",
         "histfunc": "sum",
         "hovertemplate": "unit_died_name=HighTemplar<br>killer_unit_name=%{x}<br>sum of count=%{y}<extra></extra>",
         "legendgroup": "HighTemplar",
         "marker": {
          "color": "#636efa",
          "pattern": {
           "shape": ""
          }
         },
         "name": "HighTemplar",
         "offsetgroup": "HighTemplar",
         "orientation": "v",
         "showlegend": true,
         "type": "histogram",
         "visible": true,
         "x": [
          "Mutalisk"
         ],
         "xaxis": "x",
         "y": [
          1
         ],
         "yaxis": "y"
        },
        {
         "alignmentgroup": "True",
         "bingroup": "x",
         "histfunc": "sum",
         "hovertemplate": "unit_died_name=Zealot<br>killer_unit_name=%{x}<br>sum of count=%{y}<extra></extra>",
         "legendgroup": "Zealot",
         "marker": {
          "color": "#EF553B",
          "pattern": {
           "shape": ""
          }
         },
         "name": "Zealot",
         "offsetgroup": "Zealot",
         "orientation": "v",
         "showlegend": true,
         "type": "histogram",
         "x": [
          "Mutalisk"
         ],
         "xaxis": "x",
         "y": [
          1
         ],
         "yaxis": "y"
        },
        {
         "alignmentgroup": "True",
         "bingroup": "x",
         "histfunc": "sum",
         "hovertemplate": "unit_died_name=HydraliskDen<br>killer_unit_name=%{x}<br>sum of count=%{y}<extra></extra>",
         "legendgroup": "HydraliskDen",
         "marker": {
          "color": "#00cc96",
          "pattern": {
           "shape": ""
          }
         },
         "name": "HydraliskDen",
         "offsetgroup": "HydraliskDen",
         "orientation": "v",
         "showlegend": true,
         "type": "histogram",
         "x": [
          "BroodlingEscort"
         ],
         "xaxis": "x",
         "y": [
          1
         ],
         "yaxis": "y"
        },
        {
         "alignmentgroup": "True",
         "bingroup": "x",
         "histfunc": "sum",
         "hovertemplate": "unit_died_name=Sentry<br>killer_unit_name=%{x}<br>sum of count=%{y}<extra></extra>",
         "legendgroup": "Sentry",
         "marker": {
          "color": "#ab63fa",
          "pattern": {
           "shape": ""
          }
         },
         "name": "Sentry",
         "offsetgroup": "Sentry",
         "orientation": "v",
         "showlegend": true,
         "type": "histogram",
         "visible": true,
         "x": [
          "Mutalisk"
         ],
         "xaxis": "x",
         "y": [
          1
         ],
         "yaxis": "y"
        },
        {
         "alignmentgroup": "True",
         "bingroup": "x",
         "histfunc": "sum",
         "hovertemplate": "unit_died_name=Archon<br>killer_unit_name=%{x}<br>sum of count=%{y}<extra></extra>",
         "legendgroup": "Archon",
         "marker": {
          "color": "#FFA15A",
          "pattern": {
           "shape": ""
          }
         },
         "name": "Archon",
         "offsetgroup": "Archon",
         "orientation": "v",
         "showlegend": true,
         "type": "histogram",
         "x": [
          "Queen"
         ],
         "xaxis": "x",
         "y": [
          1
         ],
         "yaxis": "y"
        },
        {
         "alignmentgroup": "True",
         "bingroup": "x",
         "histfunc": "sum",
         "hovertemplate": "unit_died_name=Assimilator<br>killer_unit_name=%{x}<br>sum of count=%{y}<extra></extra>",
         "legendgroup": "Assimilator",
         "marker": {
          "color": "#19d3f3",
          "pattern": {
           "shape": ""
          }
         },
         "name": "Assimilator",
         "offsetgroup": "Assimilator",
         "orientation": "v",
         "showlegend": true,
         "type": "histogram",
         "x": [
          "BroodlingEscort",
          "Mutalisk",
          "Broodling"
         ],
         "xaxis": "x",
         "y": [
          1,
          1,
          2
         ],
         "yaxis": "y"
        },
        {
         "alignmentgroup": "True",
         "bingroup": "x",
         "histfunc": "sum",
         "hovertemplate": "unit_died_name=Spire<br>killer_unit_name=%{x}<br>sum of count=%{y}<extra></extra>",
         "legendgroup": "Spire",
         "marker": {
          "color": "#FF6692",
          "pattern": {
           "shape": ""
          }
         },
         "name": "Spire",
         "offsetgroup": "Spire",
         "orientation": "v",
         "showlegend": true,
         "type": "histogram",
         "x": [
          "Broodling"
         ],
         "xaxis": "x",
         "y": [
          1
         ],
         "yaxis": "y"
        },
        {
         "alignmentgroup": "True",
         "bingroup": "x",
         "histfunc": "sum",
         "hovertemplate": "unit_died_name=SporeCrawler<br>killer_unit_name=%{x}<br>sum of count=%{y}<extra></extra>",
         "legendgroup": "SporeCrawler",
         "marker": {
          "color": "#B6E880",
          "pattern": {
           "shape": ""
          }
         },
         "name": "SporeCrawler",
         "offsetgroup": "SporeCrawler",
         "orientation": "v",
         "showlegend": true,
         "type": "histogram",
         "x": [
          "BroodlingEscort"
         ],
         "xaxis": "x",
         "y": [
          1
         ],
         "yaxis": "y"
        },
        {
         "alignmentgroup": "True",
         "bingroup": "x",
         "histfunc": "sum",
         "hovertemplate": "unit_died_name=Zergling<br>killer_unit_name=%{x}<br>sum of count=%{y}<extra></extra>",
         "legendgroup": "Zergling",
         "marker": {
          "color": "#FF97FF",
          "pattern": {
           "shape": ""
          }
         },
         "name": "Zergling",
         "offsetgroup": "Zergling",
         "orientation": "v",
         "showlegend": true,
         "type": "histogram",
         "x": [
          "Zergling",
          "Mutalisk",
          "SpineCrawler",
          "Broodling",
          "BroodlingEscort"
         ],
         "xaxis": "x",
         "y": [
          1,
          3,
          6,
          7,
          18
         ],
         "yaxis": "y"
        },
        {
         "alignmentgroup": "True",
         "bingroup": "x",
         "histfunc": "sum",
         "hovertemplate": "unit_died_name=Nexus<br>killer_unit_name=%{x}<br>sum of count=%{y}<extra></extra>",
         "legendgroup": "Nexus",
         "marker": {
          "color": "#FECB52",
          "pattern": {
           "shape": ""
          }
         },
         "name": "Nexus",
         "offsetgroup": "Nexus",
         "orientation": "v",
         "showlegend": true,
         "type": "histogram",
         "x": [
          "Corruptor",
          "BroodlingEscort"
         ],
         "xaxis": "x",
         "y": [
          1,
          2
         ],
         "yaxis": "y"
        },
        {
         "alignmentgroup": "True",
         "bingroup": "x",
         "histfunc": "sum",
         "hovertemplate": "unit_died_name=Hatchery<br>killer_unit_name=%{x}<br>sum of count=%{y}<extra></extra>",
         "legendgroup": "Hatchery",
         "marker": {
          "color": "#636efa",
          "pattern": {
           "shape": ""
          }
         },
         "name": "Hatchery",
         "offsetgroup": "Hatchery",
         "orientation": "v",
         "showlegend": true,
         "type": "histogram",
         "x": [
          "Corruptor",
          "Mutalisk"
         ],
         "xaxis": "x",
         "y": [
          1,
          2
         ],
         "yaxis": "y"
        },
        {
         "alignmentgroup": "True",
         "bingroup": "x",
         "histfunc": "sum",
         "hovertemplate": "unit_died_name=SpineCrawler<br>killer_unit_name=%{x}<br>sum of count=%{y}<extra></extra>",
         "legendgroup": "SpineCrawler",
         "marker": {
          "color": "#EF553B",
          "pattern": {
           "shape": ""
          }
         },
         "name": "SpineCrawler",
         "offsetgroup": "SpineCrawler",
         "orientation": "v",
         "showlegend": true,
         "type": "histogram",
         "x": [
          "Broodling",
          "BroodlingEscort"
         ],
         "xaxis": "x",
         "y": [
          1,
          2
         ],
         "yaxis": "y"
        },
        {
         "alignmentgroup": "True",
         "bingroup": "x",
         "histfunc": "sum",
         "hovertemplate": "unit_died_name=Extractor<br>killer_unit_name=%{x}<br>sum of count=%{y}<extra></extra>",
         "legendgroup": "Extractor",
         "marker": {
          "color": "#00cc96",
          "pattern": {
           "shape": ""
          }
         },
         "name": "Extractor",
         "offsetgroup": "Extractor",
         "orientation": "v",
         "showlegend": true,
         "type": "histogram",
         "x": [
          "Mutalisk",
          "Broodling",
          "BroodlingEscort"
         ],
         "xaxis": "x",
         "y": [
          1,
          1,
          2
         ],
         "yaxis": "y"
        },
        {
         "alignmentgroup": "True",
         "bingroup": "x",
         "histfunc": "sum",
         "hovertemplate": "unit_died_name=Probe<br>killer_unit_name=%{x}<br>sum of count=%{y}<extra></extra>",
         "legendgroup": "Probe",
         "marker": {
          "color": "#ab63fa",
          "pattern": {
           "shape": ""
          }
         },
         "name": "Probe",
         "offsetgroup": "Probe",
         "orientation": "v",
         "showlegend": true,
         "type": "histogram",
         "visible": true,
         "x": [
          "SpineCrawler",
          "BroodlingEscort",
          "Broodling",
          "Mutalisk"
         ],
         "xaxis": "x",
         "y": [
          1,
          23,
          23,
          54
         ],
         "yaxis": "y"
        },
        {
         "alignmentgroup": "True",
         "bingroup": "x",
         "histfunc": "sum",
         "hovertemplate": "unit_died_name=Drone<br>killer_unit_name=%{x}<br>sum of count=%{y}<extra></extra>",
         "legendgroup": "Drone",
         "marker": {
          "color": "#FFA15A",
          "pattern": {
           "shape": ""
          }
         },
         "name": "Drone",
         "offsetgroup": "Drone",
         "orientation": "v",
         "showlegend": true,
         "type": "histogram",
         "x": [
          "Broodling",
          "Zergling",
          "BroodlingEscort",
          "Mutalisk"
         ],
         "xaxis": "x",
         "y": [
          1,
          3,
          25,
          50
         ],
         "yaxis": "y"
        },
        {
         "alignmentgroup": "True",
         "bingroup": "x",
         "histfunc": "sum",
         "hovertemplate": "unit_died_name=Queen<br>killer_unit_name=%{x}<br>sum of count=%{y}<extra></extra>",
         "legendgroup": "Queen",
         "marker": {
          "color": "#19d3f3",
          "pattern": {
           "shape": ""
          }
         },
         "name": "Queen",
         "offsetgroup": "Queen",
         "orientation": "v",
         "showlegend": true,
         "type": "histogram",
         "x": [
          "BroodlingEscort",
          "Mutalisk"
         ],
         "xaxis": "x",
         "y": [
          1,
          3
         ],
         "yaxis": "y"
        },
        {
         "alignmentgroup": "True",
         "bingroup": "x",
         "histfunc": "sum",
         "hovertemplate": "unit_died_name=Stalker<br>killer_unit_name=%{x}<br>sum of count=%{y}<extra></extra>",
         "legendgroup": "Stalker",
         "marker": {
          "color": "#FF6692",
          "pattern": {
           "shape": ""
          }
         },
         "name": "Stalker",
         "offsetgroup": "Stalker",
         "orientation": "v",
         "showlegend": true,
         "type": "histogram",
         "x": [
          "Mutalisk",
          "Queen"
         ],
         "xaxis": "x",
         "y": [
          1,
          1
         ],
         "yaxis": "y"
        },
        {
         "alignmentgroup": "True",
         "bingroup": "x",
         "histfunc": "sum",
         "hovertemplate": "unit_died_name=Overlord<br>killer_unit_name=%{x}<br>sum of count=%{y}<extra></extra>",
         "legendgroup": "Overlord",
         "marker": {
          "color": "#B6E880",
          "pattern": {
           "shape": ""
          }
         },
         "name": "Overlord",
         "offsetgroup": "Overlord",
         "orientation": "v",
         "showlegend": true,
         "type": "histogram",
         "x": [
          "SporeCrawler",
          "Queen",
          "Mutalisk"
         ],
         "xaxis": "x",
         "y": [
          1,
          2,
          3
         ],
         "yaxis": "y"
        },
        {
         "alignmentgroup": "True",
         "bingroup": "x",
         "histfunc": "sum",
         "hovertemplate": "unit_died_name=EvolutionChamber<br>killer_unit_name=%{x}<br>sum of count=%{y}<extra></extra>",
         "legendgroup": "EvolutionChamber",
         "marker": {
          "color": "#FF97FF",
          "pattern": {
           "shape": ""
          }
         },
         "name": "EvolutionChamber",
         "offsetgroup": "EvolutionChamber",
         "orientation": "v",
         "showlegend": true,
         "type": "histogram",
         "x": [
          "BroodlingEscort"
         ],
         "xaxis": "x",
         "y": [
          1
         ],
         "yaxis": "y"
        },
        {
         "alignmentgroup": "True",
         "bingroup": "x",
         "histfunc": "sum",
         "hovertemplate": "unit_died_name=InfestationPit<br>killer_unit_name=%{x}<br>sum of count=%{y}<extra></extra>",
         "legendgroup": "InfestationPit",
         "marker": {
          "color": "#FECB52",
          "pattern": {
           "shape": ""
          }
         },
         "name": "InfestationPit",
         "offsetgroup": "InfestationPit",
         "orientation": "v",
         "showlegend": true,
         "type": "histogram",
         "x": [
          "Broodling"
         ],
         "xaxis": "x",
         "y": [
          1
         ],
         "yaxis": "y"
        },
        {
         "alignmentgroup": "True",
         "bingroup": "x",
         "histfunc": "sum",
         "hovertemplate": "unit_died_name=Pylon<br>killer_unit_name=%{x}<br>sum of count=%{y}<extra></extra>",
         "legendgroup": "Pylon",
         "marker": {
          "color": "#636efa",
          "pattern": {
           "shape": ""
          }
         },
         "name": "Pylon",
         "offsetgroup": "Pylon",
         "orientation": "v",
         "showlegend": true,
         "type": "histogram",
         "x": [
          "BroodlingEscort"
         ],
         "xaxis": "x",
         "y": [
          2
         ],
         "yaxis": "y"
        },
        {
         "alignmentgroup": "True",
         "bingroup": "x",
         "histfunc": "sum",
         "hovertemplate": "unit_died_name=Mutalisk<br>killer_unit_name=%{x}<br>sum of count=%{y}<extra></extra>",
         "legendgroup": "Mutalisk",
         "marker": {
          "color": "#EF553B",
          "pattern": {
           "shape": ""
          }
         },
         "name": "Mutalisk",
         "offsetgroup": "Mutalisk",
         "orientation": "v",
         "showlegend": true,
         "type": "histogram",
         "x": [
          "Mutalisk",
          "SporeCrawler"
         ],
         "xaxis": "x",
         "y": [
          2,
          5
         ],
         "yaxis": "y"
        },
        {
         "alignmentgroup": "True",
         "bingroup": "x",
         "histfunc": "sum",
         "hovertemplate": "unit_died_name=Broodling<br>killer_unit_name=%{x}<br>sum of count=%{y}<extra></extra>",
         "legendgroup": "Broodling",
         "marker": {
          "color": "#00cc96",
          "pattern": {
           "shape": ""
          }
         },
         "name": "Broodling",
         "offsetgroup": "Broodling",
         "orientation": "v",
         "showlegend": true,
         "type": "histogram",
         "x": [
          "Zergling",
          "Mutalisk",
          "Broodling",
          "BroodlingEscort"
         ],
         "xaxis": "x",
         "y": [
          3,
          3,
          5,
          11
         ],
         "yaxis": "y"
        },
        {
         "alignmentgroup": "True",
         "bingroup": "x",
         "histfunc": "sum",
         "hovertemplate": "unit_died_name=Roach<br>killer_unit_name=%{x}<br>sum of count=%{y}<extra></extra>",
         "legendgroup": "Roach",
         "marker": {
          "color": "#ab63fa",
          "pattern": {
           "shape": ""
          }
         },
         "name": "Roach",
         "offsetgroup": "Roach",
         "orientation": "v",
         "showlegend": true,
         "type": "histogram",
         "x": [
          "BroodlingEscort"
         ],
         "xaxis": "x",
         "y": [
          6
         ],
         "yaxis": "y"
        }
       ],
       "layout": {
        "autosize": true,
        "barmode": "relative",
        "legend": {
         "title": {
          "text": "unit_died_name"
         },
         "tracegroupgap": 0
        },
        "margin": {
         "t": 60
        },
        "template": {
         "data": {
          "bar": [
           {
            "error_x": {
             "color": "#2a3f5f"
            },
            "error_y": {
             "color": "#2a3f5f"
            },
            "marker": {
             "line": {
              "color": "#E5ECF6",
              "width": 0.5
             },
             "pattern": {
              "fillmode": "overlay",
              "size": 10,
              "solidity": 0.2
             }
            },
            "type": "bar"
           }
          ],
          "barpolar": [
           {
            "marker": {
             "line": {
              "color": "#E5ECF6",
              "width": 0.5
             },
             "pattern": {
              "fillmode": "overlay",
              "size": 10,
              "solidity": 0.2
             }
            },
            "type": "barpolar"
           }
          ],
          "carpet": [
           {
            "aaxis": {
             "endlinecolor": "#2a3f5f",
             "gridcolor": "white",
             "linecolor": "white",
             "minorgridcolor": "white",
             "startlinecolor": "#2a3f5f"
            },
            "baxis": {
             "endlinecolor": "#2a3f5f",
             "gridcolor": "white",
             "linecolor": "white",
             "minorgridcolor": "white",
             "startlinecolor": "#2a3f5f"
            },
            "type": "carpet"
           }
          ],
          "choropleth": [
           {
            "colorbar": {
             "outlinewidth": 0,
             "ticks": ""
            },
            "type": "choropleth"
           }
          ],
          "contour": [
           {
            "colorbar": {
             "outlinewidth": 0,
             "ticks": ""
            },
            "colorscale": [
             [
              0,
              "#0d0887"
             ],
             [
              0.1111111111111111,
              "#46039f"
             ],
             [
              0.2222222222222222,
              "#7201a8"
             ],
             [
              0.3333333333333333,
              "#9c179e"
             ],
             [
              0.4444444444444444,
              "#bd3786"
             ],
             [
              0.5555555555555556,
              "#d8576b"
             ],
             [
              0.6666666666666666,
              "#ed7953"
             ],
             [
              0.7777777777777778,
              "#fb9f3a"
             ],
             [
              0.8888888888888888,
              "#fdca26"
             ],
             [
              1,
              "#f0f921"
             ]
            ],
            "type": "contour"
           }
          ],
          "contourcarpet": [
           {
            "colorbar": {
             "outlinewidth": 0,
             "ticks": ""
            },
            "type": "contourcarpet"
           }
          ],
          "heatmap": [
           {
            "colorbar": {
             "outlinewidth": 0,
             "ticks": ""
            },
            "colorscale": [
             [
              0,
              "#0d0887"
             ],
             [
              0.1111111111111111,
              "#46039f"
             ],
             [
              0.2222222222222222,
              "#7201a8"
             ],
             [
              0.3333333333333333,
              "#9c179e"
             ],
             [
              0.4444444444444444,
              "#bd3786"
             ],
             [
              0.5555555555555556,
              "#d8576b"
             ],
             [
              0.6666666666666666,
              "#ed7953"
             ],
             [
              0.7777777777777778,
              "#fb9f3a"
             ],
             [
              0.8888888888888888,
              "#fdca26"
             ],
             [
              1,
              "#f0f921"
             ]
            ],
            "type": "heatmap"
           }
          ],
          "heatmapgl": [
           {
            "colorbar": {
             "outlinewidth": 0,
             "ticks": ""
            },
            "colorscale": [
             [
              0,
              "#0d0887"
             ],
             [
              0.1111111111111111,
              "#46039f"
             ],
             [
              0.2222222222222222,
              "#7201a8"
             ],
             [
              0.3333333333333333,
              "#9c179e"
             ],
             [
              0.4444444444444444,
              "#bd3786"
             ],
             [
              0.5555555555555556,
              "#d8576b"
             ],
             [
              0.6666666666666666,
              "#ed7953"
             ],
             [
              0.7777777777777778,
              "#fb9f3a"
             ],
             [
              0.8888888888888888,
              "#fdca26"
             ],
             [
              1,
              "#f0f921"
             ]
            ],
            "type": "heatmapgl"
           }
          ],
          "histogram": [
           {
            "marker": {
             "pattern": {
              "fillmode": "overlay",
              "size": 10,
              "solidity": 0.2
             }
            },
            "type": "histogram"
           }
          ],
          "histogram2d": [
           {
            "colorbar": {
             "outlinewidth": 0,
             "ticks": ""
            },
            "colorscale": [
             [
              0,
              "#0d0887"
             ],
             [
              0.1111111111111111,
              "#46039f"
             ],
             [
              0.2222222222222222,
              "#7201a8"
             ],
             [
              0.3333333333333333,
              "#9c179e"
             ],
             [
              0.4444444444444444,
              "#bd3786"
             ],
             [
              0.5555555555555556,
              "#d8576b"
             ],
             [
              0.6666666666666666,
              "#ed7953"
             ],
             [
              0.7777777777777778,
              "#fb9f3a"
             ],
             [
              0.8888888888888888,
              "#fdca26"
             ],
             [
              1,
              "#f0f921"
             ]
            ],
            "type": "histogram2d"
           }
          ],
          "histogram2dcontour": [
           {
            "colorbar": {
             "outlinewidth": 0,
             "ticks": ""
            },
            "colorscale": [
             [
              0,
              "#0d0887"
             ],
             [
              0.1111111111111111,
              "#46039f"
             ],
             [
              0.2222222222222222,
              "#7201a8"
             ],
             [
              0.3333333333333333,
              "#9c179e"
             ],
             [
              0.4444444444444444,
              "#bd3786"
             ],
             [
              0.5555555555555556,
              "#d8576b"
             ],
             [
              0.6666666666666666,
              "#ed7953"
             ],
             [
              0.7777777777777778,
              "#fb9f3a"
             ],
             [
              0.8888888888888888,
              "#fdca26"
             ],
             [
              1,
              "#f0f921"
             ]
            ],
            "type": "histogram2dcontour"
           }
          ],
          "mesh3d": [
           {
            "colorbar": {
             "outlinewidth": 0,
             "ticks": ""
            },
            "type": "mesh3d"
           }
          ],
          "parcoords": [
           {
            "line": {
             "colorbar": {
              "outlinewidth": 0,
              "ticks": ""
             }
            },
            "type": "parcoords"
           }
          ],
          "pie": [
           {
            "automargin": true,
            "type": "pie"
           }
          ],
          "scatter": [
           {
            "fillpattern": {
             "fillmode": "overlay",
             "size": 10,
             "solidity": 0.2
            },
            "type": "scatter"
           }
          ],
          "scatter3d": [
           {
            "line": {
             "colorbar": {
              "outlinewidth": 0,
              "ticks": ""
             }
            },
            "marker": {
             "colorbar": {
              "outlinewidth": 0,
              "ticks": ""
             }
            },
            "type": "scatter3d"
           }
          ],
          "scattercarpet": [
           {
            "marker": {
             "colorbar": {
              "outlinewidth": 0,
              "ticks": ""
             }
            },
            "type": "scattercarpet"
           }
          ],
          "scattergeo": [
           {
            "marker": {
             "colorbar": {
              "outlinewidth": 0,
              "ticks": ""
             }
            },
            "type": "scattergeo"
           }
          ],
          "scattergl": [
           {
            "marker": {
             "colorbar": {
              "outlinewidth": 0,
              "ticks": ""
             }
            },
            "type": "scattergl"
           }
          ],
          "scattermapbox": [
           {
            "marker": {
             "colorbar": {
              "outlinewidth": 0,
              "ticks": ""
             }
            },
            "type": "scattermapbox"
           }
          ],
          "scatterpolar": [
           {
            "marker": {
             "colorbar": {
              "outlinewidth": 0,
              "ticks": ""
             }
            },
            "type": "scatterpolar"
           }
          ],
          "scatterpolargl": [
           {
            "marker": {
             "colorbar": {
              "outlinewidth": 0,
              "ticks": ""
             }
            },
            "type": "scatterpolargl"
           }
          ],
          "scatterternary": [
           {
            "marker": {
             "colorbar": {
              "outlinewidth": 0,
              "ticks": ""
             }
            },
            "type": "scatterternary"
           }
          ],
          "surface": [
           {
            "colorbar": {
             "outlinewidth": 0,
             "ticks": ""
            },
            "colorscale": [
             [
              0,
              "#0d0887"
             ],
             [
              0.1111111111111111,
              "#46039f"
             ],
             [
              0.2222222222222222,
              "#7201a8"
             ],
             [
              0.3333333333333333,
              "#9c179e"
             ],
             [
              0.4444444444444444,
              "#bd3786"
             ],
             [
              0.5555555555555556,
              "#d8576b"
             ],
             [
              0.6666666666666666,
              "#ed7953"
             ],
             [
              0.7777777777777778,
              "#fb9f3a"
             ],
             [
              0.8888888888888888,
              "#fdca26"
             ],
             [
              1,
              "#f0f921"
             ]
            ],
            "type": "surface"
           }
          ],
          "table": [
           {
            "cells": {
             "fill": {
              "color": "#EBF0F8"
             },
             "line": {
              "color": "white"
             }
            },
            "header": {
             "fill": {
              "color": "#C8D4E3"
             },
             "line": {
              "color": "white"
             }
            },
            "type": "table"
           }
          ]
         },
         "layout": {
          "annotationdefaults": {
           "arrowcolor": "#2a3f5f",
           "arrowhead": 0,
           "arrowwidth": 1
          },
          "autotypenumbers": "strict",
          "coloraxis": {
           "colorbar": {
            "outlinewidth": 0,
            "ticks": ""
           }
          },
          "colorscale": {
           "diverging": [
            [
             0,
             "#8e0152"
            ],
            [
             0.1,
             "#c51b7d"
            ],
            [
             0.2,
             "#de77ae"
            ],
            [
             0.3,
             "#f1b6da"
            ],
            [
             0.4,
             "#fde0ef"
            ],
            [
             0.5,
             "#f7f7f7"
            ],
            [
             0.6,
             "#e6f5d0"
            ],
            [
             0.7,
             "#b8e186"
            ],
            [
             0.8,
             "#7fbc41"
            ],
            [
             0.9,
             "#4d9221"
            ],
            [
             1,
             "#276419"
            ]
           ],
           "sequential": [
            [
             0,
             "#0d0887"
            ],
            [
             0.1111111111111111,
             "#46039f"
            ],
            [
             0.2222222222222222,
             "#7201a8"
            ],
            [
             0.3333333333333333,
             "#9c179e"
            ],
            [
             0.4444444444444444,
             "#bd3786"
            ],
            [
             0.5555555555555556,
             "#d8576b"
            ],
            [
             0.6666666666666666,
             "#ed7953"
            ],
            [
             0.7777777777777778,
             "#fb9f3a"
            ],
            [
             0.8888888888888888,
             "#fdca26"
            ],
            [
             1,
             "#f0f921"
            ]
           ],
           "sequentialminus": [
            [
             0,
             "#0d0887"
            ],
            [
             0.1111111111111111,
             "#46039f"
            ],
            [
             0.2222222222222222,
             "#7201a8"
            ],
            [
             0.3333333333333333,
             "#9c179e"
            ],
            [
             0.4444444444444444,
             "#bd3786"
            ],
            [
             0.5555555555555556,
             "#d8576b"
            ],
            [
             0.6666666666666666,
             "#ed7953"
            ],
            [
             0.7777777777777778,
             "#fb9f3a"
            ],
            [
             0.8888888888888888,
             "#fdca26"
            ],
            [
             1,
             "#f0f921"
            ]
           ]
          },
          "colorway": [
           "#636efa",
           "#EF553B",
           "#00cc96",
           "#ab63fa",
           "#FFA15A",
           "#19d3f3",
           "#FF6692",
           "#B6E880",
           "#FF97FF",
           "#FECB52"
          ],
          "font": {
           "color": "#2a3f5f"
          },
          "geo": {
           "bgcolor": "white",
           "lakecolor": "white",
           "landcolor": "#E5ECF6",
           "showlakes": true,
           "showland": true,
           "subunitcolor": "white"
          },
          "hoverlabel": {
           "align": "left"
          },
          "hovermode": "closest",
          "mapbox": {
           "style": "light"
          },
          "paper_bgcolor": "white",
          "plot_bgcolor": "#E5ECF6",
          "polar": {
           "angularaxis": {
            "gridcolor": "white",
            "linecolor": "white",
            "ticks": ""
           },
           "bgcolor": "#E5ECF6",
           "radialaxis": {
            "gridcolor": "white",
            "linecolor": "white",
            "ticks": ""
           }
          },
          "scene": {
           "xaxis": {
            "backgroundcolor": "#E5ECF6",
            "gridcolor": "white",
            "gridwidth": 2,
            "linecolor": "white",
            "showbackground": true,
            "ticks": "",
            "zerolinecolor": "white"
           },
           "yaxis": {
            "backgroundcolor": "#E5ECF6",
            "gridcolor": "white",
            "gridwidth": 2,
            "linecolor": "white",
            "showbackground": true,
            "ticks": "",
            "zerolinecolor": "white"
           },
           "zaxis": {
            "backgroundcolor": "#E5ECF6",
            "gridcolor": "white",
            "gridwidth": 2,
            "linecolor": "white",
            "showbackground": true,
            "ticks": "",
            "zerolinecolor": "white"
           }
          },
          "shapedefaults": {
           "line": {
            "color": "#2a3f5f"
           }
          },
          "ternary": {
           "aaxis": {
            "gridcolor": "white",
            "linecolor": "white",
            "ticks": ""
           },
           "baxis": {
            "gridcolor": "white",
            "linecolor": "white",
            "ticks": ""
           },
           "bgcolor": "#E5ECF6",
           "caxis": {
            "gridcolor": "white",
            "linecolor": "white",
            "ticks": ""
           }
          },
          "title": {
           "x": 0.05
          },
          "xaxis": {
           "automargin": true,
           "gridcolor": "white",
           "linecolor": "white",
           "ticks": "",
           "title": {
            "standoff": 15
           },
           "zerolinecolor": "white",
           "zerolinewidth": 2
          },
          "yaxis": {
           "automargin": true,
           "gridcolor": "white",
           "linecolor": "white",
           "ticks": "",
           "title": {
            "standoff": 15
           },
           "zerolinecolor": "white",
           "zerolinewidth": 2
          }
         }
        },
        "xaxis": {
         "anchor": "y",
         "autorange": true,
         "domain": [
          0,
          1
         ],
         "range": [
          -0.5,
          7.5
         ],
         "title": {
          "text": "killer_unit_name"
         },
         "type": "category"
        },
        "yaxis": {
         "anchor": "x",
         "autorange": true,
         "domain": [
          0,
          1
         ],
         "range": [
          0,
          132.6315789473684
         ],
         "title": {
          "text": "sum of count"
         },
         "type": "linear"
        }
       }
      },
      "image/png": "[encoded data removed]",
      "text/html": [
       "<div>                            <div id=\"fc0b333c-67bb-4f67-9803-c003dae5e06d\" class=\"plotly-graph-div\" style=\"height:525px; width:100%;\"></div>            <script type=\"text/javascript\">                require([\"plotly\"], function(Plotly) {                    window.PLOTLYENV=window.PLOTLYENV || {};                                    if (document.getElementById(\"fc0b333c-67bb-4f67-9803-c003dae5e06d\")) {                    Plotly.newPlot(                        \"fc0b333c-67bb-4f67-9803-c003dae5e06d\",                        [{\"alignmentgroup\":\"True\",\"bingroup\":\"x\",\"histfunc\":\"sum\",\"hovertemplate\":\"unit_died_name=HighTemplar\\u003cbr\\u003ekiller_unit_name=%{x}\\u003cbr\\u003esum of count=%{y}\\u003cextra\\u003e\\u003c\\u002fextra\\u003e\",\"legendgroup\":\"HighTemplar\",\"marker\":{\"color\":\"#636efa\",\"pattern\":{\"shape\":\"\"}},\"name\":\"HighTemplar\",\"offsetgroup\":\"HighTemplar\",\"orientation\":\"v\",\"showlegend\":true,\"x\":[\"Mutalisk\"],\"xaxis\":\"x\",\"y\":[1],\"yaxis\":\"y\",\"type\":\"histogram\"},{\"alignmentgroup\":\"True\",\"bingroup\":\"x\",\"histfunc\":\"sum\",\"hovertemplate\":\"unit_died_name=Zealot\\u003cbr\\u003ekiller_unit_name=%{x}\\u003cbr\\u003esum of count=%{y}\\u003cextra\\u003e\\u003c\\u002fextra\\u003e\",\"legendgroup\":\"Zealot\",\"marker\":{\"color\":\"#EF553B\",\"pattern\":{\"shape\":\"\"}},\"name\":\"Zealot\",\"offsetgroup\":\"Zealot\",\"orientation\":\"v\",\"showlegend\":true,\"x\":[\"Mutalisk\"],\"xaxis\":\"x\",\"y\":[1],\"yaxis\":\"y\",\"type\":\"histogram\"},{\"alignmentgroup\":\"True\",\"bingroup\":\"x\",\"histfunc\":\"sum\",\"hovertemplate\":\"unit_died_name=HydraliskDen\\u003cbr\\u003ekiller_unit_name=%{x}\\u003cbr\\u003esum of count=%{y}\\u003cextra\\u003e\\u003c\\u002fextra\\u003e\",\"legendgroup\":\"HydraliskDen\",\"marker\":{\"color\":\"#00cc96\",\"pattern\":{\"shape\":\"\"}},\"name\":\"HydraliskDen\",\"offsetgroup\":\"HydraliskDen\",\"orientation\":\"v\",\"showlegend\":true,\"x\":[\"BroodlingEscort\"],\"xaxis\":\"x\",\"y\":[1],\"yaxis\":\"y\",\"type\":\"histogram\"},{\"alignmentgroup\":\"True\",\"bingroup\":\"x\",\"histfunc\":\"sum\",\"hovertemplate\":\"unit_died_name=Sentry\\u003cbr\\u003ekiller_unit_name=%{x}\\u003cbr\\u003esum of count=%{y}\\u003cextra\\u003e\\u003c\\u002fextra\\u003e\",\"legendgroup\":\"Sentry\",\"marker\":{\"color\":\"#ab63fa\",\"pattern\":{\"shape\":\"\"}},\"name\":\"Sentry\",\"offsetgroup\":\"Sentry\",\"orientation\":\"v\",\"showlegend\":true,\"x\":[\"Mutalisk\"],\"xaxis\":\"x\",\"y\":[1],\"yaxis\":\"y\",\"type\":\"histogram\"},{\"alignmentgroup\":\"True\",\"bingroup\":\"x\",\"histfunc\":\"sum\",\"hovertemplate\":\"unit_died_name=Archon\\u003cbr\\u003ekiller_unit_name=%{x}\\u003cbr\\u003esum of count=%{y}\\u003cextra\\u003e\\u003c\\u002fextra\\u003e\",\"legendgroup\":\"Archon\",\"marker\":{\"color\":\"#FFA15A\",\"pattern\":{\"shape\":\"\"}},\"name\":\"Archon\",\"offsetgroup\":\"Archon\",\"orientation\":\"v\",\"showlegend\":true,\"x\":[\"Queen\"],\"xaxis\":\"x\",\"y\":[1],\"yaxis\":\"y\",\"type\":\"histogram\"},{\"alignmentgroup\":\"True\",\"bingroup\":\"x\",\"histfunc\":\"sum\",\"hovertemplate\":\"unit_died_name=Assimilator\\u003cbr\\u003ekiller_unit_name=%{x}\\u003cbr\\u003esum of count=%{y}\\u003cextra\\u003e\\u003c\\u002fextra\\u003e\",\"legendgroup\":\"Assimilator\",\"marker\":{\"color\":\"#19d3f3\",\"pattern\":{\"shape\":\"\"}},\"name\":\"Assimilator\",\"offsetgroup\":\"Assimilator\",\"orientation\":\"v\",\"showlegend\":true,\"x\":[\"BroodlingEscort\",\"Mutalisk\",\"Broodling\"],\"xaxis\":\"x\",\"y\":[1,1,2],\"yaxis\":\"y\",\"type\":\"histogram\"},{\"alignmentgroup\":\"True\",\"bingroup\":\"x\",\"histfunc\":\"sum\",\"hovertemplate\":\"unit_died_name=Spire\\u003cbr\\u003ekiller_unit_name=%{x}\\u003cbr\\u003esum of count=%{y}\\u003cextra\\u003e\\u003c\\u002fextra\\u003e\",\"legendgroup\":\"Spire\",\"marker\":{\"color\":\"#FF6692\",\"pattern\":{\"shape\":\"\"}},\"name\":\"Spire\",\"offsetgroup\":\"Spire\",\"orientation\":\"v\",\"showlegend\":true,\"x\":[\"Broodling\"],\"xaxis\":\"x\",\"y\":[1],\"yaxis\":\"y\",\"type\":\"histogram\"},{\"alignmentgroup\":\"True\",\"bingroup\":\"x\",\"histfunc\":\"sum\",\"hovertemplate\":\"unit_died_name=SporeCrawler\\u003cbr\\u003ekiller_unit_name=%{x}\\u003cbr\\u003esum of count=%{y}\\u003cextra\\u003e\\u003c\\u002fextra\\u003e\",\"legendgroup\":\"SporeCrawler\",\"marker\":{\"color\":\"#B6E880\",\"pattern\":{\"shape\":\"\"}},\"name\":\"SporeCrawler\",\"offsetgroup\":\"SporeCrawler\",\"orientation\":\"v\",\"showlegend\":true,\"x\":[\"BroodlingEscort\"],\"xaxis\":\"x\",\"y\":[1],\"yaxis\":\"y\",\"type\":\"histogram\"},{\"alignmentgroup\":\"True\",\"bingroup\":\"x\",\"histfunc\":\"sum\",\"hovertemplate\":\"unit_died_name=Zergling\\u003cbr\\u003ekiller_unit_name=%{x}\\u003cbr\\u003esum of count=%{y}\\u003cextra\\u003e\\u003c\\u002fextra\\u003e\",\"legendgroup\":\"Zergling\",\"marker\":{\"color\":\"#FF97FF\",\"pattern\":{\"shape\":\"\"}},\"name\":\"Zergling\",\"offsetgroup\":\"Zergling\",\"orientation\":\"v\",\"showlegend\":true,\"x\":[\"Zergling\",\"Mutalisk\",\"SpineCrawler\",\"Broodling\",\"BroodlingEscort\"],\"xaxis\":\"x\",\"y\":[1,3,6,7,18],\"yaxis\":\"y\",\"type\":\"histogram\"},{\"alignmentgroup\":\"True\",\"bingroup\":\"x\",\"histfunc\":\"sum\",\"hovertemplate\":\"unit_died_name=Nexus\\u003cbr\\u003ekiller_unit_name=%{x}\\u003cbr\\u003esum of count=%{y}\\u003cextra\\u003e\\u003c\\u002fextra\\u003e\",\"legendgroup\":\"Nexus\",\"marker\":{\"color\":\"#FECB52\",\"pattern\":{\"shape\":\"\"}},\"name\":\"Nexus\",\"offsetgroup\":\"Nexus\",\"orientation\":\"v\",\"showlegend\":true,\"x\":[\"Corruptor\",\"BroodlingEscort\"],\"xaxis\":\"x\",\"y\":[1,2],\"yaxis\":\"y\",\"type\":\"histogram\"},{\"alignmentgroup\":\"True\",\"bingroup\":\"x\",\"histfunc\":\"sum\",\"hovertemplate\":\"unit_died_name=Hatchery\\u003cbr\\u003ekiller_unit_name=%{x}\\u003cbr\\u003esum of count=%{y}\\u003cextra\\u003e\\u003c\\u002fextra\\u003e\",\"legendgroup\":\"Hatchery\",\"marker\":{\"color\":\"#636efa\",\"pattern\":{\"shape\":\"\"}},\"name\":\"Hatchery\",\"offsetgroup\":\"Hatchery\",\"orientation\":\"v\",\"showlegend\":true,\"x\":[\"Corruptor\",\"Mutalisk\"],\"xaxis\":\"x\",\"y\":[1,2],\"yaxis\":\"y\",\"type\":\"histogram\"},{\"alignmentgroup\":\"True\",\"bingroup\":\"x\",\"histfunc\":\"sum\",\"hovertemplate\":\"unit_died_name=SpineCrawler\\u003cbr\\u003ekiller_unit_name=%{x}\\u003cbr\\u003esum of count=%{y}\\u003cextra\\u003e\\u003c\\u002fextra\\u003e\",\"legendgroup\":\"SpineCrawler\",\"marker\":{\"color\":\"#EF553B\",\"pattern\":{\"shape\":\"\"}},\"name\":\"SpineCrawler\",\"offsetgroup\":\"SpineCrawler\",\"orientation\":\"v\",\"showlegend\":true,\"x\":[\"Broodling\",\"BroodlingEscort\"],\"xaxis\":\"x\",\"y\":[1,2],\"yaxis\":\"y\",\"type\":\"histogram\"},{\"alignmentgroup\":\"True\",\"bingroup\":\"x\",\"histfunc\":\"sum\",\"hovertemplate\":\"unit_died_name=Extractor\\u003cbr\\u003ekiller_unit_name=%{x}\\u003cbr\\u003esum of count=%{y}\\u003cextra\\u003e\\u003c\\u002fextra\\u003e\",\"legendgroup\":\"Extractor\",\"marker\":{\"color\":\"#00cc96\",\"pattern\":{\"shape\":\"\"}},\"name\":\"Extractor\",\"offsetgroup\":\"Extractor\",\"orientation\":\"v\",\"showlegend\":true,\"x\":[\"Mutalisk\",\"Broodling\",\"BroodlingEscort\"],\"xaxis\":\"x\",\"y\":[1,1,2],\"yaxis\":\"y\",\"type\":\"histogram\"},{\"alignmentgroup\":\"True\",\"bingroup\":\"x\",\"histfunc\":\"sum\",\"hovertemplate\":\"unit_died_name=Probe\\u003cbr\\u003ekiller_unit_name=%{x}\\u003cbr\\u003esum of count=%{y}\\u003cextra\\u003e\\u003c\\u002fextra\\u003e\",\"legendgroup\":\"Probe\",\"marker\":{\"color\":\"#ab63fa\",\"pattern\":{\"shape\":\"\"}},\"name\":\"Probe\",\"offsetgroup\":\"Probe\",\"orientation\":\"v\",\"showlegend\":true,\"x\":[\"SpineCrawler\",\"BroodlingEscort\",\"Broodling\",\"Mutalisk\"],\"xaxis\":\"x\",\"y\":[1,23,23,54],\"yaxis\":\"y\",\"type\":\"histogram\"},{\"alignmentgroup\":\"True\",\"bingroup\":\"x\",\"histfunc\":\"sum\",\"hovertemplate\":\"unit_died_name=Drone\\u003cbr\\u003ekiller_unit_name=%{x}\\u003cbr\\u003esum of count=%{y}\\u003cextra\\u003e\\u003c\\u002fextra\\u003e\",\"legendgroup\":\"Drone\",\"marker\":{\"color\":\"#FFA15A\",\"pattern\":{\"shape\":\"\"}},\"name\":\"Drone\",\"offsetgroup\":\"Drone\",\"orientation\":\"v\",\"showlegend\":true,\"x\":[\"Broodling\",\"Zergling\",\"BroodlingEscort\",\"Mutalisk\"],\"xaxis\":\"x\",\"y\":[1,3,25,50],\"yaxis\":\"y\",\"type\":\"histogram\"},{\"alignmentgroup\":\"True\",\"bingroup\":\"x\",\"histfunc\":\"sum\",\"hovertemplate\":\"unit_died_name=Queen\\u003cbr\\u003ekiller_unit_name=%{x}\\u003cbr\\u003esum of count=%{y}\\u003cextra\\u003e\\u003c\\u002fextra\\u003e\",\"legendgroup\":\"Queen\",\"marker\":{\"color\":\"#19d3f3\",\"pattern\":{\"shape\":\"\"}},\"name\":\"Queen\",\"offsetgroup\":\"Queen\",\"orientation\":\"v\",\"showlegend\":true,\"x\":[\"BroodlingEscort\",\"Mutalisk\"],\"xaxis\":\"x\",\"y\":[1,3],\"yaxis\":\"y\",\"type\":\"histogram\"},{\"alignmentgroup\":\"True\",\"bingroup\":\"x\",\"histfunc\":\"sum\",\"hovertemplate\":\"unit_died_name=Stalker\\u003cbr\\u003ekiller_unit_name=%{x}\\u003cbr\\u003esum of count=%{y}\\u003cextra\\u003e\\u003c\\u002fextra\\u003e\",\"legendgroup\":\"Stalker\",\"marker\":{\"color\":\"#FF6692\",\"pattern\":{\"shape\":\"\"}},\"name\":\"Stalker\",\"offsetgroup\":\"Stalker\",\"orientation\":\"v\",\"showlegend\":true,\"x\":[\"Mutalisk\",\"Queen\"],\"xaxis\":\"x\",\"y\":[1,1],\"yaxis\":\"y\",\"type\":\"histogram\"},{\"alignmentgroup\":\"True\",\"bingroup\":\"x\",\"histfunc\":\"sum\",\"hovertemplate\":\"unit_died_name=Overlord\\u003cbr\\u003ekiller_unit_name=%{x}\\u003cbr\\u003esum of count=%{y}\\u003cextra\\u003e\\u003c\\u002fextra\\u003e\",\"legendgroup\":\"Overlord\",\"marker\":{\"color\":\"#B6E880\",\"pattern\":{\"shape\":\"\"}},\"name\":\"Overlord\",\"offsetgroup\":\"Overlord\",\"orientation\":\"v\",\"showlegend\":true,\"x\":[\"SporeCrawler\",\"Queen\",\"Mutalisk\"],\"xaxis\":\"x\",\"y\":[1,2,3],\"yaxis\":\"y\",\"type\":\"histogram\"},{\"alignmentgroup\":\"True\",\"bingroup\":\"x\",\"histfunc\":\"sum\",\"hovertemplate\":\"unit_died_name=EvolutionChamber\\u003cbr\\u003ekiller_unit_name=%{x}\\u003cbr\\u003esum of count=%{y}\\u003cextra\\u003e\\u003c\\u002fextra\\u003e\",\"legendgroup\":\"EvolutionChamber\",\"marker\":{\"color\":\"#FF97FF\",\"pattern\":{\"shape\":\"\"}},\"name\":\"EvolutionChamber\",\"offsetgroup\":\"EvolutionChamber\",\"orientation\":\"v\",\"showlegend\":true,\"x\":[\"BroodlingEscort\"],\"xaxis\":\"x\",\"y\":[1],\"yaxis\":\"y\",\"type\":\"histogram\"},{\"alignmentgroup\":\"True\",\"bingroup\":\"x\",\"histfunc\":\"sum\",\"hovertemplate\":\"unit_died_name=InfestationPit\\u003cbr\\u003ekiller_unit_name=%{x}\\u003cbr\\u003esum of count=%{y}\\u003cextra\\u003e\\u003c\\u002fextra\\u003e\",\"legendgroup\":\"InfestationPit\",\"marker\":{\"color\":\"#FECB52\",\"pattern\":{\"shape\":\"\"}},\"name\":\"InfestationPit\",\"offsetgroup\":\"InfestationPit\",\"orientation\":\"v\",\"showlegend\":true,\"x\":[\"Broodling\"],\"xaxis\":\"x\",\"y\":[1],\"yaxis\":\"y\",\"type\":\"histogram\"},{\"alignmentgroup\":\"True\",\"bingroup\":\"x\",\"histfunc\":\"sum\",\"hovertemplate\":\"unit_died_name=Pylon\\u003cbr\\u003ekiller_unit_name=%{x}\\u003cbr\\u003esum of count=%{y}\\u003cextra\\u003e\\u003c\\u002fextra\\u003e\",\"legendgroup\":\"Pylon\",\"marker\":{\"color\":\"#636efa\",\"pattern\":{\"shape\":\"\"}},\"name\":\"Pylon\",\"offsetgroup\":\"Pylon\",\"orientation\":\"v\",\"showlegend\":true,\"x\":[\"BroodlingEscort\"],\"xaxis\":\"x\",\"y\":[2],\"yaxis\":\"y\",\"type\":\"histogram\"},{\"alignmentgroup\":\"True\",\"bingroup\":\"x\",\"histfunc\":\"sum\",\"hovertemplate\":\"unit_died_name=Mutalisk\\u003cbr\\u003ekiller_unit_name=%{x}\\u003cbr\\u003esum of count=%{y}\\u003cextra\\u003e\\u003c\\u002fextra\\u003e\",\"legendgroup\":\"Mutalisk\",\"marker\":{\"color\":\"#EF553B\",\"pattern\":{\"shape\":\"\"}},\"name\":\"Mutalisk\",\"offsetgroup\":\"Mutalisk\",\"orientation\":\"v\",\"showlegend\":true,\"x\":[\"Mutalisk\",\"SporeCrawler\"],\"xaxis\":\"x\",\"y\":[2,5],\"yaxis\":\"y\",\"type\":\"histogram\"},{\"alignmentgroup\":\"True\",\"bingroup\":\"x\",\"histfunc\":\"sum\",\"hovertemplate\":\"unit_died_name=Broodling\\u003cbr\\u003ekiller_unit_name=%{x}\\u003cbr\\u003esum of count=%{y}\\u003cextra\\u003e\\u003c\\u002fextra\\u003e\",\"legendgroup\":\"Broodling\",\"marker\":{\"color\":\"#00cc96\",\"pattern\":{\"shape\":\"\"}},\"name\":\"Broodling\",\"offsetgroup\":\"Broodling\",\"orientation\":\"v\",\"showlegend\":true,\"x\":[\"Zergling\",\"Mutalisk\",\"Broodling\",\"BroodlingEscort\"],\"xaxis\":\"x\",\"y\":[3,3,5,11],\"yaxis\":\"y\",\"type\":\"histogram\"},{\"alignmentgroup\":\"True\",\"bingroup\":\"x\",\"histfunc\":\"sum\",\"hovertemplate\":\"unit_died_name=Roach\\u003cbr\\u003ekiller_unit_name=%{x}\\u003cbr\\u003esum of count=%{y}\\u003cextra\\u003e\\u003c\\u002fextra\\u003e\",\"legendgroup\":\"Roach\",\"marker\":{\"color\":\"#ab63fa\",\"pattern\":{\"shape\":\"\"}},\"name\":\"Roach\",\"offsetgroup\":\"Roach\",\"orientation\":\"v\",\"showlegend\":true,\"x\":[\"BroodlingEscort\"],\"xaxis\":\"x\",\"y\":[6],\"yaxis\":\"y\",\"type\":\"histogram\"}],                        {\"template\":{\"data\":{\"histogram2dcontour\":[{\"type\":\"histogram2dcontour\",\"colorbar\":{\"outlinewidth\":0,\"ticks\":\"\"},\"colorscale\":[[0.0,\"#0d0887\"],[0.1111111111111111,\"#46039f\"],[0.2222222222222222,\"#7201a8\"],[0.3333333333333333,\"#9c179e\"],[0.4444444444444444,\"#bd3786\"],[0.5555555555555556,\"#d8576b\"],[0.6666666666666666,\"#ed7953\"],[0.7777777777777778,\"#fb9f3a\"],[0.8888888888888888,\"#fdca26\"],[1.0,\"#f0f921\"]]}],\"choropleth\":[{\"type\":\"choropleth\",\"colorbar\":{\"outlinewidth\":0,\"ticks\":\"\"}}],\"histogram2d\":[{\"type\":\"histogram2d\",\"colorbar\":{\"outlinewidth\":0,\"ticks\":\"\"},\"colorscale\":[[0.0,\"#0d0887\"],[0.1111111111111111,\"#46039f\"],[0.2222222222222222,\"#7201a8\"],[0.3333333333333333,\"#9c179e\"],[0.4444444444444444,\"#bd3786\"],[0.5555555555555556,\"#d8576b\"],[0.6666666666666666,\"#ed7953\"],[0.7777777777777778,\"#fb9f3a\"],[0.8888888888888888,\"#fdca26\"],[1.0,\"#f0f921\"]]}],\"heatmap\":[{\"type\":\"heatmap\",\"colorbar\":{\"outlinewidth\":0,\"ticks\":\"\"},\"colorscale\":[[0.0,\"#0d0887\"],[0.1111111111111111,\"#46039f\"],[0.2222222222222222,\"#7201a8\"],[0.3333333333333333,\"#9c179e\"],[0.4444444444444444,\"#bd3786\"],[0.5555555555555556,\"#d8576b\"],[0.6666666666666666,\"#ed7953\"],[0.7777777777777778,\"#fb9f3a\"],[0.8888888888888888,\"#fdca26\"],[1.0,\"#f0f921\"]]}],\"heatmapgl\":[{\"type\":\"heatmapgl\",\"colorbar\":{\"outlinewidth\":0,\"ticks\":\"\"},\"colorscale\":[[0.0,\"#0d0887\"],[0.1111111111111111,\"#46039f\"],[0.2222222222222222,\"#7201a8\"],[0.3333333333333333,\"#9c179e\"],[0.4444444444444444,\"#bd3786\"],[0.5555555555555556,\"#d8576b\"],[0.6666666666666666,\"#ed7953\"],[0.7777777777777778,\"#fb9f3a\"],[0.8888888888888888,\"#fdca26\"],[1.0,\"#f0f921\"]]}],\"contourcarpet\":[{\"type\":\"contourcarpet\",\"colorbar\":{\"outlinewidth\":0,\"ticks\":\"\"}}],\"contour\":[{\"type\":\"contour\",\"colorbar\":{\"outlinewidth\":0,\"ticks\":\"\"},\"colorscale\":[[0.0,\"#0d0887\"],[0.1111111111111111,\"#46039f\"],[0.2222222222222222,\"#7201a8\"],[0.3333333333333333,\"#9c179e\"],[0.4444444444444444,\"#bd3786\"],[0.5555555555555556,\"#d8576b\"],[0.6666666666666666,\"#ed7953\"],[0.7777777777777778,\"#fb9f3a\"],[0.8888888888888888,\"#fdca26\"],[1.0,\"#f0f921\"]]}],\"surface\":[{\"type\":\"surface\",\"colorbar\":{\"outlinewidth\":0,\"ticks\":\"\"},\"colorscale\":[[0.0,\"#0d0887\"],[0.1111111111111111,\"#46039f\"],[0.2222222222222222,\"#7201a8\"],[0.3333333333333333,\"#9c179e\"],[0.4444444444444444,\"#bd3786\"],[0.5555555555555556,\"#d8576b\"],[0.6666666666666666,\"#ed7953\"],[0.7777777777777778,\"#fb9f3a\"],[0.8888888888888888,\"#fdca26\"],[1.0,\"#f0f921\"]]}],\"mesh3d\":[{\"type\":\"mesh3d\",\"colorbar\":{\"outlinewidth\":0,\"ticks\":\"\"}}],\"scatter\":[{\"fillpattern\":{\"fillmode\":\"overlay\",\"size\":10,\"solidity\":0.2},\"type\":\"scatter\"}],\"parcoords\":[{\"type\":\"parcoords\",\"line\":{\"colorbar\":{\"outlinewidth\":0,\"ticks\":\"\"}}}],\"scatterpolargl\":[{\"type\":\"scatterpolargl\",\"marker\":{\"colorbar\":{\"outlinewidth\":0,\"ticks\":\"\"}}}],\"bar\":[{\"error_x\":{\"color\":\"#2a3f5f\"},\"error_y\":{\"color\":\"#2a3f5f\"},\"marker\":{\"line\":{\"color\":\"#E5ECF6\",\"width\":0.5},\"pattern\":{\"fillmode\":\"overlay\",\"size\":10,\"solidity\":0.2}},\"type\":\"bar\"}],\"scattergeo\":[{\"type\":\"scattergeo\",\"marker\":{\"colorbar\":{\"outlinewidth\":0,\"ticks\":\"\"}}}],\"scatterpolar\":[{\"type\":\"scatterpolar\",\"marker\":{\"colorbar\":{\"outlinewidth\":0,\"ticks\":\"\"}}}],\"histogram\":[{\"marker\":{\"pattern\":{\"fillmode\":\"overlay\",\"size\":10,\"solidity\":0.2}},\"type\":\"histogram\"}],\"scattergl\":[{\"type\":\"scattergl\",\"marker\":{\"colorbar\":{\"outlinewidth\":0,\"ticks\":\"\"}}}],\"scatter3d\":[{\"type\":\"scatter3d\",\"line\":{\"colorbar\":{\"outlinewidth\":0,\"ticks\":\"\"}},\"marker\":{\"colorbar\":{\"outlinewidth\":0,\"ticks\":\"\"}}}],\"scattermapbox\":[{\"type\":\"scattermapbox\",\"marker\":{\"colorbar\":{\"outlinewidth\":0,\"ticks\":\"\"}}}],\"scatterternary\":[{\"type\":\"scatterternary\",\"marker\":{\"colorbar\":{\"outlinewidth\":0,\"ticks\":\"\"}}}],\"scattercarpet\":[{\"type\":\"scattercarpet\",\"marker\":{\"colorbar\":{\"outlinewidth\":0,\"ticks\":\"\"}}}],\"carpet\":[{\"aaxis\":{\"endlinecolor\":\"#2a3f5f\",\"gridcolor\":\"white\",\"linecolor\":\"white\",\"minorgridcolor\":\"white\",\"startlinecolor\":\"#2a3f5f\"},\"baxis\":{\"endlinecolor\":\"#2a3f5f\",\"gridcolor\":\"white\",\"linecolor\":\"white\",\"minorgridcolor\":\"white\",\"startlinecolor\":\"#2a3f5f\"},\"type\":\"carpet\"}],\"table\":[{\"cells\":{\"fill\":{\"color\":\"#EBF0F8\"},\"line\":{\"color\":\"white\"}},\"header\":{\"fill\":{\"color\":\"#C8D4E3\"},\"line\":{\"color\":\"white\"}},\"type\":\"table\"}],\"barpolar\":[{\"marker\":{\"line\":{\"color\":\"#E5ECF6\",\"width\":0.5},\"pattern\":{\"fillmode\":\"overlay\",\"size\":10,\"solidity\":0.2}},\"type\":\"barpolar\"}],\"pie\":[{\"automargin\":true,\"type\":\"pie\"}]},\"layout\":{\"autotypenumbers\":\"strict\",\"colorway\":[\"#636efa\",\"#EF553B\",\"#00cc96\",\"#ab63fa\",\"#FFA15A\",\"#19d3f3\",\"#FF6692\",\"#B6E880\",\"#FF97FF\",\"#FECB52\"],\"font\":{\"color\":\"#2a3f5f\"},\"hovermode\":\"closest\",\"hoverlabel\":{\"align\":\"left\"},\"paper_bgcolor\":\"white\",\"plot_bgcolor\":\"#E5ECF6\",\"polar\":{\"bgcolor\":\"#E5ECF6\",\"angularaxis\":{\"gridcolor\":\"white\",\"linecolor\":\"white\",\"ticks\":\"\"},\"radialaxis\":{\"gridcolor\":\"white\",\"linecolor\":\"white\",\"ticks\":\"\"}},\"ternary\":{\"bgcolor\":\"#E5ECF6\",\"aaxis\":{\"gridcolor\":\"white\",\"linecolor\":\"white\",\"ticks\":\"\"},\"baxis\":{\"gridcolor\":\"white\",\"linecolor\":\"white\",\"ticks\":\"\"},\"caxis\":{\"gridcolor\":\"white\",\"linecolor\":\"white\",\"ticks\":\"\"}},\"coloraxis\":{\"colorbar\":{\"outlinewidth\":0,\"ticks\":\"\"}},\"colorscale\":{\"sequential\":[[0.0,\"#0d0887\"],[0.1111111111111111,\"#46039f\"],[0.2222222222222222,\"#7201a8\"],[0.3333333333333333,\"#9c179e\"],[0.4444444444444444,\"#bd3786\"],[0.5555555555555556,\"#d8576b\"],[0.6666666666666666,\"#ed7953\"],[0.7777777777777778,\"#fb9f3a\"],[0.8888888888888888,\"#fdca26\"],[1.0,\"#f0f921\"]],\"sequentialminus\":[[0.0,\"#0d0887\"],[0.1111111111111111,\"#46039f\"],[0.2222222222222222,\"#7201a8\"],[0.3333333333333333,\"#9c179e\"],[0.4444444444444444,\"#bd3786\"],[0.5555555555555556,\"#d8576b\"],[0.6666666666666666,\"#ed7953\"],[0.7777777777777778,\"#fb9f3a\"],[0.8888888888888888,\"#fdca26\"],[1.0,\"#f0f921\"]],\"diverging\":[[0,\"#8e0152\"],[0.1,\"#c51b7d\"],[0.2,\"#de77ae\"],[0.3,\"#f1b6da\"],[0.4,\"#fde0ef\"],[0.5,\"#f7f7f7\"],[0.6,\"#e6f5d0\"],[0.7,\"#b8e186\"],[0.8,\"#7fbc41\"],[0.9,\"#4d9221\"],[1,\"#276419\"]]},\"xaxis\":{\"gridcolor\":\"white\",\"linecolor\":\"white\",\"ticks\":\"\",\"title\":{\"standoff\":15},\"zerolinecolor\":\"white\",\"automargin\":true,\"zerolinewidth\":2},\"yaxis\":{\"gridcolor\":\"white\",\"linecolor\":\"white\",\"ticks\":\"\",\"title\":{\"standoff\":15},\"zerolinecolor\":\"white\",\"automargin\":true,\"zerolinewidth\":2},\"scene\":{\"xaxis\":{\"backgroundcolor\":\"#E5ECF6\",\"gridcolor\":\"white\",\"linecolor\":\"white\",\"showbackground\":true,\"ticks\":\"\",\"zerolinecolor\":\"white\",\"gridwidth\":2},\"yaxis\":{\"backgroundcolor\":\"#E5ECF6\",\"gridcolor\":\"white\",\"linecolor\":\"white\",\"showbackground\":true,\"ticks\":\"\",\"zerolinecolor\":\"white\",\"gridwidth\":2},\"zaxis\":{\"backgroundcolor\":\"#E5ECF6\",\"gridcolor\":\"white\",\"linecolor\":\"white\",\"showbackground\":true,\"ticks\":\"\",\"zerolinecolor\":\"white\",\"gridwidth\":2}},\"shapedefaults\":{\"line\":{\"color\":\"#2a3f5f\"}},\"annotationdefaults\":{\"arrowcolor\":\"#2a3f5f\",\"arrowhead\":0,\"arrowwidth\":1},\"geo\":{\"bgcolor\":\"white\",\"landcolor\":\"#E5ECF6\",\"subunitcolor\":\"white\",\"showland\":true,\"showlakes\":true,\"lakecolor\":\"white\"},\"title\":{\"x\":0.05},\"mapbox\":{\"style\":\"light\"}}},\"xaxis\":{\"anchor\":\"y\",\"domain\":[0.0,1.0],\"title\":{\"text\":\"killer_unit_name\"}},\"yaxis\":{\"anchor\":\"x\",\"domain\":[0.0,1.0],\"title\":{\"text\":\"sum of count\"}},\"legend\":{\"title\":{\"text\":\"unit_died_name\"},\"tracegroupgap\":0},\"margin\":{\"t\":60},\"barmode\":\"relative\"},                        {\"responsive\": true}                    ).then(function(){\n",
       "                            \n",
       "var gd = document.getElementById('fc0b333c-67bb-4f67-9803-c003dae5e06d');\n",
       "var x = new MutationObserver(function (mutations, observer) {{\n",
       "        var display = window.getComputedStyle(gd).display;\n",
       "        if (!display || display === 'none') {{\n",
       "            console.log([gd, 'removed!']);\n",
       "            Plotly.purge(gd);\n",
       "            observer.disconnect();\n",
       "        }}\n",
       "}});\n",
       "\n",
       "// Listen for the removal of the full notebook cells\n",
       "var notebookContainer = gd.closest('#notebook-container');\n",
       "if (notebookContainer) {{\n",
       "    x.observe(notebookContainer, {childList: true});\n",
       "}}\n",
       "\n",
       "// Listen for the clearing of the current output cell\n",
       "var outputEl = gd.closest('.output');\n",
       "if (outputEl) {{\n",
       "    x.observe(outputEl, {childList: true});\n",
       "}}\n",
       "\n",
       "                        })                };                });            </script>        </div>"
      ]
     },
     "metadata": {},
     "output_type": "display_data"
    }
   ],
   "source": [
    "unit_died_ec_le = (\n",
    "    unit_died_df.join(details_df, on=\"ext_fs_replay_sha256\", how=\"inner\")\n",
    "    .filter(\n",
    "        (pl.col(\"ext_replay_detail_killer_player_name\") == \"2-1-8459957-Sazed\")\n",
    "        & (\n",
    "            pl.col(\"ext_fs_replay_sha256\")\n",
    "            == \"bcdc9f4529f33d8dc195e077a3efc8f2f5d171629589810258ce9c3b2884d606\"\n",
    "        )\n",
    "        & (pl.col(\"killer_unit_name\") != \"\")\n",
    "    )\n",
    "    .select(\n",
    "        [\n",
    "            pl.col(\"ext_replay_detail_killer_player_name\"),\n",
    "            pl.col(\"unit_died_name\"),\n",
    "            pl.col(\"unit_tag_index\"),\n",
    "            pl.col(\"killer_unit_name\"),\n",
    "            pl.col(\"killer_unit_tag_index\"),\n",
    "            pl.col(\"ext_replay_loop\"),\n",
    "            pl.col(\"ext_replay_seconds\"),\n",
    "        ]\n",
    "    )\n",
    ")\n",
    "unit_died_freq = (\n",
    "    unit_died_ec_le.group_by([\"killer_unit_name\",\"unit_died_name\"])\n",
    "    .agg(pl.count().alias(\"count\"))\n",
    "    .collect()\n",
    "    .sort(\"count\")\n",
    ")\n",
    "fig = px.histogram(unit_died_freq, x=\"killer_unit_name\", y=\"count\", color=\"unit_died_name\")\n",
    "fig.show()"
   ]
  },
  {
   "cell_type": "code",
   "execution_count": 100,
   "id": "f5ce5d6d-dce1-4a79-94ac-0f6f1957cb6a",
   "metadata": {},
   "outputs": [
    {
     "data": {
      "application/vnd.plotly.v1+json": {
       "config": {
        "plotlyServerURL": "https://plot.ly"
       },
       "data": [
        {
         "dimensions": [
          {
           "axis": {
            "matches": true
           },
           "label": "x",
           "values": [
            57,
            165,
            143,
            159,
            143,
            138,
            144,
            113,
            166,
            33,
            54,
            57,
            88,
            146,
            168,
            108,
            59,
            56,
            167,
            169,
            164,
            164,
            170,
            141,
            110,
            30,
            30,
            30,
            35,
            31,
            141,
            53,
            163,
            160,
            148,
            65,
            31,
            34,
            166,
            59,
            60,
            168,
            143,
            109,
            159,
            158,
            147,
            168,
            55,
            32,
            56,
            58,
            169,
            143,
            140,
            139,
            32,
            30,
            34,
            33,
            144,
            35,
            89,
            63,
            35,
            158,
            164,
            166,
            141,
            142,
            148,
            37,
            138,
            56,
            60,
            61,
            55,
            169,
            141,
            167,
            143,
            112,
            165,
            89,
            149,
            35,
            142,
            146,
            143,
            145,
            33,
            35,
            34,
            36,
            31,
            54,
            165,
            57,
            56,
            57,
            58,
            169,
            169,
            31,
            57,
            64,
            64,
            64,
            66,
            60,
            112,
            89,
            164,
            32,
            167,
            167,
            167,
            56,
            166,
            141,
            164,
            91,
            33,
            34,
            33,
            164,
            137,
            91,
            32,
            166,
            33,
            87,
            142,
            142,
            166,
            135,
            143,
            55,
            59,
            34,
            32,
            34,
            109,
            35,
            133,
            35,
            165,
            31,
            165,
            165,
            56,
            54,
            87,
            142,
            111,
            140,
            32,
            64,
            56,
            58,
            32,
            140,
            142,
            146,
            111,
            151,
            30,
            30,
            61,
            107,
            164,
            57,
            139,
            158,
            37,
            32,
            56,
            58,
            108,
            168,
            169,
            143,
            145,
            112,
            90,
            138,
            143,
            60,
            150,
            58,
            59,
            89,
            141,
            59,
            167,
            140,
            56,
            58,
            34,
            34,
            90,
            144,
            65,
            32,
            142,
            140,
            52,
            132,
            42,
            56,
            90,
            34,
            55,
            58,
            135,
            50,
            166,
            151,
            56,
            36,
            58,
            59,
            57,
            56,
            169,
            166,
            139,
            141,
            41,
            56,
            63,
            40,
            92,
            167,
            62,
            57,
            143,
            143,
            140,
            35,
            88,
            53,
            134,
            140,
            65,
            142,
            143,
            33,
            51,
            34,
            59,
            169,
            165,
            165,
            136,
            110,
            30,
            33,
            142,
            33,
            61,
            144,
            146,
            111,
            150,
            55,
            54,
            163
           ]
          },
          {
           "axis": {
            "matches": true
           },
           "label": "y",
           "values": [
            163,
            32,
            52,
            123,
            28,
            26,
            79,
            58,
            62,
            97,
            111,
            111,
            130,
            36,
            93,
            147,
            163,
            137,
            32,
            36,
            32,
            33,
            44,
            26,
            58,
            163,
            162,
            158,
            163,
            158,
            25,
            111,
            63,
            123,
            158,
            85,
            157,
            96,
            91,
            169,
            163,
            44,
            29,
            58,
            122,
            123,
            158,
            33,
            136,
            158,
            163,
            137,
            44,
            26,
            26,
            26,
            163,
            157,
            158,
            96,
            52,
            127,
            129,
            158,
            98,
            122,
            93,
            61,
            58,
            58,
            80,
            128,
            25,
            165,
            169,
            169,
            110,
            38,
            53,
            92,
            30,
            59,
            61,
            131,
            158,
            158,
            80,
            78,
            78,
            78,
            128,
            156,
            125,
            127,
            98,
            137,
            33,
            169,
            167,
            137,
            164,
            32,
            34,
            163,
            136,
            158,
            156,
            157,
            85,
            164,
            57,
            130,
            92,
            96,
            31,
            30,
            63,
            110,
            31,
            52,
            62,
            41,
            163,
            163,
            156,
            63,
            27,
            40,
            156,
            30,
            158,
            130,
            52,
            51,
            92,
            104,
            79,
            138,
            137,
            97,
            127,
            156,
            148,
            126,
            105,
            97,
            93,
            96,
            31,
            91,
            168,
            110,
            131,
            26,
            58,
            52,
            157,
            85,
            112,
            162,
            128,
            24,
            78,
            80,
            56,
            159,
            161,
            160,
            163,
            148,
            61,
            110,
            25,
            124,
            127,
            98,
            164,
            163,
            148,
            32,
            35,
            31,
            79,
            58,
            41,
            27,
            53,
            162,
            158,
            169,
            158,
            41,
            27,
            138,
            33,
            27,
            136,
            136,
            127,
            126,
            133,
            53,
            158,
            97,
            27,
            58,
            156,
            104,
            67,
            169,
            40,
            157,
            137,
            138,
            103,
            31,
            63,
            158,
            109,
            128,
            111,
            161,
            135,
            166,
            33,
            32,
            27,
            51,
            66,
            138,
            85,
            66,
            41,
            91,
            86,
            164,
            27,
            32,
            53,
            157,
            131,
            110,
            104,
            25,
            84,
            79,
            51,
            155,
            156,
            98,
            162,
            37,
            92,
            62,
            104,
            57,
            159,
            157,
            50,
            127,
            164,
            78,
            79,
            57,
            157,
            109,
            109,
            62
           ]
          }
         ],
         "hovertemplate": "unit_type_name=Drone<br>%{xaxis.title.text}=%{x}<br>%{yaxis.title.text}=%{y}<extra></extra>",
         "legendgroup": "Drone",
         "marker": {
          "color": "#636efa",
          "symbol": "circle"
         },
         "name": "Drone",
         "showlegend": true,
         "type": "splom"
        }
       ],
       "layout": {
        "autosize": true,
        "dragmode": "select",
        "legend": {
         "title": {
          "text": "unit_type_name"
         },
         "tracegroupgap": 0
        },
        "margin": {
         "t": 60
        },
        "template": {
         "data": {
          "bar": [
           {
            "error_x": {
             "color": "#2a3f5f"
            },
            "error_y": {
             "color": "#2a3f5f"
            },
            "marker": {
             "line": {
              "color": "#E5ECF6",
              "width": 0.5
             },
             "pattern": {
              "fillmode": "overlay",
              "size": 10,
              "solidity": 0.2
             }
            },
            "type": "bar"
           }
          ],
          "barpolar": [
           {
            "marker": {
             "line": {
              "color": "#E5ECF6",
              "width": 0.5
             },
             "pattern": {
              "fillmode": "overlay",
              "size": 10,
              "solidity": 0.2
             }
            },
            "type": "barpolar"
           }
          ],
          "carpet": [
           {
            "aaxis": {
             "endlinecolor": "#2a3f5f",
             "gridcolor": "white",
             "linecolor": "white",
             "minorgridcolor": "white",
             "startlinecolor": "#2a3f5f"
            },
            "baxis": {
             "endlinecolor": "#2a3f5f",
             "gridcolor": "white",
             "linecolor": "white",
             "minorgridcolor": "white",
             "startlinecolor": "#2a3f5f"
            },
            "type": "carpet"
           }
          ],
          "choropleth": [
           {
            "colorbar": {
             "outlinewidth": 0,
             "ticks": ""
            },
            "type": "choropleth"
           }
          ],
          "contour": [
           {
            "colorbar": {
             "outlinewidth": 0,
             "ticks": ""
            },
            "colorscale": [
             [
              0,
              "#0d0887"
             ],
             [
              0.1111111111111111,
              "#46039f"
             ],
             [
              0.2222222222222222,
              "#7201a8"
             ],
             [
              0.3333333333333333,
              "#9c179e"
             ],
             [
              0.4444444444444444,
              "#bd3786"
             ],
             [
              0.5555555555555556,
              "#d8576b"
             ],
             [
              0.6666666666666666,
              "#ed7953"
             ],
             [
              0.7777777777777778,
              "#fb9f3a"
             ],
             [
              0.8888888888888888,
              "#fdca26"
             ],
             [
              1,
              "#f0f921"
             ]
            ],
            "type": "contour"
           }
          ],
          "contourcarpet": [
           {
            "colorbar": {
             "outlinewidth": 0,
             "ticks": ""
            },
            "type": "contourcarpet"
           }
          ],
          "heatmap": [
           {
            "colorbar": {
             "outlinewidth": 0,
             "ticks": ""
            },
            "colorscale": [
             [
              0,
              "#0d0887"
             ],
             [
              0.1111111111111111,
              "#46039f"
             ],
             [
              0.2222222222222222,
              "#7201a8"
             ],
             [
              0.3333333333333333,
              "#9c179e"
             ],
             [
              0.4444444444444444,
              "#bd3786"
             ],
             [
              0.5555555555555556,
              "#d8576b"
             ],
             [
              0.6666666666666666,
              "#ed7953"
             ],
             [
              0.7777777777777778,
              "#fb9f3a"
             ],
             [
              0.8888888888888888,
              "#fdca26"
             ],
             [
              1,
              "#f0f921"
             ]
            ],
            "type": "heatmap"
           }
          ],
          "heatmapgl": [
           {
            "colorbar": {
             "outlinewidth": 0,
             "ticks": ""
            },
            "colorscale": [
             [
              0,
              "#0d0887"
             ],
             [
              0.1111111111111111,
              "#46039f"
             ],
             [
              0.2222222222222222,
              "#7201a8"
             ],
             [
              0.3333333333333333,
              "#9c179e"
             ],
             [
              0.4444444444444444,
              "#bd3786"
             ],
             [
              0.5555555555555556,
              "#d8576b"
             ],
             [
              0.6666666666666666,
              "#ed7953"
             ],
             [
              0.7777777777777778,
              "#fb9f3a"
             ],
             [
              0.8888888888888888,
              "#fdca26"
             ],
             [
              1,
              "#f0f921"
             ]
            ],
            "type": "heatmapgl"
           }
          ],
          "histogram": [
           {
            "marker": {
             "pattern": {
              "fillmode": "overlay",
              "size": 10,
              "solidity": 0.2
             }
            },
            "type": "histogram"
           }
          ],
          "histogram2d": [
           {
            "colorbar": {
             "outlinewidth": 0,
             "ticks": ""
            },
            "colorscale": [
             [
              0,
              "#0d0887"
             ],
             [
              0.1111111111111111,
              "#46039f"
             ],
             [
              0.2222222222222222,
              "#7201a8"
             ],
             [
              0.3333333333333333,
              "#9c179e"
             ],
             [
              0.4444444444444444,
              "#bd3786"
             ],
             [
              0.5555555555555556,
              "#d8576b"
             ],
             [
              0.6666666666666666,
              "#ed7953"
             ],
             [
              0.7777777777777778,
              "#fb9f3a"
             ],
             [
              0.8888888888888888,
              "#fdca26"
             ],
             [
              1,
              "#f0f921"
             ]
            ],
            "type": "histogram2d"
           }
          ],
          "histogram2dcontour": [
           {
            "colorbar": {
             "outlinewidth": 0,
             "ticks": ""
            },
            "colorscale": [
             [
              0,
              "#0d0887"
             ],
             [
              0.1111111111111111,
              "#46039f"
             ],
             [
              0.2222222222222222,
              "#7201a8"
             ],
             [
              0.3333333333333333,
              "#9c179e"
             ],
             [
              0.4444444444444444,
              "#bd3786"
             ],
             [
              0.5555555555555556,
              "#d8576b"
             ],
             [
              0.6666666666666666,
              "#ed7953"
             ],
             [
              0.7777777777777778,
              "#fb9f3a"
             ],
             [
              0.8888888888888888,
              "#fdca26"
             ],
             [
              1,
              "#f0f921"
             ]
            ],
            "type": "histogram2dcontour"
           }
          ],
          "mesh3d": [
           {
            "colorbar": {
             "outlinewidth": 0,
             "ticks": ""
            },
            "type": "mesh3d"
           }
          ],
          "parcoords": [
           {
            "line": {
             "colorbar": {
              "outlinewidth": 0,
              "ticks": ""
             }
            },
            "type": "parcoords"
           }
          ],
          "pie": [
           {
            "automargin": true,
            "type": "pie"
           }
          ],
          "scatter": [
           {
            "fillpattern": {
             "fillmode": "overlay",
             "size": 10,
             "solidity": 0.2
            },
            "type": "scatter"
           }
          ],
          "scatter3d": [
           {
            "line": {
             "colorbar": {
              "outlinewidth": 0,
              "ticks": ""
             }
            },
            "marker": {
             "colorbar": {
              "outlinewidth": 0,
              "ticks": ""
             }
            },
            "type": "scatter3d"
           }
          ],
          "scattercarpet": [
           {
            "marker": {
             "colorbar": {
              "outlinewidth": 0,
              "ticks": ""
             }
            },
            "type": "scattercarpet"
           }
          ],
          "scattergeo": [
           {
            "marker": {
             "colorbar": {
              "outlinewidth": 0,
              "ticks": ""
             }
            },
            "type": "scattergeo"
           }
          ],
          "scattergl": [
           {
            "marker": {
             "colorbar": {
              "outlinewidth": 0,
              "ticks": ""
             }
            },
            "type": "scattergl"
           }
          ],
          "scattermapbox": [
           {
            "marker": {
             "colorbar": {
              "outlinewidth": 0,
              "ticks": ""
             }
            },
            "type": "scattermapbox"
           }
          ],
          "scatterpolar": [
           {
            "marker": {
             "colorbar": {
              "outlinewidth": 0,
              "ticks": ""
             }
            },
            "type": "scatterpolar"
           }
          ],
          "scatterpolargl": [
           {
            "marker": {
             "colorbar": {
              "outlinewidth": 0,
              "ticks": ""
             }
            },
            "type": "scatterpolargl"
           }
          ],
          "scatterternary": [
           {
            "marker": {
             "colorbar": {
              "outlinewidth": 0,
              "ticks": ""
             }
            },
            "type": "scatterternary"
           }
          ],
          "surface": [
           {
            "colorbar": {
             "outlinewidth": 0,
             "ticks": ""
            },
            "colorscale": [
             [
              0,
              "#0d0887"
             ],
             [
              0.1111111111111111,
              "#46039f"
             ],
             [
              0.2222222222222222,
              "#7201a8"
             ],
             [
              0.3333333333333333,
              "#9c179e"
             ],
             [
              0.4444444444444444,
              "#bd3786"
             ],
             [
              0.5555555555555556,
              "#d8576b"
             ],
             [
              0.6666666666666666,
              "#ed7953"
             ],
             [
              0.7777777777777778,
              "#fb9f3a"
             ],
             [
              0.8888888888888888,
              "#fdca26"
             ],
             [
              1,
              "#f0f921"
             ]
            ],
            "type": "surface"
           }
          ],
          "table": [
           {
            "cells": {
             "fill": {
              "color": "#EBF0F8"
             },
             "line": {
              "color": "white"
             }
            },
            "header": {
             "fill": {
              "color": "#C8D4E3"
             },
             "line": {
              "color": "white"
             }
            },
            "type": "table"
           }
          ]
         },
         "layout": {
          "annotationdefaults": {
           "arrowcolor": "#2a3f5f",
           "arrowhead": 0,
           "arrowwidth": 1
          },
          "autotypenumbers": "strict",
          "coloraxis": {
           "colorbar": {
            "outlinewidth": 0,
            "ticks": ""
           }
          },
          "colorscale": {
           "diverging": [
            [
             0,
             "#8e0152"
            ],
            [
             0.1,
             "#c51b7d"
            ],
            [
             0.2,
             "#de77ae"
            ],
            [
             0.3,
             "#f1b6da"
            ],
            [
             0.4,
             "#fde0ef"
            ],
            [
             0.5,
             "#f7f7f7"
            ],
            [
             0.6,
             "#e6f5d0"
            ],
            [
             0.7,
             "#b8e186"
            ],
            [
             0.8,
             "#7fbc41"
            ],
            [
             0.9,
             "#4d9221"
            ],
            [
             1,
             "#276419"
            ]
           ],
           "sequential": [
            [
             0,
             "#0d0887"
            ],
            [
             0.1111111111111111,
             "#46039f"
            ],
            [
             0.2222222222222222,
             "#7201a8"
            ],
            [
             0.3333333333333333,
             "#9c179e"
            ],
            [
             0.4444444444444444,
             "#bd3786"
            ],
            [
             0.5555555555555556,
             "#d8576b"
            ],
            [
             0.6666666666666666,
             "#ed7953"
            ],
            [
             0.7777777777777778,
             "#fb9f3a"
            ],
            [
             0.8888888888888888,
             "#fdca26"
            ],
            [
             1,
             "#f0f921"
            ]
           ],
           "sequentialminus": [
            [
             0,
             "#0d0887"
            ],
            [
             0.1111111111111111,
             "#46039f"
            ],
            [
             0.2222222222222222,
             "#7201a8"
            ],
            [
             0.3333333333333333,
             "#9c179e"
            ],
            [
             0.4444444444444444,
             "#bd3786"
            ],
            [
             0.5555555555555556,
             "#d8576b"
            ],
            [
             0.6666666666666666,
             "#ed7953"
            ],
            [
             0.7777777777777778,
             "#fb9f3a"
            ],
            [
             0.8888888888888888,
             "#fdca26"
            ],
            [
             1,
             "#f0f921"
            ]
           ]
          },
          "colorway": [
           "#636efa",
           "#EF553B",
           "#00cc96",
           "#ab63fa",
           "#FFA15A",
           "#19d3f3",
           "#FF6692",
           "#B6E880",
           "#FF97FF",
           "#FECB52"
          ],
          "font": {
           "color": "#2a3f5f"
          },
          "geo": {
           "bgcolor": "white",
           "lakecolor": "white",
           "landcolor": "#E5ECF6",
           "showlakes": true,
           "showland": true,
           "subunitcolor": "white"
          },
          "hoverlabel": {
           "align": "left"
          },
          "hovermode": "closest",
          "mapbox": {
           "style": "light"
          },
          "paper_bgcolor": "white",
          "plot_bgcolor": "#E5ECF6",
          "polar": {
           "angularaxis": {
            "gridcolor": "white",
            "linecolor": "white",
            "ticks": ""
           },
           "bgcolor": "#E5ECF6",
           "radialaxis": {
            "gridcolor": "white",
            "linecolor": "white",
            "ticks": ""
           }
          },
          "scene": {
           "xaxis": {
            "backgroundcolor": "#E5ECF6",
            "gridcolor": "white",
            "gridwidth": 2,
            "linecolor": "white",
            "showbackground": true,
            "ticks": "",
            "zerolinecolor": "white"
           },
           "yaxis": {
            "backgroundcolor": "#E5ECF6",
            "gridcolor": "white",
            "gridwidth": 2,
            "linecolor": "white",
            "showbackground": true,
            "ticks": "",
            "zerolinecolor": "white"
           },
           "zaxis": {
            "backgroundcolor": "#E5ECF6",
            "gridcolor": "white",
            "gridwidth": 2,
            "linecolor": "white",
            "showbackground": true,
            "ticks": "",
            "zerolinecolor": "white"
           }
          },
          "shapedefaults": {
           "line": {
            "color": "#2a3f5f"
           }
          },
          "ternary": {
           "aaxis": {
            "gridcolor": "white",
            "linecolor": "white",
            "ticks": ""
           },
           "baxis": {
            "gridcolor": "white",
            "linecolor": "white",
            "ticks": ""
           },
           "bgcolor": "#E5ECF6",
           "caxis": {
            "gridcolor": "white",
            "linecolor": "white",
            "ticks": ""
           }
          },
          "title": {
           "x": 0.05
          },
          "xaxis": {
           "automargin": true,
           "gridcolor": "white",
           "linecolor": "white",
           "ticks": "",
           "title": {
            "standoff": 15
           },
           "zerolinecolor": "white",
           "zerolinewidth": 2
          },
          "yaxis": {
           "automargin": true,
           "gridcolor": "white",
           "linecolor": "white",
           "ticks": "",
           "title": {
            "standoff": 15
           },
           "zerolinecolor": "white",
           "zerolinewidth": 2
          }
         }
        },
        "xaxis": {
         "autorange": true,
         "range": [
          15.462031107044831,
          184.53796889295518
         ],
         "type": "linear"
        },
        "xaxis2": {
         "autorange": true,
         "range": [
          8.942817932296432,
          184.05718206770356
         ],
         "type": "linear"
        },
        "yaxis": {
         "autorange": true,
         "range": [
          15.462031107044831,
          184.53796889295518
         ],
         "type": "linear"
        },
        "yaxis2": {
         "autorange": true,
         "range": [
          8.942817932296432,
          184.05718206770356
         ],
         "type": "linear"
        }
       }
      },
      "image/png": "[encoded data removed]",
      "text/html": [
       "<div>                            <div id=\"842a87f8-6b35-4da4-be24-50772f46de47\" class=\"plotly-graph-div\" style=\"height:525px; width:100%;\"></div>            <script type=\"text/javascript\">                require([\"plotly\"], function(Plotly) {                    window.PLOTLYENV=window.PLOTLYENV || {};                                    if (document.getElementById(\"842a87f8-6b35-4da4-be24-50772f46de47\")) {                    Plotly.newPlot(                        \"842a87f8-6b35-4da4-be24-50772f46de47\",                        [{\"dimensions\":[{\"axis\":{\"matches\":true},\"label\":\"x\",\"values\":[57,165,143,159,143,138,144,113,166,33,54,57,88,146,168,108,59,56,167,169,164,164,170,141,110,30,30,30,35,31,141,53,163,160,148,65,31,34,166,59,60,168,143,109,159,158,147,168,55,32,56,58,169,143,140,139,32,30,34,33,144,35,89,63,35,158,164,166,141,142,148,37,138,56,60,61,55,169,141,167,143,112,165,89,149,35,142,146,143,145,33,35,34,36,31,54,165,57,56,57,58,169,169,31,57,64,64,64,66,60,112,89,164,32,167,167,167,56,166,141,164,91,33,34,33,164,137,91,32,166,33,87,142,142,166,135,143,55,59,34,32,34,109,35,133,35,165,31,165,165,56,54,87,142,111,140,32,64,56,58,32,140,142,146,111,151,30,30,61,107,164,57,139,158,37,32,56,58,108,168,169,143,145,112,90,138,143,60,150,58,59,89,141,59,167,140,56,58,34,34,90,144,65,32,142,140,52,132,42,56,90,34,55,58,135,50,166,151,56,36,58,59,57,56,169,166,139,141,41,56,63,40,92,167,62,57,143,143,140,35,88,53,134,140,65,142,143,33,51,34,59,169,165,165,136,110,30,33,142,33,61,144,146,111,150,55,54,163]},{\"axis\":{\"matches\":true},\"label\":\"y\",\"values\":[163,32,52,123,28,26,79,58,62,97,111,111,130,36,93,147,163,137,32,36,32,33,44,26,58,163,162,158,163,158,25,111,63,123,158,85,157,96,91,169,163,44,29,58,122,123,158,33,136,158,163,137,44,26,26,26,163,157,158,96,52,127,129,158,98,122,93,61,58,58,80,128,25,165,169,169,110,38,53,92,30,59,61,131,158,158,80,78,78,78,128,156,125,127,98,137,33,169,167,137,164,32,34,163,136,158,156,157,85,164,57,130,92,96,31,30,63,110,31,52,62,41,163,163,156,63,27,40,156,30,158,130,52,51,92,104,79,138,137,97,127,156,148,126,105,97,93,96,31,91,168,110,131,26,58,52,157,85,112,162,128,24,78,80,56,159,161,160,163,148,61,110,25,124,127,98,164,163,148,32,35,31,79,58,41,27,53,162,158,169,158,41,27,138,33,27,136,136,127,126,133,53,158,97,27,58,156,104,67,169,40,157,137,138,103,31,63,158,109,128,111,161,135,166,33,32,27,51,66,138,85,66,41,91,86,164,27,32,53,157,131,110,104,25,84,79,51,155,156,98,162,37,92,62,104,57,159,157,50,127,164,78,79,57,157,109,109,62]}],\"hovertemplate\":\"unit_type_name=Drone\\u003cbr\\u003e%{xaxis.title.text}=%{x}\\u003cbr\\u003e%{yaxis.title.text}=%{y}\\u003cextra\\u003e\\u003c\\u002fextra\\u003e\",\"legendgroup\":\"Drone\",\"marker\":{\"color\":\"#636efa\",\"symbol\":\"circle\"},\"name\":\"Drone\",\"showlegend\":true,\"type\":\"splom\"}],                        {\"template\":{\"data\":{\"histogram2dcontour\":[{\"type\":\"histogram2dcontour\",\"colorbar\":{\"outlinewidth\":0,\"ticks\":\"\"},\"colorscale\":[[0.0,\"#0d0887\"],[0.1111111111111111,\"#46039f\"],[0.2222222222222222,\"#7201a8\"],[0.3333333333333333,\"#9c179e\"],[0.4444444444444444,\"#bd3786\"],[0.5555555555555556,\"#d8576b\"],[0.6666666666666666,\"#ed7953\"],[0.7777777777777778,\"#fb9f3a\"],[0.8888888888888888,\"#fdca26\"],[1.0,\"#f0f921\"]]}],\"choropleth\":[{\"type\":\"choropleth\",\"colorbar\":{\"outlinewidth\":0,\"ticks\":\"\"}}],\"histogram2d\":[{\"type\":\"histogram2d\",\"colorbar\":{\"outlinewidth\":0,\"ticks\":\"\"},\"colorscale\":[[0.0,\"#0d0887\"],[0.1111111111111111,\"#46039f\"],[0.2222222222222222,\"#7201a8\"],[0.3333333333333333,\"#9c179e\"],[0.4444444444444444,\"#bd3786\"],[0.5555555555555556,\"#d8576b\"],[0.6666666666666666,\"#ed7953\"],[0.7777777777777778,\"#fb9f3a\"],[0.8888888888888888,\"#fdca26\"],[1.0,\"#f0f921\"]]}],\"heatmap\":[{\"type\":\"heatmap\",\"colorbar\":{\"outlinewidth\":0,\"ticks\":\"\"},\"colorscale\":[[0.0,\"#0d0887\"],[0.1111111111111111,\"#46039f\"],[0.2222222222222222,\"#7201a8\"],[0.3333333333333333,\"#9c179e\"],[0.4444444444444444,\"#bd3786\"],[0.5555555555555556,\"#d8576b\"],[0.6666666666666666,\"#ed7953\"],[0.7777777777777778,\"#fb9f3a\"],[0.8888888888888888,\"#fdca26\"],[1.0,\"#f0f921\"]]}],\"heatmapgl\":[{\"type\":\"heatmapgl\",\"colorbar\":{\"outlinewidth\":0,\"ticks\":\"\"},\"colorscale\":[[0.0,\"#0d0887\"],[0.1111111111111111,\"#46039f\"],[0.2222222222222222,\"#7201a8\"],[0.3333333333333333,\"#9c179e\"],[0.4444444444444444,\"#bd3786\"],[0.5555555555555556,\"#d8576b\"],[0.6666666666666666,\"#ed7953\"],[0.7777777777777778,\"#fb9f3a\"],[0.8888888888888888,\"#fdca26\"],[1.0,\"#f0f921\"]]}],\"contourcarpet\":[{\"type\":\"contourcarpet\",\"colorbar\":{\"outlinewidth\":0,\"ticks\":\"\"}}],\"contour\":[{\"type\":\"contour\",\"colorbar\":{\"outlinewidth\":0,\"ticks\":\"\"},\"colorscale\":[[0.0,\"#0d0887\"],[0.1111111111111111,\"#46039f\"],[0.2222222222222222,\"#7201a8\"],[0.3333333333333333,\"#9c179e\"],[0.4444444444444444,\"#bd3786\"],[0.5555555555555556,\"#d8576b\"],[0.6666666666666666,\"#ed7953\"],[0.7777777777777778,\"#fb9f3a\"],[0.8888888888888888,\"#fdca26\"],[1.0,\"#f0f921\"]]}],\"surface\":[{\"type\":\"surface\",\"colorbar\":{\"outlinewidth\":0,\"ticks\":\"\"},\"colorscale\":[[0.0,\"#0d0887\"],[0.1111111111111111,\"#46039f\"],[0.2222222222222222,\"#7201a8\"],[0.3333333333333333,\"#9c179e\"],[0.4444444444444444,\"#bd3786\"],[0.5555555555555556,\"#d8576b\"],[0.6666666666666666,\"#ed7953\"],[0.7777777777777778,\"#fb9f3a\"],[0.8888888888888888,\"#fdca26\"],[1.0,\"#f0f921\"]]}],\"mesh3d\":[{\"type\":\"mesh3d\",\"colorbar\":{\"outlinewidth\":0,\"ticks\":\"\"}}],\"scatter\":[{\"fillpattern\":{\"fillmode\":\"overlay\",\"size\":10,\"solidity\":0.2},\"type\":\"scatter\"}],\"parcoords\":[{\"type\":\"parcoords\",\"line\":{\"colorbar\":{\"outlinewidth\":0,\"ticks\":\"\"}}}],\"scatterpolargl\":[{\"type\":\"scatterpolargl\",\"marker\":{\"colorbar\":{\"outlinewidth\":0,\"ticks\":\"\"}}}],\"bar\":[{\"error_x\":{\"color\":\"#2a3f5f\"},\"error_y\":{\"color\":\"#2a3f5f\"},\"marker\":{\"line\":{\"color\":\"#E5ECF6\",\"width\":0.5},\"pattern\":{\"fillmode\":\"overlay\",\"size\":10,\"solidity\":0.2}},\"type\":\"bar\"}],\"scattergeo\":[{\"type\":\"scattergeo\",\"marker\":{\"colorbar\":{\"outlinewidth\":0,\"ticks\":\"\"}}}],\"scatterpolar\":[{\"type\":\"scatterpolar\",\"marker\":{\"colorbar\":{\"outlinewidth\":0,\"ticks\":\"\"}}}],\"histogram\":[{\"marker\":{\"pattern\":{\"fillmode\":\"overlay\",\"size\":10,\"solidity\":0.2}},\"type\":\"histogram\"}],\"scattergl\":[{\"type\":\"scattergl\",\"marker\":{\"colorbar\":{\"outlinewidth\":0,\"ticks\":\"\"}}}],\"scatter3d\":[{\"type\":\"scatter3d\",\"line\":{\"colorbar\":{\"outlinewidth\":0,\"ticks\":\"\"}},\"marker\":{\"colorbar\":{\"outlinewidth\":0,\"ticks\":\"\"}}}],\"scattermapbox\":[{\"type\":\"scattermapbox\",\"marker\":{\"colorbar\":{\"outlinewidth\":0,\"ticks\":\"\"}}}],\"scatterternary\":[{\"type\":\"scatterternary\",\"marker\":{\"colorbar\":{\"outlinewidth\":0,\"ticks\":\"\"}}}],\"scattercarpet\":[{\"type\":\"scattercarpet\",\"marker\":{\"colorbar\":{\"outlinewidth\":0,\"ticks\":\"\"}}}],\"carpet\":[{\"aaxis\":{\"endlinecolor\":\"#2a3f5f\",\"gridcolor\":\"white\",\"linecolor\":\"white\",\"minorgridcolor\":\"white\",\"startlinecolor\":\"#2a3f5f\"},\"baxis\":{\"endlinecolor\":\"#2a3f5f\",\"gridcolor\":\"white\",\"linecolor\":\"white\",\"minorgridcolor\":\"white\",\"startlinecolor\":\"#2a3f5f\"},\"type\":\"carpet\"}],\"table\":[{\"cells\":{\"fill\":{\"color\":\"#EBF0F8\"},\"line\":{\"color\":\"white\"}},\"header\":{\"fill\":{\"color\":\"#C8D4E3\"},\"line\":{\"color\":\"white\"}},\"type\":\"table\"}],\"barpolar\":[{\"marker\":{\"line\":{\"color\":\"#E5ECF6\",\"width\":0.5},\"pattern\":{\"fillmode\":\"overlay\",\"size\":10,\"solidity\":0.2}},\"type\":\"barpolar\"}],\"pie\":[{\"automargin\":true,\"type\":\"pie\"}]},\"layout\":{\"autotypenumbers\":\"strict\",\"colorway\":[\"#636efa\",\"#EF553B\",\"#00cc96\",\"#ab63fa\",\"#FFA15A\",\"#19d3f3\",\"#FF6692\",\"#B6E880\",\"#FF97FF\",\"#FECB52\"],\"font\":{\"color\":\"#2a3f5f\"},\"hovermode\":\"closest\",\"hoverlabel\":{\"align\":\"left\"},\"paper_bgcolor\":\"white\",\"plot_bgcolor\":\"#E5ECF6\",\"polar\":{\"bgcolor\":\"#E5ECF6\",\"angularaxis\":{\"gridcolor\":\"white\",\"linecolor\":\"white\",\"ticks\":\"\"},\"radialaxis\":{\"gridcolor\":\"white\",\"linecolor\":\"white\",\"ticks\":\"\"}},\"ternary\":{\"bgcolor\":\"#E5ECF6\",\"aaxis\":{\"gridcolor\":\"white\",\"linecolor\":\"white\",\"ticks\":\"\"},\"baxis\":{\"gridcolor\":\"white\",\"linecolor\":\"white\",\"ticks\":\"\"},\"caxis\":{\"gridcolor\":\"white\",\"linecolor\":\"white\",\"ticks\":\"\"}},\"coloraxis\":{\"colorbar\":{\"outlinewidth\":0,\"ticks\":\"\"}},\"colorscale\":{\"sequential\":[[0.0,\"#0d0887\"],[0.1111111111111111,\"#46039f\"],[0.2222222222222222,\"#7201a8\"],[0.3333333333333333,\"#9c179e\"],[0.4444444444444444,\"#bd3786\"],[0.5555555555555556,\"#d8576b\"],[0.6666666666666666,\"#ed7953\"],[0.7777777777777778,\"#fb9f3a\"],[0.8888888888888888,\"#fdca26\"],[1.0,\"#f0f921\"]],\"sequentialminus\":[[0.0,\"#0d0887\"],[0.1111111111111111,\"#46039f\"],[0.2222222222222222,\"#7201a8\"],[0.3333333333333333,\"#9c179e\"],[0.4444444444444444,\"#bd3786\"],[0.5555555555555556,\"#d8576b\"],[0.6666666666666666,\"#ed7953\"],[0.7777777777777778,\"#fb9f3a\"],[0.8888888888888888,\"#fdca26\"],[1.0,\"#f0f921\"]],\"diverging\":[[0,\"#8e0152\"],[0.1,\"#c51b7d\"],[0.2,\"#de77ae\"],[0.3,\"#f1b6da\"],[0.4,\"#fde0ef\"],[0.5,\"#f7f7f7\"],[0.6,\"#e6f5d0\"],[0.7,\"#b8e186\"],[0.8,\"#7fbc41\"],[0.9,\"#4d9221\"],[1,\"#276419\"]]},\"xaxis\":{\"gridcolor\":\"white\",\"linecolor\":\"white\",\"ticks\":\"\",\"title\":{\"standoff\":15},\"zerolinecolor\":\"white\",\"automargin\":true,\"zerolinewidth\":2},\"yaxis\":{\"gridcolor\":\"white\",\"linecolor\":\"white\",\"ticks\":\"\",\"title\":{\"standoff\":15},\"zerolinecolor\":\"white\",\"automargin\":true,\"zerolinewidth\":2},\"scene\":{\"xaxis\":{\"backgroundcolor\":\"#E5ECF6\",\"gridcolor\":\"white\",\"linecolor\":\"white\",\"showbackground\":true,\"ticks\":\"\",\"zerolinecolor\":\"white\",\"gridwidth\":2},\"yaxis\":{\"backgroundcolor\":\"#E5ECF6\",\"gridcolor\":\"white\",\"linecolor\":\"white\",\"showbackground\":true,\"ticks\":\"\",\"zerolinecolor\":\"white\",\"gridwidth\":2},\"zaxis\":{\"backgroundcolor\":\"#E5ECF6\",\"gridcolor\":\"white\",\"linecolor\":\"white\",\"showbackground\":true,\"ticks\":\"\",\"zerolinecolor\":\"white\",\"gridwidth\":2}},\"shapedefaults\":{\"line\":{\"color\":\"#2a3f5f\"}},\"annotationdefaults\":{\"arrowcolor\":\"#2a3f5f\",\"arrowhead\":0,\"arrowwidth\":1},\"geo\":{\"bgcolor\":\"white\",\"landcolor\":\"#E5ECF6\",\"subunitcolor\":\"white\",\"showland\":true,\"showlakes\":true,\"lakecolor\":\"white\"},\"title\":{\"x\":0.05},\"mapbox\":{\"style\":\"light\"}}},\"legend\":{\"title\":{\"text\":\"unit_type_name\"},\"tracegroupgap\":0},\"margin\":{\"t\":60},\"dragmode\":\"select\"},                        {\"responsive\": true}                    ).then(function(){\n",
       "                            \n",
       "var gd = document.getElementById('842a87f8-6b35-4da4-be24-50772f46de47');\n",
       "var x = new MutationObserver(function (mutations, observer) {{\n",
       "        var display = window.getComputedStyle(gd).display;\n",
       "        if (!display || display === 'none') {{\n",
       "            console.log([gd, 'removed!']);\n",
       "            Plotly.purge(gd);\n",
       "            observer.disconnect();\n",
       "        }}\n",
       "}});\n",
       "\n",
       "// Listen for the removal of the full notebook cells\n",
       "var notebookContainer = gd.closest('#notebook-container');\n",
       "if (notebookContainer) {{\n",
       "    x.observe(notebookContainer, {childList: true});\n",
       "}}\n",
       "\n",
       "// Listen for the clearing of the current output cell\n",
       "var outputEl = gd.closest('.output');\n",
       "if (outputEl) {{\n",
       "    x.observe(outputEl, {childList: true});\n",
       "}}\n",
       "\n",
       "                        })                };                });            </script>        </div>"
      ]
     },
     "metadata": {},
     "output_type": "display_data"
    }
   ],
   "source": [
    "unit_born_ec_le = (\n",
    "    unit_born_df.join(details_df, on=\"ext_fs_replay_sha256\", how=\"inner\")\n",
    "    .filter(\n",
    "        (pl.col(\"ext_replay_detail_player_name\") == \"2-1-8459957-Sazed\")\n",
    "        & (pl.col(\"title\") == \"Emerald City LE\")\n",
    "        & (pl.col(\"unit_type_name\") == \"Drone\")\n",
    "    )\n",
    "    .select([pl.col(\"x\"), pl.col(\"y\"), pl.col(\"unit_type_name\")])\n",
    "    .group_by([\"x\", \"y\", \"unit_type_name\"])\n",
    "    .agg(pl.sum(\"unit_type_name\").alias(\"count\"))\n",
    "    .collect()\n",
    ")\n",
    "fig = px.scatter_matrix(unit_born_ec_le, dimensions=[\"x\", \"y\"], color=\"unit_type_name\")\n",
    "fig.show()"
   ]
  },
  {
   "cell_type": "code",
   "execution_count": 72,
   "id": "46594701-8d4f-4599-91c3-d7a2b451f066",
   "metadata": {},
   "outputs": [
    {
     "data": {
      "text/html": [
       "<div><style>\n",
       ".dataframe > thead > tr > th,\n",
       ".dataframe > tbody > tr > td {\n",
       "  text-align: right;\n",
       "  white-space: pre-wrap;\n",
       "}\n",
       "</style>\n",
       "<small>shape: (878, 6)</small><table border=\"1\" class=\"dataframe\"><thead><tr><th>title</th><th>ext_fs_replay_sha256</th><th>ext_replay_detail_datetime</th><th>count</th><th>max_loop</th><th>avg_per_loop</th></tr><tr><td>str</td><td>str</td><td>datetime[ns]</td><td>u32</td><td>i64</td><td>f64</td></tr></thead><tbody><tr><td>&quot;Emerald City LE&quot;</td><td>&quot;a50ee85be800266fc71cd354e41b98215d6f51131ff78c1241c341e14442934…</td><td>2023-08-24 13:58:26.788993</td><td>79</td><td>25464</td><td>322.329114</td></tr><tr><td>&quot;Reclamation LE&quot;</td><td>&quot;4dfd0152e5013d981dba3348971f3d50c66e3a747f7a4ef38187c0bda7843dc…</td><td>2023-08-24 13:40:00.903590</td><td>65</td><td>24485</td><td>376.692308</td></tr><tr><td>&quot;Heavy Artillery LE&quot;</td><td>&quot;1de5fba2ec377aab1fbf0d957120165ab2befcc4deaf6e4ee20d23cb1dca9ef…</td><td>2023-08-23 14:20:17.659160</td><td>18</td><td>2588</td><td>143.777778</td></tr><tr><td>&quot;Emerald City LE&quot;</td><td>&quot;9dda19ad9dcc21e8e546e9a9f9f56273950c3dcd26f2ff42eea401e81de72b4…</td><td>2023-08-18 15:37:52.141838</td><td>33</td><td>8483</td><td>257.060606</td></tr><tr><td>&quot;Reclamation LE&quot;</td><td>&quot;6021ff5bb9ebe0d6714d5fc482e57ecce26a3de0be6c3e233bfee06b3a1c43e…</td><td>2023-08-17 15:36:24.820907</td><td>76</td><td>19112</td><td>251.473684</td></tr><tr><td>&quot;Nightscape LE&quot;</td><td>&quot;d2c54d5dbdcfdcf78df719fcb4b2bc1ba531f24a9c14a24eee977b56010f1ed…</td><td>2023-08-17 15:24:20.246755</td><td>121</td><td>36988</td><td>305.68595</td></tr><tr><td>&quot;Fields of Death&quot;</td><td>&quot;f2d42aedad4d7f335127bff6ab5a7ed6973dd7e8ba146d53f7f08e1806940ca…</td><td>2023-08-13 15:52:11.005877</td><td>107</td><td>26004</td><td>243.028037</td></tr><tr><td>&quot;Fields of Death&quot;</td><td>&quot;43a07cea1def8d5bc76404e168a844d0f308e58030de21bb930940b95890ae6…</td><td>2023-08-13 15:33:28.145965</td><td>102</td><td>27491</td><td>269.519608</td></tr><tr><td>&quot;Reclamation LE&quot;</td><td>&quot;eb244e767744e2d2a5af8ac85de348b960022201b9be9455d34203e82fa13b2…</td><td>2023-08-13 15:18:31.650265</td><td>64</td><td>35073</td><td>548.015625</td></tr><tr><td>&quot;Heavy Artillery LE&quot;</td><td>&quot;f4906b9a611807bc49be181922a70fda60c02f65766fb93989af4fa9af00515…</td><td>2023-08-13 10:47:05.666796</td><td>39</td><td>11917</td><td>305.564103</td></tr><tr><td>&quot;Fields of Death&quot;</td><td>&quot;d7a788d8c97baaea38f631b2cbd7714cb0c0679e5c68a739c7239f254483fab…</td><td>2023-08-13 04:58:49.352204</td><td>75</td><td>28463</td><td>379.506667</td></tr><tr><td>&quot;Fields of Death&quot;</td><td>&quot;bd75ec26c6c659d17f0d327fd89cb01e18beb56c9a54d7c0fb60bc4d2dcfd90…</td><td>2023-08-12 17:48:31.610817</td><td>18</td><td>3726</td><td>207.0</td></tr><tr><td>&hellip;</td><td>&hellip;</td><td>&hellip;</td><td>&hellip;</td><td>&hellip;</td><td>&hellip;</td></tr><tr><td>&quot;Deathaura LE&quot;</td><td>&quot;b1377d7a7aae729287c327c495a944c334d81d190e5382d475bff13d647ee87…</td><td>2021-02-15 19:07:01.432229</td><td>32</td><td>15281</td><td>477.53125</td></tr><tr><td>&quot;Deathaura LE&quot;</td><td>&quot;525fb4b0f7a2e39079c38f57a20cd2d038bf36ff031c20331c8f68a1b894abb…</td><td>2021-02-15 18:57:38.320050</td><td>13</td><td>408</td><td>31.384615</td></tr><tr><td>&quot;Deathaura LE&quot;</td><td>&quot;c88c102685b61568a2f6baacac92d99f065af0ad777460386cd167fa76ba90e…</td><td>2021-02-15 18:39:07.734434</td><td>35</td><td>16747</td><td>478.485714</td></tr><tr><td>&quot;Deathaura LE&quot;</td><td>&quot;a1eae937019993c24d19b5a48b3f841b8a4f02b1e52ef1b89530280ae9763e3…</td><td>2021-02-15 17:42:43.037500</td><td>24</td><td>5612</td><td>233.833333</td></tr><tr><td>&quot;Deathaura LE&quot;</td><td>&quot;df0dd3c0467e748b9b4c5632eead2766283cc6e7a8cb97e4fd9e5d10f293dbf…</td><td>2021-02-15 03:16:00.058728</td><td>13</td><td>408</td><td>31.384615</td></tr><tr><td>&quot;Deathaura LE&quot;</td><td>&quot;d5ffdcd59e2ec61dcdd5a31eee5f56dc398ba2495f10ec57575cb61d103684b…</td><td>2021-02-15 03:09:59.163410</td><td>21</td><td>4728</td><td>225.142857</td></tr><tr><td>&quot;Deathaura LE&quot;</td><td>&quot;67ca7f49026be395c926ce7b9fad1c7a19684727565982b021eab6925023c97…</td><td>2021-02-15 03:06:47.707636</td><td>13</td><td>408</td><td>31.384615</td></tr><tr><td>&quot;Deathaura LE&quot;</td><td>&quot;af6e6a1cb898e708e4f2ac96c7b7953d772f417baecccf22d0add792817cae8…</td><td>2021-02-15 02:39:25.124834</td><td>24</td><td>5491</td><td>228.791667</td></tr><tr><td>&quot;Deathaura LE&quot;</td><td>&quot;206a73163dea4fe59db5f2e37ffe262d5352e9eb7675c610558b311c0ae96d3…</td><td>2021-02-15 02:23:20.033100</td><td>23</td><td>5251</td><td>228.304348</td></tr><tr><td>&quot;Deathaura LE&quot;</td><td>&quot;256ed72d84fd86725dcd000795aed1e8ba215b22f1ed4b886613b054cc65baf…</td><td>2021-02-14 19:43:49.269817</td><td>16</td><td>1862</td><td>116.375</td></tr><tr><td>&quot;Deathaura LE&quot;</td><td>&quot;792da475608046d120b29da3d3bd3094fb64d9739fa84e2c6b706efe7dc0624…</td><td>2021-02-14 19:40:12.731273</td><td>38</td><td>16812</td><td>442.421053</td></tr><tr><td>&quot;Deathaura LE&quot;</td><td>&quot;ae4fee23ba56e7b077b7d1de09f6d25a4d6f5e2e9315206e6ec84cb954346f1…</td><td>2021-02-14 19:11:53.916107</td><td>13</td><td>408</td><td>31.384615</td></tr></tbody></table></div>"
      ],
      "text/plain": [
       "shape: (878, 6)\n",
       "┌──────────┬──────────┬──────────┬───────┬──────────┬──────────┐\n",
       "│ title    ┆ ext_fs_r ┆ ext_repl ┆ count ┆ max_loop ┆ avg_per_ │\n",
       "│ ---      ┆ eplay_sh ┆ ay_detai ┆ ---   ┆ ---      ┆ loop     │\n",
       "│ str      ┆ a256     ┆ l_dateti ┆ u32   ┆ i64      ┆ ---      │\n",
       "│          ┆ ---      ┆ me       ┆       ┆          ┆ f64      │\n",
       "│          ┆ str      ┆ ---      ┆       ┆          ┆          │\n",
       "│          ┆          ┆ datetime ┆       ┆          ┆          │\n",
       "│          ┆          ┆ [ns]     ┆       ┆          ┆          │\n",
       "╞══════════╪══════════╪══════════╪═══════╪══════════╪══════════╡\n",
       "│ Emerald  ┆ a50ee85b ┆ 2023-08- ┆ 79    ┆ 25464    ┆ 322.3291 │\n",
       "│ City LE  ┆ e800266f ┆ 24 13:58 ┆       ┆          ┆ 14       │\n",
       "│          ┆ c71cd354 ┆ :26.7889 ┆       ┆          ┆          │\n",
       "│          ┆ e41b9821 ┆ 93       ┆       ┆          ┆          │\n",
       "│          ┆ 5d6f5113 ┆          ┆       ┆          ┆          │\n",
       "│          ┆ 1ff78c12 ┆          ┆       ┆          ┆          │\n",
       "│          ┆ 41c341e1 ┆          ┆       ┆          ┆          │\n",
       "│          ┆ 44429340 ┆          ┆       ┆          ┆          │\n",
       "│ Reclamat ┆ 4dfd0152 ┆ 2023-08- ┆ 65    ┆ 24485    ┆ 376.6923 │\n",
       "│ ion LE   ┆ e5013d98 ┆ 24 13:40 ┆       ┆          ┆ 08       │\n",
       "│          ┆ 1dba3348 ┆ :00.9035 ┆       ┆          ┆          │\n",
       "│          ┆ 971f3d50 ┆ 90       ┆       ┆          ┆          │\n",
       "│          ┆ c66e3a74 ┆          ┆       ┆          ┆          │\n",
       "│          ┆ 7f7a4ef3 ┆          ┆       ┆          ┆          │\n",
       "│          ┆ 8187c0bd ┆          ┆       ┆          ┆          │\n",
       "│          ┆ a7843dcd ┆          ┆       ┆          ┆          │\n",
       "│ Heavy    ┆ 1de5fba2 ┆ 2023-08- ┆ 18    ┆ 2588     ┆ 143.7777 │\n",
       "│ Artiller ┆ ec377aab ┆ 23 14:20 ┆       ┆          ┆ 78       │\n",
       "│ y LE     ┆ 1fbf0d95 ┆ :17.6591 ┆       ┆          ┆          │\n",
       "│          ┆ 7120165a ┆ 60       ┆       ┆          ┆          │\n",
       "│          ┆ b2befcc4 ┆          ┆       ┆          ┆          │\n",
       "│          ┆ deaf6e4e ┆          ┆       ┆          ┆          │\n",
       "│          ┆ e20d23cb ┆          ┆       ┆          ┆          │\n",
       "│          ┆ 1dca9efc ┆          ┆       ┆          ┆          │\n",
       "│ Emerald  ┆ 9dda19ad ┆ 2023-08- ┆ 33    ┆ 8483     ┆ 257.0606 │\n",
       "│ City LE  ┆ 9dcc21e8 ┆ 18 15:37 ┆       ┆          ┆ 06       │\n",
       "│          ┆ e546e9a9 ┆ :52.1418 ┆       ┆          ┆          │\n",
       "│          ┆ f9f56273 ┆ 38       ┆       ┆          ┆          │\n",
       "│          ┆ 950c3dcd ┆          ┆       ┆          ┆          │\n",
       "│          ┆ 26f2ff42 ┆          ┆       ┆          ┆          │\n",
       "│          ┆ eea401e8 ┆          ┆       ┆          ┆          │\n",
       "│          ┆ 1de72b4c ┆          ┆       ┆          ┆          │\n",
       "│ …        ┆ …        ┆ …        ┆ …     ┆ …        ┆ …        │\n",
       "│ Deathaur ┆ 206a7316 ┆ 2021-02- ┆ 23    ┆ 5251     ┆ 228.3043 │\n",
       "│ a LE     ┆ 3dea4fe5 ┆ 15 02:23 ┆       ┆          ┆ 48       │\n",
       "│          ┆ 9db5f2e3 ┆ :20.0331 ┆       ┆          ┆          │\n",
       "│          ┆ 7ffe262d ┆ 00       ┆       ┆          ┆          │\n",
       "│          ┆ 5352e9eb ┆          ┆       ┆          ┆          │\n",
       "│          ┆ 7675c610 ┆          ┆       ┆          ┆          │\n",
       "│          ┆ 558b311c ┆          ┆       ┆          ┆          │\n",
       "│          ┆ 0ae96d39 ┆          ┆       ┆          ┆          │\n",
       "│ Deathaur ┆ 256ed72d ┆ 2021-02- ┆ 16    ┆ 1862     ┆ 116.375  │\n",
       "│ a LE     ┆ 84fd8672 ┆ 14 19:43 ┆       ┆          ┆          │\n",
       "│          ┆ 5dcd0007 ┆ :49.2698 ┆       ┆          ┆          │\n",
       "│          ┆ 95aed1e8 ┆ 17       ┆       ┆          ┆          │\n",
       "│          ┆ ba215b22 ┆          ┆       ┆          ┆          │\n",
       "│          ┆ f1ed4b88 ┆          ┆       ┆          ┆          │\n",
       "│          ┆ 6613b054 ┆          ┆       ┆          ┆          │\n",
       "│          ┆ cc65baf5 ┆          ┆       ┆          ┆          │\n",
       "│ Deathaur ┆ 792da475 ┆ 2021-02- ┆ 38    ┆ 16812    ┆ 442.4210 │\n",
       "│ a LE     ┆ 608046d1 ┆ 14 19:40 ┆       ┆          ┆ 53       │\n",
       "│          ┆ 20b29da3 ┆ :12.7312 ┆       ┆          ┆          │\n",
       "│          ┆ d3bd3094 ┆ 73       ┆       ┆          ┆          │\n",
       "│          ┆ fb64d973 ┆          ┆       ┆          ┆          │\n",
       "│          ┆ 9fa84e2c ┆          ┆       ┆          ┆          │\n",
       "│          ┆ 6b706efe ┆          ┆       ┆          ┆          │\n",
       "│          ┆ 7dc06241 ┆          ┆       ┆          ┆          │\n",
       "│ Deathaur ┆ ae4fee23 ┆ 2021-02- ┆ 13    ┆ 408      ┆ 31.38461 │\n",
       "│ a LE     ┆ ba56e7b0 ┆ 14 19:11 ┆       ┆          ┆ 5        │\n",
       "│          ┆ 77b7d1de ┆ :53.9161 ┆       ┆          ┆          │\n",
       "│          ┆ 09f6d25a ┆ 07       ┆       ┆          ┆          │\n",
       "│          ┆ 4d6f5e2e ┆          ┆       ┆          ┆          │\n",
       "│          ┆ 9315206e ┆          ┆       ┆          ┆          │\n",
       "│          ┆ 6ec84cb9 ┆          ┆       ┆          ┆          │\n",
       "│          ┆ 54346f19 ┆          ┆       ┆          ┆          │\n",
       "└──────────┴──────────┴──────────┴───────┴──────────┴──────────┘"
      ]
     },
     "execution_count": 72,
     "metadata": {},
     "output_type": "execute_result"
    }
   ],
   "source": [
    "avg_drones_per_map = (\n",
    "    unit_born_df.join(details_df, on=\"ext_fs_replay_sha256\", how=\"inner\")\n",
    "    .filter(\n",
    "        (pl.col(\"ext_replay_detail_player_name\") == \"2-1-8459957-Sazed\")\n",
    "        & (pl.col(\"unit_type_name\") == \"Drone\")\n",
    "    )\n",
    "    .select(\n",
    "        [\n",
    "            pl.col(\"title\"),\n",
    "            pl.col(\"ext_fs_replay_sha256\"),\n",
    "            pl.col(\"unit_type_name\"),\n",
    "            pl.col(\"ext_replay_loop\"),\n",
    "            pl.col(\"ext_replay_detail_datetime\"),\n",
    "        ]\n",
    "    )\n",
    "    .group_by([\"title\", \"ext_fs_replay_sha256\", \"ext_replay_detail_datetime\"])\n",
    "    .agg(\n",
    "        [\n",
    "            pl.col(\"unit_type_name\").count().alias(\"count\"),\n",
    "            pl.col(\"ext_replay_loop\").max().alias(\"max_loop\"),\n",
    "        ]\n",
    "    )\n",
    "    .filter(pl.col(\"max_loop\") > 50)\n",
    "    .with_columns((pl.col(\"max_loop\") / pl.col(\"count\")).alias(\"avg_per_loop\"))\n",
    "    .collect()\n",
    ")\n",
    "avg_drones_per_map.sort(\"ext_replay_detail_datetime\", descending=True)"
   ]
  },
  {
   "cell_type": "code",
   "execution_count": 71,
   "id": "5df28e82-6331-4be4-9f34-f37a6ba57851",
   "metadata": {
    "scrolled": true
   },
   "outputs": [
    {
     "name": "stderr",
     "output_type": "stream",
     "text": [
      "/home/seb/git/polars/venv/lib/python3.11/site-packages/_plotly_utils/basevalidators.py:105: FutureWarning:\n",
      "\n",
      "The behavior of DatetimeProperties.to_pydatetime is deprecated, in a future version this will return a Series containing python datetime objects instead of an ndarray. To retain the old behavior, call `np.array` on the result\n",
      "\n"
     ]
    },
    {
     "data": {
      "application/vnd.plotly.v1+json": {
       "config": {
        "plotlyServerURL": "https://plot.ly"
       },
       "data": [
        {
         "alignmentgroup": "True",
         "bingroup": "x",
         "histfunc": "sum",
         "hovertemplate": "ext_replay_detail_datetime=%{x}<br>sum of avg_per_loop=%{y}<extra></extra>",
         "legendgroup": "",
         "marker": {
          "color": "#636efa",
          "pattern": {
           "shape": ""
          }
         },
         "name": "",
         "offsetgroup": "",
         "orientation": "v",
         "showlegend": false,
         "type": "histogram",
         "x": [
          "2021-08-21T05:34:06.444213",
          "2021-07-25T09:57:59.295153",
          "2021-04-25T07:26:45.792124",
          "2021-05-12T14:05:38.922330",
          "2021-12-13T18:26:08.808133",
          "2021-12-29T16:48:35.037322",
          "2021-04-14T15:11:34.776993",
          "2021-09-28T18:33:47.187273",
          "2021-06-03T16:28:42.266941",
          "2022-05-24T16:56:38.355699",
          "2021-09-24T13:53:48.087363",
          "2021-10-02T03:26:36.352749",
          "2021-12-23T14:45:10.795991",
          "2021-06-12T05:13:20.660740",
          "2021-12-10T20:55:17.383347",
          "2021-09-25T15:25:34.260585",
          "2022-07-06T16:59:07.982406",
          "2022-03-28T17:18:40.522851",
          "2021-07-03T08:57:23.757764",
          "2021-02-19T22:12:28.948634",
          "2022-07-10T16:51:00.159231",
          "2021-05-16T17:53:14.962315",
          "2021-05-29T17:52:19.411251",
          "2022-07-20T17:30:22.053138",
          "2021-12-19T20:52:39.095993",
          "2022-02-24T20:34:32.367081",
          "2022-01-30T18:08:23.528119",
          "2022-02-12T20:36:07.969001",
          "2022-02-25T20:36:03.660989",
          "2022-04-30T12:45:13.891829",
          "2021-05-12T11:51:22.972386",
          "2022-08-24T15:48:00.877340",
          "2021-11-07T19:23:59.661158",
          "2021-09-11T05:49:24.596601",
          "2022-07-02T16:59:45.527258",
          "2022-12-15T18:48:57.289958",
          "2022-08-29T16:45:34.589265",
          "2022-07-29T19:38:37.444922",
          "2021-11-09T20:15:58.566652",
          "2021-12-20T16:59:18.077507",
          "2023-08-24T13:40:00.903590",
          "2021-11-10T14:55:26.290889",
          "2021-08-10T14:23:24.546618",
          "2022-08-29T15:50:58.333674",
          "2023-08-17T15:24:20.246755",
          "2022-04-23T17:00:02.658510",
          "2022-08-30T16:28:36.389498",
          "2022-03-23T20:19:26.075646",
          "2021-09-10T16:52:45.567821",
          "2023-03-09T19:50:37.934434",
          "2022-04-09T12:22:18.878344",
          "2022-09-24T14:02:40.348631",
          "2021-12-08T17:15:24.548016",
          "2022-09-05T15:28:09.229550",
          "2022-11-01T18:03:16.503846",
          "2023-08-08T14:36:28.305553",
          "2021-12-05T18:09:37.261362",
          "2022-09-18T13:43:05.017294",
          "2023-06-27T14:23:46.132868",
          "2022-10-09T16:08:22.142598",
          "2023-07-24T16:30:32.489611",
          "2022-11-13T17:29:38.271960",
          "2023-08-10T15:39:25.885537",
          "2023-08-13T04:58:49.352204",
          "2022-11-13T18:11:06.689561",
          "2023-08-23T14:20:17.659160",
          "2023-06-02T17:19:40.271427",
          "2021-06-06T11:46:28.995875",
          "2021-12-22T19:44:06.143243",
          "2021-02-16T17:32:17.273173",
          "2021-04-27T13:43:59.164518",
          "2021-03-02T06:38:21.110470",
          "2021-02-15T03:09:59.163410",
          "2022-02-05T17:50:49.886057",
          "2022-01-31T17:47:23.905429",
          "2021-09-21T16:29:55.155712",
          "2021-04-20T13:58:32.433407",
          "2021-12-10T15:05:26.051359",
          "2023-07-25T16:08:58.050601",
          "2022-05-30T17:14:05.769506",
          "2022-04-02T12:34:46.728453",
          "2021-08-15T16:30:52.115990",
          "2022-02-08T18:55:41.345123",
          "2021-09-08T17:09:52.492510",
          "2022-08-24T15:17:13.372845",
          "2022-04-28T15:52:02.896201",
          "2022-06-15T15:17:28.345937",
          "2021-05-09T17:43:41.768367",
          "2022-03-20T16:33:46.017889",
          "2021-10-21T18:30:29.972953",
          "2023-08-12T08:56:29.377051",
          "2022-04-01T15:13:34.757750",
          "2022-08-27T20:07:46.832903",
          "2021-07-21T17:47:51.733927",
          "2021-10-27T18:35:37.094373",
          "2022-04-06T16:15:18.111401",
          "2022-07-01T13:19:51.705400",
          "2021-11-16T19:55:14.474239",
          "2022-04-15T15:56:00.272046",
          "2021-11-02T16:39:42.859259",
          "2022-12-30T19:01:23.285058",
          "2022-04-24T14:09:17.539124",
          "2021-05-25T16:35:09.105747",
          "2021-11-17T19:38:27.348010",
          "2021-12-06T17:19:37.635845",
          "2023-01-06T19:03:47.238421",
          "2021-08-08T12:28:53.619734",
          "2021-11-27T10:32:32.410398",
          "2021-08-14T04:31:29.931486",
          "2021-12-10T20:26:17.499414",
          "2023-04-18T14:23:34.133815",
          "2021-11-16T15:51:14.821558",
          "2022-09-17T15:41:31.160895",
          "2022-10-30T16:56:38.694090",
          "2021-08-07T15:34:33.538145",
          "2023-04-28T17:17:12.264907",
          "2023-07-29T12:00:30.690366",
          "2021-09-02T15:55:08.309970",
          "2021-06-03T17:12:50.708337",
          "2022-04-27T17:49:33.945351",
          "2021-12-18T20:53:23.660449",
          "2022-02-05T19:04:40.947117",
          "2021-02-20T21:32:57.104186",
          "2021-02-23T21:14:56.821342",
          "2021-09-24T13:32:29.608713",
          "2022-01-01T15:29:38.694932",
          "2021-03-03T07:01:20.258258",
          "2021-06-27T13:46:41.118667",
          "2021-06-05T13:35:34.319177",
          "2022-01-07T15:31:40.919900",
          "2021-06-19T10:50:39.679507",
          "2022-06-29T16:15:07.589780",
          "2021-10-23T18:26:52.337998",
          "2021-12-26T18:17:58.433335",
          "2022-06-06T14:22:49.794735",
          "2021-05-25T17:23:28.725244",
          "2022-06-16T17:13:37.230087",
          "2021-12-28T15:26:45.110881",
          "2021-09-02T16:19:18.763377",
          "2021-12-21T18:36:40.980809",
          "2022-04-03T11:58:10.738573",
          "2022-06-14T15:30:41.797820",
          "2021-08-16T15:04:31.514488",
          "2021-12-20T17:16:11.576865",
          "2022-05-29T13:06:59.795592",
          "2021-09-11T18:40:10.567668",
          "2022-05-09T17:02:36.933667",
          "2022-04-02T18:13:52.797967",
          "2021-07-01T16:46:44.612304",
          "2021-04-23T07:51:54.689694",
          "2022-04-05T16:25:31.208544",
          "2022-12-16T17:22:39.384075",
          "2021-08-18T17:40:04.812384",
          "2021-07-18T16:21:19.711540",
          "2023-04-24T15:41:41.654129",
          "2022-07-08T16:22:34.109545",
          "2023-06-10T17:09:55.021879",
          "2022-09-21T16:16:50.361910",
          "2022-03-20T15:48:25.018313",
          "2023-04-18T16:34:52.186035",
          "2022-11-23T13:21:42.496723",
          "2021-12-19T15:08:09.513678",
          "2022-11-13T17:07:55.171191",
          "2021-12-01T19:07:53.681504",
          "2021-10-23T16:46:42.028076",
          "2023-08-03T12:54:40.226431",
          "2022-02-15T18:11:17.132580",
          "2021-06-04T17:10:52.128572",
          "2022-02-18T16:52:28.944445",
          "2022-05-08T14:14:03.655725",
          "2022-05-12T15:18:49.182671",
          "2021-07-10T18:49:22.757609",
          "2021-02-15T02:23:20.033100",
          "2022-02-14T18:43:36.955150",
          "2022-02-28T20:14:09.557309",
          "2021-09-30T15:53:09.964743",
          "2022-04-01T16:52:38.002175",
          "2021-12-27T16:16:20.965731",
          "2022-04-29T16:14:35.982826",
          "2022-03-27T18:14:31.328802",
          "2021-05-16T15:29:31.457557",
          "2021-02-14T19:43:49.269817",
          "2021-08-14T17:34:28.971851",
          "2022-06-14T15:47:24.308380",
          "2021-04-14T15:23:15.253310",
          "2022-03-25T13:32:17.110031",
          "2021-08-21T08:00:21.908132",
          "2021-08-22T15:41:19.569208",
          "2022-07-15T16:05:28.794902",
          "2022-03-25T19:20:47.043012",
          "2022-03-29T17:35:55.419519",
          "2021-10-18T15:50:15.924875",
          "2022-08-27T19:41:18.626552",
          "2022-04-15T15:33:27.607832",
          "2023-05-29T12:01:29.307584",
          "2022-03-24T20:01:27.781579",
          "2021-08-15T15:20:13.009617",
          "2022-03-27T15:16:54.790915",
          "2022-12-30T18:38:47.977441",
          "2023-01-17T18:29:28.343510",
          "2021-07-10T19:10:50.135677",
          "2022-04-24T12:10:43.686129",
          "2021-12-01T16:07:33.269591",
          "2021-12-06T17:38:47.519328",
          "2021-11-27T10:52:11.416327",
          "2022-10-19T15:07:13.053279",
          "2022-07-30T12:54:41.361569",
          "2021-11-20T10:03:12.055848",
          "2023-04-13T15:46:16.857658",
          "2022-11-20T13:35:00.487271",
          "2022-10-30T15:51:04.638861",
          "2022-10-25T13:28:54.096424",
          "2021-12-15T18:38:49.599247",
          "2022-12-23T18:28:34.481951",
          "2021-07-09T17:36:29.122088",
          "2021-09-02T15:41:30.513547",
          "2021-09-05T15:32:24.126376",
          "2021-08-28T16:38:30.021386",
          "2021-12-01T18:51:53.553158",
          "2023-08-13T10:47:05.666796",
          "2023-08-12T17:43:27.549150",
          "2021-05-02T08:53:31.965051",
          "2021-05-04T04:55:55.302033",
          "2021-02-15T17:42:43.037500",
          "2021-11-03T19:56:28.133368",
          "2021-04-15T18:09:52.149314",
          "2022-02-04T19:25:09.017434",
          "2021-10-25T16:43:13.700279",
          "2022-02-26T20:01:11.917890",
          "2021-02-22T06:46:47.030200",
          "2022-02-09T20:51:42.649922",
          "2021-12-30T17:37:01.782020",
          "2022-07-09T16:26:07.500022",
          "2022-07-01T15:19:27.856630",
          "2022-02-28T19:57:30.967132",
          "2022-08-15T14:50:02.588938",
          "2021-12-15T19:12:07.066473",
          "2022-03-19T19:43:48.264544",
          "2021-12-28T17:17:19.592392",
          "2022-08-13T19:21:03.801176",
          "2023-01-05T18:23:54.028379",
          "2021-09-18T11:42:52.366483",
          "2021-09-02T04:38:42.419206",
          "2022-06-05T15:29:13.665339",
          "2021-07-26T14:37:06.349243",
          "2022-06-05T15:05:33.359460",
          "2022-04-30T13:13:41.127741",
          "2022-06-18T16:35:08.935544",
          "2022-08-13T12:04:19.121951",
          "2022-08-13T12:26:36.145579",
          "2021-12-24T17:53:15.528231",
          "2022-04-02T14:44:15.504558",
          "2022-07-31T15:35:19.921193",
          "2022-08-01T13:34:59.411490",
          "2021-04-23T07:17:30.543568",
          "2021-09-18T12:44:50.731213",
          "2021-09-26T17:32:25.662520",
          "2022-12-01T19:01:29.753678",
          "2022-07-29T20:23:41.280125",
          "2022-12-20T14:49:53.968620",
          "2022-08-28T13:50:10.378557",
          "2023-08-17T15:36:24.820907",
          "2023-07-23T16:33:30.155986",
          "2022-03-26T15:35:54.077497",
          "2022-12-31T19:47:09.879876",
          "2021-08-08T17:30:59.487342",
          "2022-08-27T16:12:47.477160",
          "2022-07-30T12:27:58.870338",
          "2021-11-28T17:36:15.863463",
          "2022-09-18T14:26:01.223782",
          "2022-02-03T16:50:13.115360",
          "2021-11-23T19:20:01.842991",
          "2021-11-19T19:29:13.420736",
          "2021-08-20T17:15:14.160753",
          "2021-12-11T18:00:59.607368",
          "2022-11-16T19:23:33.104973",
          "2021-05-01T19:55:26.184086",
          "2022-10-23T16:20:59.523321",
          "2023-04-27T13:03:00.931831",
          "2021-12-21T17:38:04.108910",
          "2021-05-16T17:34:18.406367",
          "2021-06-06T11:11:31.557809",
          "2021-05-10T15:18:24.086934",
          "2021-06-10T02:37:52.683997",
          "2021-05-26T17:37:32.666890",
          "2021-02-15T19:56:11.403941",
          "2022-04-28T14:56:10.080955",
          "2022-02-22T19:08:19.468550",
          "2021-02-19T22:23:20.139781",
          "2022-08-05T20:35:59.437930",
          "2021-09-22T14:40:50.416949",
          "2021-06-12T05:07:41.042705",
          "2021-09-23T16:06:22.221834",
          "2021-07-12T14:36:33.901841",
          "2021-10-31T17:12:41.331670",
          "2021-08-20T04:52:11.383678",
          "2021-07-18T17:13:26.298921",
          "2021-07-03T09:51:38.167604",
          "2021-09-11T16:56:02.627156",
          "2023-03-24T18:58:01.384781",
          "2022-04-27T17:00:38.136493",
          "2022-05-28T18:10:16.347812",
          "2022-02-28T19:36:58.674316",
          "2021-04-27T04:41:19.897627",
          "2022-06-04T17:26:41.643881",
          "2021-12-16T20:56:26.172787",
          "2021-05-13T13:52:05.555776",
          "2021-12-16T17:35:28.971776",
          "2022-08-16T15:29:17.323021",
          "2022-08-16T16:01:54.812709",
          "2022-06-15T15:40:56.222850",
          "2022-02-01T20:08:03.535077",
          "2022-04-03T13:01:30.848686",
          "2022-08-27T14:38:26.529698",
          "2022-06-17T14:07:07.535030",
          "2021-12-28T19:54:15.451496",
          "2022-08-02T18:48:01.740068",
          "2022-03-13T16:55:19.128732",
          "2022-12-27T18:05:35.576442",
          "2022-03-19T20:03:01.489004",
          "2022-03-24T17:29:17.971939",
          "2022-04-27T11:26:36.391600",
          "2022-08-30T15:47:27.262056",
          "2022-09-18T14:04:50.263195",
          "2021-11-30T15:25:48.299874",
          "2022-10-26T16:07:12.697596",
          "2021-08-06T17:40:21.146879",
          "2022-11-03T14:40:28.416439",
          "2022-11-03T14:52:42.310857",
          "2021-12-02T18:24:08.855009",
          "2021-12-07T16:59:27.518452",
          "2021-12-11T18:18:39.093025",
          "2021-05-02T08:34:15.518198",
          "2023-08-24T13:58:26.788993",
          "2022-01-02T17:36:54.837054",
          "2021-02-16T18:29:40.785522",
          "2021-04-16T16:51:50.209908",
          "2021-02-14T19:11:53.916107",
          "2021-02-15T02:39:25.124834",
          "2021-04-11T17:23:02.364751",
          "2022-03-05T20:32:45.166630",
          "2022-08-13T18:38:09.204409",
          "2022-07-11T15:50:25.742507",
          "2021-11-20T09:26:52.000168",
          "2022-07-05T16:44:23.378352",
          "2022-04-24T12:45:29.489804",
          "2022-01-11T17:49:48.961539",
          "2022-03-01T19:46:21.223063",
          "2021-09-30T15:34:10.433036",
          "2022-07-01T16:21:02.366768",
          "2021-12-13T19:14:44.734092",
          "2021-12-27T19:18:47.783579",
          "2022-03-18T19:36:35.409077",
          "2021-09-11T13:43:25.002823",
          "2021-12-13T18:07:47.283451",
          "2022-05-24T17:42:38.427710",
          "2021-09-11T17:13:03.732337",
          "2022-03-30T17:46:45.827003",
          "2022-03-06T19:42:48.016970",
          "2021-09-17T19:11:18.440542",
          "2022-02-27T18:23:11.459342",
          "2021-09-11T17:59:10.413641",
          "2021-10-28T18:19:59.487771",
          "2021-08-07T16:10:02.856821",
          "2022-08-25T15:47:36.836854",
          "2022-06-17T17:45:09.065163",
          "2022-03-05T20:55:00.262651",
          "2022-10-29T06:50:24.150702",
          "2022-12-22T18:30:39.816659",
          "2022-03-13T20:32:50.552124",
          "2022-03-12T18:44:10.382541",
          "2022-08-03T18:09:41.923531",
          "2022-07-29T19:10:21.720531",
          "2022-08-07T18:23:04.781794",
          "2022-04-12T18:03:51.421418",
          "2023-08-13T15:18:31.650265",
          "2022-08-31T16:27:35.211107",
          "2023-01-11T18:58:17.886336",
          "2022-08-16T15:39:47.306576",
          "2022-11-01T17:31:01.955914",
          "2022-04-16T15:51:39.373517",
          "2021-12-05T17:48:42.456026",
          "2021-10-17T16:19:21.763868",
          "2021-12-07T15:28:34.207686",
          "2021-04-18T16:11:48.069307",
          "2022-09-25T16:44:56.381373",
          "2021-11-05T18:59:01.177923",
          "2023-08-08T14:53:19.686881",
          "2023-06-25T12:00:47.440436",
          "2021-07-17T14:01:10.073197",
          "2021-08-17T18:16:13.063878",
          "2022-03-08T18:32:37.752591",
          "2021-11-14T19:33:14.717162",
          "2022-02-15T18:24:46.695310",
          "2021-02-15T18:39:07.734434",
          "2021-06-15T14:23:16.409647",
          "2021-12-23T16:35:28.444526",
          "2021-08-26T07:03:58.269042",
          "2022-02-15T19:19:06.471428",
          "2021-06-03T15:47:22.814647",
          "2021-12-18T21:10:50.294310",
          "2022-01-01T15:49:04.366700",
          "2022-02-05T18:16:56.130593",
          "2022-07-08T16:11:01.004505",
          "2021-07-22T15:07:56.917627",
          "2021-04-12T13:44:26.565305",
          "2021-12-12T18:25:17.760433",
          "2022-06-04T17:37:44.245330",
          "2022-01-01T16:30:37.576830",
          "2022-04-01T17:16:13.619508",
          "2021-09-08T11:09:20.200325",
          "2022-05-30T17:40:44.129272",
          "2022-02-23T20:06:40.673740",
          "2022-06-14T16:00:11.782930",
          "2022-03-16T20:00:20.227732",
          "2022-09-03T14:22:57.870510",
          "2023-04-13T14:51:24.723513",
          "2021-11-10T19:25:29.904346",
          "2022-03-29T16:37:20.143005",
          "2022-12-31T19:04:21.974331",
          "2022-07-02T14:24:54.971236",
          "2021-09-24T14:07:33.475357",
          "2022-07-30T12:44:12.405789",
          "2022-07-29T18:46:14.367620",
          "2021-09-30T15:24:29.844154",
          "2022-03-20T18:35:41.704306",
          "2022-08-27T19:09:47.062555",
          "2021-11-06T15:27:20.603946",
          "2022-05-29T13:44:50.207362",
          "2021-11-11T17:45:19.096402",
          "2021-07-03T09:18:07.206407",
          "2023-02-13T19:02:21.782019",
          "2021-11-20T09:43:53.581644",
          "2021-12-03T20:16:29.354232",
          "2023-04-28T17:43:55.576125",
          "2021-11-12T21:18:51.350471",
          "2023-03-06T20:09:07.303013",
          "2022-12-03T14:44:38.661327",
          "2022-12-03T15:32:18.414519",
          "2021-12-18T20:24:51.743689",
          "2022-10-30T16:47:34.539519",
          "2023-08-09T13:22:23.290468",
          "2023-06-10T16:53:57.637699",
          "2023-06-19T15:37:15.204488",
          "2023-07-23T15:14:20.572892",
          "2023-08-03T13:17:14.678842",
          "2021-04-27T16:57:21.052026",
          "2021-05-11T17:22:57.142541",
          "2021-04-14T15:44:47.645955",
          "2021-02-16T17:52:07.136404",
          "2021-02-16T18:04:10.597225",
          "2022-08-12T18:23:52.862887",
          "2022-02-18T16:13:24.368560",
          "2021-06-12T04:58:59.846095",
          "2021-11-10T19:58:05.810794",
          "2021-06-19T13:56:58.775044",
          "2022-01-13T19:35:14.215173",
          "2022-01-14T18:20:22.435910",
          "2022-05-21T13:34:23.595824",
          "2021-09-25T17:19:39.451351",
          "2021-07-10T14:34:07.792627",
          "2021-06-16T04:44:00.630613",
          "2022-02-20T17:24:40.612950",
          "2021-12-12T16:44:47.461633",
          "2021-10-19T14:47:00.842870",
          "2021-10-27T12:02:56.749898",
          "2021-12-24T18:31:06.713904",
          "2022-01-02T18:29:39.806622",
          "2021-09-07T11:03:28.218171",
          "2022-06-28T14:08:43.281975",
          "2021-08-06T11:59:02.533333",
          "2021-07-09T13:21:38.014815",
          "2022-02-24T20:00:29.456430",
          "2022-12-07T17:37:14.080759",
          "2023-01-05T20:02:35.706674",
          "2022-04-02T15:55:06.294096",
          "2022-04-08T17:53:50.027200",
          "2023-01-02T19:51:52.259106",
          "2023-01-23T19:16:03.732162",
          "2022-03-08T17:57:35.696487",
          "2023-01-18T19:09:17.151601",
          "2021-11-29T15:27:53.133207",
          "2021-11-17T19:14:27.274005",
          "2023-02-03T17:58:06.100979",
          "2021-07-31T16:13:15.917043",
          "2022-09-03T13:08:21.586673",
          "2022-11-02T15:24:11.632310",
          "2022-11-15T17:35:14.117733",
          "2022-10-25T12:03:07.609022",
          "2022-10-30T15:38:40.073217",
          "2023-08-08T15:55:00.418552",
          "2023-08-13T15:33:28.145965",
          "2021-04-24T14:40:43.521482",
          "2022-03-12T15:14:05.771804",
          "2022-02-03T21:13:40.760817",
          "2021-04-19T11:39:20.132547",
          "2022-01-02T18:11:57.722785",
          "2021-06-26T17:38:29.284983",
          "2021-09-04T05:03:13.380338",
          "2021-05-25T17:11:59.329096",
          "2021-02-15T03:06:47.707636",
          "2021-11-27T12:34:07.824380",
          "2021-04-14T14:53:18.521936",
          "2021-09-07T13:39:02.666926",
          "2022-02-07T19:11:00.193758",
          "2022-03-04T18:52:36.601295",
          "2023-07-25T15:43:59.123205",
          "2022-02-08T19:18:08.358655",
          "2022-09-03T18:34:14.286626",
          "2021-08-08T13:12:48.665040",
          "2021-09-12T07:19:08.877060",
          "2022-06-02T16:41:05.025510",
          "2021-07-09T12:31:08.559811",
          "2022-08-27T14:19:06.565939",
          "2021-07-20T16:21:55.789667",
          "2021-04-24T07:26:33.090573",
          "2021-10-20T12:07:55.072829",
          "2022-04-17T18:03:51.361770",
          "2021-10-10T15:10:03.136693",
          "2021-08-17T16:28:34.343089",
          "2021-09-23T16:18:17.302876",
          "2022-08-12T16:04:58.684183",
          "2021-07-26T14:50:47.922473",
          "2022-07-29T20:05:16.426682",
          "2022-12-21T15:39:26.362874",
          "2021-12-12T18:47:52.294784",
          "2022-04-21T17:39:57.039806",
          "2022-12-19T17:35:39.591529",
          "2022-09-08T16:07:24.656983",
          "2021-11-16T19:12:56.101643",
          "2023-01-06T19:52:45.165457",
          "2022-08-20T17:45:52.844630",
          "2022-10-22T15:54:34.322990",
          "2021-12-04T19:28:28.991750",
          "2022-11-01T17:50:37.791408",
          "2022-11-04T15:33:58.433721",
          "2021-12-07T17:14:04.891647",
          "2022-12-04T15:29:24.441578",
          "2022-02-03T17:23:13.918953",
          "2022-02-22T18:14:59.249015",
          "2022-02-17T19:27:00.838138",
          "2022-01-01T18:27:22.368217",
          "2021-06-22T17:08:24.363030",
          "2021-06-10T02:52:41.811133",
          "2021-06-03T17:37:51.405454",
          "2021-05-26T16:35:29.288844",
          "2021-02-23T21:26:41.441474",
          "2021-11-12T14:50:57.211664",
          "2022-04-28T16:12:48.217486",
          "2022-06-03T14:54:56.767408",
          "2021-03-17T06:49:52.882475",
          "2021-04-01T04:36:36.215811",
          "2021-07-10T16:42:04.574297",
          "2021-10-25T16:58:22.843814",
          "2022-01-07T15:35:50.367184",
          "2021-12-09T16:33:02.699380",
          "2022-07-12T16:09:07.304534",
          "2022-02-26T20:50:53.187976",
          "2021-12-29T17:12:27.438145",
          "2022-07-09T16:00:46.144866",
          "2022-07-11T15:37:35.325910",
          "2021-08-13T16:34:36.608818",
          "2021-04-23T06:52:23.423823",
          "2021-11-08T18:53:28.812305",
          "2021-12-20T17:24:05.323953",
          "2021-12-21T17:57:41.681264",
          "2022-08-19T17:48:32.087235",
          "2022-12-03T10:28:44.142937",
          "2022-02-28T19:04:35.755009",
          "2022-07-02T14:08:03.336400",
          "2022-08-28T13:07:38.127889",
          "2022-12-17T17:46:38.076443",
          "2021-05-01T18:42:28.855034",
          "2022-03-27T17:47:19.182573",
          "2022-03-25T14:58:14.628279",
          "2023-01-23T19:03:24.988631",
          "2023-03-06T20:35:30.259177",
          "2022-04-23T13:27:51.983890",
          "2021-11-27T09:45:00.351506",
          "2022-09-08T15:47:17.397605",
          "2022-07-01T14:43:09.150857",
          "2021-08-07T17:57:35.081107",
          "2021-11-19T12:11:31.725838",
          "2021-11-29T15:48:27.766991",
          "2021-12-12T17:42:37.556908",
          "2021-11-30T18:43:03.620506",
          "2022-04-03T12:36:50.771931",
          "2022-10-08T15:40:36.317560",
          "2022-10-16T14:27:13.247710",
          "2021-04-05T08:27:34.596596",
          "2021-11-19T12:39:11.671489",
          "2021-05-22T18:16:40.472778",
          "2022-11-18T18:31:36.356067",
          "2022-02-17T20:19:32.250179",
          "2022-02-03T17:29:08.700011",
          "2022-02-20T17:14:29.819072",
          "2021-07-17T14:41:32.192836",
          "2022-02-04T18:59:07.068073",
          "2022-02-22T17:53:30.534167",
          "2021-08-28T13:27:54.663920",
          "2021-04-12T13:13:54.354962",
          "2021-04-05T07:04:18.445288",
          "2022-06-13T16:38:17.794419",
          "2021-10-23T15:14:32.401536",
          "2022-01-05T18:28:04.294608",
          "2021-10-10T14:47:07.270602",
          "2021-12-24T15:07:33.535421",
          "2021-06-03T15:09:06.240566",
          "2022-11-01T16:14:41.734424",
          "2021-08-28T09:23:26.461279",
          "2021-11-10T15:03:58.799615",
          "2022-04-04T17:02:40.040419",
          "2021-07-17T08:21:54.293453",
          "2022-04-05T15:15:16.046877",
          "2021-06-04T15:15:28.450276",
          "2021-12-27T15:29:57.999920",
          "2022-12-24T20:08:58.048504",
          "2022-03-27T14:58:13.692967",
          "2022-12-31T18:43:30.050084",
          "2021-07-22T18:18:04.272812",
          "2022-09-25T14:39:55.078217",
          "2021-07-10T15:34:28.089359",
          "2022-03-28T15:22:54.588780",
          "2021-08-15T11:45:44.278861",
          "2022-12-22T18:01:04.519075",
          "2021-10-13T14:39:17.598743",
          "2021-08-21T19:12:12.301799",
          "2023-04-01T18:47:11.130779",
          "2021-10-19T16:28:57.783345",
          "2022-04-08T17:22:11.567037",
          "2022-08-07T18:37:41.206382",
          "2021-09-13T12:53:38.369617",
          "2022-03-17T19:54:39.003124",
          "2022-08-05T19:15:13.862742",
          "2022-04-19T16:55:47.278403",
          "2023-04-13T14:30:49.289253",
          "2021-11-12T22:08:07.755805",
          "2022-09-25T15:14:18.162518",
          "2022-12-03T14:30:24.375126",
          "2021-12-06T18:09:06.817178",
          "2022-10-16T14:04:17.281411",
          "2023-08-12T17:48:31.610817",
          "2021-09-10T11:29:50.042053",
          "2023-06-25T12:39:13.269669",
          "2022-04-18T16:55:19.788291",
          "2021-02-17T06:22:33.793366",
          "2022-02-22T18:31:02.093008",
          "2021-06-06T08:22:57.211070",
          "2021-06-06T08:50:30.253736",
          "2021-06-18T16:38:54.603321",
          "2021-05-26T16:53:47.403199",
          "2022-07-27T18:13:06.620317",
          "2021-06-26T17:48:23.387647",
          "2021-02-20T21:20:21.030351",
          "2022-02-06T17:19:45.771323",
          "2022-03-06T18:28:33.965034",
          "2021-07-30T14:15:38.548031",
          "2021-12-14T20:24:10.433342",
          "2021-09-07T10:44:26.330966",
          "2021-12-04T18:27:46.369239",
          "2021-05-18T16:48:13.871355",
          "2023-07-23T15:44:55.237728",
          "2021-07-03T17:07:51.159452",
          "2022-04-18T16:31:35.879760",
          "2021-05-01T20:13:20.810348",
          "2022-06-27T17:01:07.397052",
          "2021-09-17T12:04:35.504060",
          "2021-07-27T15:15:51.879055",
          "2021-09-11T19:20:26.769376",
          "2021-07-29T14:38:31.076252",
          "2021-12-22T18:04:20.728109",
          "2022-10-20T17:23:54.876840",
          "2021-11-11T15:59:14.612322",
          "2023-01-15T15:19:41.421177",
          "2021-08-15T17:21:15.200868",
          "2022-03-12T18:13:50.401244",
          "2022-04-05T15:32:33.982626",
          "2021-11-02T15:55:27.390261",
          "2022-08-29T16:21:58.248111",
          "2021-07-31T15:03:39.362012",
          "2022-03-19T18:38:09.895354",
          "2021-10-18T16:05:42.163324",
          "2022-03-18T19:00:30.883564",
          "2021-12-03T19:56:07.902345",
          "2022-04-21T17:44:00.747906",
          "2022-12-27T17:25:24.958310",
          "2022-12-27T18:23:28.925557",
          "2022-05-17T16:34:42.041674",
          "2021-04-24T08:08:50.804751",
          "2021-11-23T15:24:48.884449",
          "2021-11-23T17:01:45.843556",
          "2022-09-04T16:48:01.035957",
          "2021-07-17T14:18:01.775553",
          "2021-08-20T16:56:17.005836",
          "2022-07-24T18:55:41.058588",
          "2023-04-13T15:18:09.037314",
          "2023-07-29T12:45:11.365876",
          "2021-12-04T19:03:13.149373",
          "2021-12-10T21:04:08.658978",
          "2022-09-07T18:39:53.988551",
          "2022-12-07T17:14:54.936622",
          "2023-08-08T16:15:30.479917",
          "2023-08-04T15:41:16.606473",
          "2022-01-07T20:14:43.311208",
          "2021-08-27T08:37:20.710778",
          "2021-12-27T16:44:56.443119",
          "2021-02-14T19:40:12.731273",
          "2021-07-03T14:06:31.247756",
          "2021-06-27T14:30:57.132969",
          "2021-02-22T06:59:58.658209",
          "2021-06-18T16:51:54.518411",
          "2021-02-15T03:16:00.058728",
          "2021-12-24T16:16:46.478726",
          "2022-01-05T17:25:23.654231",
          "2022-02-17T18:35:16.437569",
          "2021-09-23T16:38:53.642873",
          "2022-01-12T19:25:21.483899",
          "2022-01-05T18:19:58.438371",
          "2021-07-29T11:57:44.775934",
          "2021-10-30T15:54:35.445857",
          "2022-12-22T19:50:30.814829",
          "2022-05-29T12:48:40.201913",
          "2021-10-17T15:57:09.612431",
          "2021-07-22T15:25:07.544469",
          "2022-07-27T17:58:20.573282",
          "2022-03-13T19:40:07.831974",
          "2021-05-13T13:30:38.307267",
          "2022-12-01T18:25:47.669975",
          "2022-06-17T13:19:24.911812",
          "2022-12-04T16:27:15.141625",
          "2022-03-12T15:29:26.857701",
          "2022-08-01T13:52:17.788836",
          "2022-03-12T16:11:24.108427",
          "2021-07-28T17:26:42.163519",
          "2022-11-24T16:30:49.947022",
          "2022-07-29T14:44:30.119007",
          "2022-04-05T17:04:58.595515",
          "2022-04-09T16:46:13.334974",
          "2022-08-28T13:25:17.510705",
          "2022-08-19T14:19:51.483521",
          "2022-04-15T16:50:01.372587",
          "2022-04-18T17:19:00.727400",
          "2023-01-04T19:40:00.934707",
          "2021-07-31T06:23:59.713699",
          "2022-11-01T16:32:38.517839",
          "2022-11-20T15:49:24.664909",
          "2021-11-29T18:05:02.856890",
          "2022-10-29T13:46:20.248167",
          "2021-12-05T15:10:27.230648",
          "2022-09-16T18:06:23.552158",
          "2022-09-25T17:21:25.875050",
          "2022-10-01T12:57:09.562849",
          "2023-07-21T15:35:42.560628",
          "2022-12-23T19:08:55.432937",
          "2022-10-30T16:01:23.090950",
          "2023-08-11T16:41:45.043442",
          "2021-02-15T19:07:01.432229",
          "2022-01-10T19:20:41.677881",
          "2021-12-17T17:54:40.024440",
          "2022-02-05T20:42:20.429094",
          "2021-11-27T18:00:09.316842",
          "2022-03-01T02:41:53.712514",
          "2021-05-02T08:23:35.242197",
          "2021-09-30T16:05:30.177105",
          "2022-04-17T17:41:30.143415",
          "2022-01-06T18:13:03.706518",
          "2021-12-26T18:32:23.014910",
          "2021-07-13T17:17:41.582309",
          "2021-12-27T20:11:20.568102",
          "2022-08-14T19:10:45.421297",
          "2022-07-05T16:32:16.115907",
          "2022-01-08T20:46:43.364784",
          "2021-09-09T16:41:10.906205",
          "2021-11-21T14:49:30.737619",
          "2021-08-08T16:44:52.057037",
          "2021-08-12T15:35:24.753448",
          "2021-09-13T06:46:26.895239",
          "2022-06-29T15:55:05.822367",
          "2022-04-01T16:12:21.410309",
          "2022-06-06T14:59:43.786883",
          "2021-11-08T19:36:00.692030",
          "2022-03-01T17:06:46.817892",
          "2022-06-19T15:40:43.989775",
          "2022-10-20T16:14:13.188075",
          "2022-06-23T15:05:57.686052",
          "2022-06-23T15:40:16.939199",
          "2022-04-06T14:04:33.826872",
          "2021-08-22T15:27:18.696435",
          "2023-03-06T19:56:00.502844",
          "2023-04-30T12:43:20.275143",
          "2023-01-03T17:15:55.634915",
          "2023-02-14T20:19:46.259935",
          "2023-02-14T20:03:17.685559",
          "2021-11-13T19:37:02.809779",
          "2023-01-04T19:18:14.437428",
          "2021-11-14T13:55:07.830102",
          "2022-04-16T17:17:56.030214",
          "2023-04-28T13:53:05.908473",
          "2021-11-27T17:35:52.569599",
          "2021-05-25T16:05:55.992463",
          "2022-09-26T16:44:20.538900",
          "2021-12-13T16:45:22.888359",
          "2021-07-18T16:41:30.363536",
          "2022-09-25T17:01:50.847854",
          "2023-08-18T15:37:52.141838",
          "2021-11-28T14:46:31.416211",
          "2021-08-22T06:28:49.398531",
          "2022-04-27T12:06:22.378756",
          "2022-03-01T20:07:07.413988",
          "2021-02-15T18:57:38.320050",
          "2022-03-13T18:45:26.308645",
          "2021-12-24T15:48:35.853363",
          "2021-05-29T15:37:20.702491",
          "2022-08-01T14:17:19.041350",
          "2021-11-27T17:12:10.222203",
          "2021-02-20T21:22:19.137853",
          "2021-02-22T06:38:30.436423",
          "2022-02-27T16:22:38.794229",
          "2021-04-13T16:35:52.181099",
          "2022-02-12T20:28:11.528217",
          "2022-07-13T14:52:09.992802",
          "2021-07-31T16:45:50.569183",
          "2022-01-04T18:31:48.792239",
          "2021-04-14T04:52:06.420281",
          "2022-01-13T16:05:01.792635",
          "2021-06-06T11:40:15.350447",
          "2021-11-25T16:00:45.358141",
          "2022-01-31T18:18:09.325036",
          "2021-09-21T19:51:58.594070",
          "2022-12-24T15:54:10.986419",
          "2022-06-19T16:00:48.537547",
          "2021-05-10T14:20:04.784384",
          "2021-09-29T17:21:20.042926",
          "2021-09-06T15:52:23.896109",
          "2022-08-19T14:30:09.816340",
          "2022-04-03T13:48:39.295888",
          "2022-03-24T18:21:48.290027",
          "2022-03-02T17:30:39.801488",
          "2021-07-18T14:10:16.447218",
          "2022-03-12T17:44:09.622876",
          "2022-12-16T17:50:55.183414",
          "2022-03-17T20:09:22.200623",
          "2022-04-06T15:58:04.957027",
          "2022-03-12T15:45:48.275799",
          "2022-08-24T17:07:01.061467",
          "2022-08-10T18:09:03.167657",
          "2023-04-28T14:07:08.597377",
          "2021-08-22T15:09:49.035936",
          "2023-07-29T11:48:51.414669",
          "2022-08-28T14:14:27.294384",
          "2022-07-28T17:34:44.885495",
          "2023-02-03T20:18:53.959074",
          "2022-04-19T17:12:58.198554",
          "2022-07-02T17:11:29.431748",
          "2022-07-29T14:32:18.368078",
          "2022-07-02T12:01:31.204122",
          "2022-08-27T17:05:13.090608",
          "2023-04-18T16:12:15.742630",
          "2022-11-01T17:02:35.817154",
          "2022-09-03T19:41:28.047124",
          "2021-12-08T19:44:15.728124",
          "2022-10-08T15:47:57.866688",
          "2022-11-20T19:17:02.167899",
          "2022-11-01T17:56:04.013442",
          "2021-07-20T16:07:26.422993",
          "2022-12-19T17:06:41.956447",
          "2022-09-24T13:43:50.354981",
          "2021-12-14T17:07:29.373720",
          "2021-08-12T15:19:15.925377",
          "2022-10-09T15:24:43.131338",
          "2023-07-27T15:41:33.376370",
          "2021-12-18T22:05:03.971622",
          "2022-11-02T15:08:38.011582",
          "2023-08-10T15:17:04.665384",
          "2022-10-30T17:23:32.485569",
          "2023-08-13T15:52:11.005877",
          "2022-11-20T19:00:44.024724",
          "2023-06-25T13:22:30.798745"
         ],
         "xaxis": "x",
         "y": [
          227.2086956521739,
          209.36082474226805,
          218.86065573770492,
          274.36170212765956,
          183.1235294117647,
          229.015873015873,
          248.74100719424462,
          235.7311827956989,
          255.9591836734694,
          231.9245283018868,
          199.56,
          301.9189189189189,
          167.37614678899084,
          224.95238095238096,
          196.65714285714284,
          226.31313131313132,
          198.11627906976744,
          212.96891191709844,
          200.05263157894737,
          464.2,
          224.1238095238095,
          208.3135593220339,
          144.6818181818182,
          230.67105263157896,
          277.3551912568306,
          232.20149253731344,
          365.14,
          266.25925925925924,
          362.3859649122807,
          202.873417721519,
          211.0344827586207,
          257.77142857142854,
          329.9714285714286,
          515.3728813559322,
          336.5632183908046,
          238.96842105263158,
          340.2448979591837,
          433.76056338028167,
          217.68867924528303,
          268.4823529411765,
          376.6923076923077,
          521.3055555555555,
          245.98850574712642,
          276.2352941176471,
          305.68595041322317,
          198.52941176470588,
          301.39285714285717,
          183.2751677852349,
          199.328125,
          320.97777777777776,
          193.87272727272727,
          255.42105263157896,
          282.3606557377049,
          394.11578947368423,
          342,
          154.6315789473684,
          376.4590163934426,
          195.90243902439025,
          142.98095238095237,
          198.94405594405595,
          295.7169811320755,
          348.7843137254902,
          245.85714285714286,
          379.50666666666666,
          168.71134020618555,
          143.77777777777777,
          224.5,
          245.42222222222222,
          187.6,
          475.9428571428571,
          302.74626865671644,
          412.52272727272725,
          225.14285714285714,
          211.02564102564102,
          261.05970149253733,
          295.86486486486484,
          195.9506172839506,
          204.3548387096774,
          380.88695652173914,
          271.0103092783505,
          298.39285714285717,
          194.34513274336283,
          303.60714285714283,
          320.25,
          222.8252427184466,
          194.17,
          268.08196721311475,
          241.7157894736842,
          276.7676767676768,
          298.7230769230769,
          267.7956989247312,
          285.2631578947368,
          297.3265306122449,
          204.6013071895425,
          296.3490566037736,
          284.8131868131868,
          283.63380281690144,
          284.5925925925926,
          342.949494949495,
          303.7962962962963,
          219.20833333333334,
          256.51063829787233,
          352.38461538461536,
          237.34415584415584,
          431.65909090909093,
          207.80701754385964,
          245.9,
          295.33663366336634,
          210.46666666666667,
          245.52,
          256.7105263157895,
          211.28925619834712,
          311.29411764705884,
          239.28333333333333,
          304.6666666666667,
          222.9951690821256,
          365.48936170212767,
          256.36619718309856,
          230.2258064516129,
          240.56424581005587,
          317.52222222222224,
          270.21794871794873,
          371.72340425531917,
          31.384615384615383,
          233.52702702702703,
          177.85826771653544,
          428.13793103448273,
          209.29268292682926,
          249.0948275862069,
          230.4,
          350.56164383561645,
          245.0909090909091,
          236.2549019607843,
          299.4886363636364,
          175.6,
          524.8888888888889,
          389.9887640449438,
          260.9767441860465,
          282.010989010989,
          240.9640287769784,
          173.70634920634922,
          246.2596153846154,
          357.42857142857144,
          232.93805309734512,
          229.07534246575344,
          431.765306122449,
          205.9699248120301,
          187.65,
          258.6969696969697,
          205.42056074766356,
          369.0744680851064,
          220.4904458598726,
          221.81553398058253,
          224.56962025316454,
          391.5,
          430.84615384615387,
          153.2941176470588,
          287.635593220339,
          231.31623931623932,
          372.2631578947368,
          192.57615894039736,
          201.66101694915255,
          160.19230769230768,
          246.24752475247524,
          222.6219512195122,
          465.92,
          247.06474820143885,
          461.144578313253,
          283,
          196.98275862068965,
          167.6783625730994,
          276.37179487179486,
          228.30434782608697,
          253.0701754385965,
          131.23008849557522,
          192.8372093023256,
          245.91447368421052,
          336.7155963302752,
          301.1730769230769,
          397.74074074074076,
          293.51851851851853,
          116.375,
          226.79768786127167,
          563.3414634146342,
          205.36986301369862,
          371.5977011494253,
          186.38297872340425,
          239.43396226415095,
          235.34408602150538,
          173.9526627218935,
          318.2012578616352,
          319.6422764227642,
          357.7073170731707,
          184.8265306122449,
          220.7685185185185,
          297.22222222222223,
          217.57037037037037,
          208.07438016528926,
          208.3859649122807,
          304.367816091954,
          261.688679245283,
          419.4406779661017,
          200.0609756097561,
          209.65671641791045,
          231.928,
          228.32432432432432,
          241,
          191.81730769230768,
          268.0082644628099,
          266.5934065934066,
          198.61666666666667,
          432.52525252525254,
          267.6164383561644,
          571.12,
          273.27777777777777,
          258.36559139784947,
          235.99115044247787,
          205.28947368421052,
          238.87209302325581,
          305.56410256410254,
          287.99122807017545,
          251.29885057471265,
          208.2237762237762,
          233.83333333333334,
          242.8978102189781,
          34.92307692307692,
          284.7319587628866,
          227.02380952380952,
          367.9583333333333,
          496.5,
          254.9059829059829,
          234.23214285714286,
          228.61068702290078,
          422.0833333333333,
          182.05208333333334,
          194.01492537313433,
          290.29,
          218.83098591549296,
          300.825,
          191.11494252873564,
          118.96581196581197,
          307.5980392156863,
          239.75590551181102,
          209.7403846153846,
          370.46610169491527,
          292.9313725490196,
          168.47727272727272,
          235.11320754716982,
          349.4875,
          222.80722891566265,
          194.00735294117646,
          252.375,
          213.4262295081967,
          177.40384615384616,
          149.625,
          304.5959595959596,
          264.84466019417476,
          276.12631578947367,
          200.2283950617284,
          357.4237288135593,
          209.74358974358975,
          251.47368421052633,
          192.19886363636363,
          189.02758620689656,
          314.67105263157896,
          310.69924812030075,
          339.5833333333333,
          287.8,
          280.136,
          189.66129032258064,
          526.8888888888889,
          203.13978494623655,
          269.17021276595744,
          245.4214876033058,
          228.0625,
          261.25,
          249.2941176470588,
          310.13,
          173.31896551724137,
          179.8548387096774,
          316.6629213483146,
          31.846153846153847,
          175.4468085106383,
          193.39473684210526,
          313,
          425.5238095238095,
          189.2235294117647,
          164.63120567375887,
          257.95714285714286,
          463.4195804195804,
          223.24242424242425,
          398.7931034482759,
          310.358024691358,
          257.27891156462584,
          325.60869565217394,
          239.20325203252034,
          86.70588235294117,
          388.0657894736842,
          315.96875,
          248.53781512605042,
          197.36496350364965,
          284.5625,
          252.69354838709677,
          292,
          249.34615384615384,
          519.4878048780488,
          253.93959731543623,
          245.22608695652173,
          256.0104166666667,
          456.67123287671234,
          284.8082191780822,
          836.1538461538462,
          200.82119205298014,
          192.62773722627736,
          198.5985401459854,
          328.7083333333333,
          251,
          152.4298245614035,
          191.75,
          224.28971962616822,
          169.5114503816794,
          258.855421686747,
          263.7244897959184,
          213.268115942029,
          236.75,
          203.171875,
          202.51818181818183,
          286.1940298507463,
          238.10294117647058,
          194.41666666666666,
          207.75352112676057,
          189.1216216216216,
          262.86842105263156,
          322.32911392405066,
          208.81034482758622,
          418,
          247.21052631578948,
          31.384615384615383,
          228.79166666666666,
          352.3917525773196,
          312.8,
          287.4190476190476,
          422.36170212765956,
          178.295719844358,
          293.5,
          312.2096774193548,
          189,
          264.348623853211,
          241.2,
          215.42307692307693,
          259.7977528089888,
          183.94565217391303,
          362.9758064516129,
          165.09345794392524,
          182.43157894736842,
          268.44897959183675,
          201.3913043478261,
          273.873417721519,
          182.92929292929293,
          268.89247311827955,
          306.671875,
          256.4864864864865,
          266.37719298245617,
          220.87704918032787,
          248.7826086956522,
          248.38888888888889,
          343.66326530612247,
          322.62666666666667,
          292.42857142857144,
          232.69426751592357,
          200.49557522123894,
          230.12037037037038,
          439.05882352941177,
          230.17757009345794,
          195.46875,
          548.015625,
          238.21014492753622,
          342.5135135135135,
          179,
          346.62608695652176,
          253.6390977443609,
          307.5,
          262.95364238410593,
          260.26732673267327,
          804.9102564102565,
          258.4193548387097,
          264.34090909090907,
          175.54,
          156.24193548387098,
          229.5084745762712,
          222.1875,
          216.325,
          203.0233918128655,
          173.27184466019418,
          478.48571428571427,
          185.375,
          215.38095238095238,
          194.6036036036036,
          231.0300751879699,
          249.9016393442623,
          201.6627906976744,
          349.0769230769231,
          232.72,
          213.06578947368422,
          215.38636363636363,
          194.36170212765958,
          215.98979591836735,
          204.87912087912088,
          199.76,
          196.59259259259258,
          131.25416666666666,
          507.77142857142854,
          138.69076305220884,
          290.04477611940297,
          263.47058823529414,
          253.11926605504587,
          80.6,
          402.5970149253731,
          286.3193277310924,
          249.10833333333332,
          164.01904761904763,
          176.41129032258064,
          216.3763440860215,
          186.5,
          358.6930693069307,
          138.42156862745097,
          329.0810810810811,
          274.84444444444443,
          278.2696629213483,
          179.1958041958042,
          383.7142857142857,
          385.84615384615387,
          262.6,
          198.6583850931677,
          302.0390625,
          211.86065573770492,
          209.8170731707317,
          161.6846846846847,
          268.81702127659577,
          173.6969696969697,
          222.53333333333333,
          287.09183673469386,
          156.98901098901098,
          226.10416666666666,
          178.140350877193,
          288.8,
          363.38461538461536,
          288.3768115942029,
          273.0777777777778,
          31.384615384615383,
          389.19607843137254,
          256.34375,
          213.5157894736842,
          300.86813186813185,
          370.30841121495325,
          216.16901408450704,
          160.65254237288136,
          361.65625,
          237.31730769230768,
          532.0196078431372,
          217.8080808080808,
          413.84375,
          413.1,
          284.35227272727275,
          294,
          266.6060606060606,
          396.96666666666664,
          224.19834710743802,
          265.14150943396226,
          208.19463087248323,
          190.28571428571428,
          288.21794871794873,
          191.16167664670658,
          277.9920634920635,
          274.6601941747573,
          192.808,
          231.9181818181818,
          411.1515151515151,
          207.27927927927928,
          167.17977528089887,
          215.5165876777251,
          180.65853658536585,
          177.92660550458714,
          181.72916666666666,
          284.2945205479452,
          219.33333333333334,
          257.8863636363636,
          264.0561797752809,
          198.00833333333333,
          343.2647058823529,
          348.3801652892562,
          269.51960784313724,
          310.0897435897436,
          213.38202247191012,
          258.8305084745763,
          210.9078014184397,
          205.53383458646616,
          435.71875,
          201.8913043478261,
          237.51162790697674,
          31.384615384615383,
          237.91538461538462,
          264.8636363636364,
          289.59090909090907,
          246.58778625954199,
          407.8255813953488,
          206.04950495049505,
          287.3972602739726,
          185.98214285714286,
          278.8196721311475,
          228.86170212765958,
          189.15584415584416,
          310.30434782608694,
          320.97457627118644,
          221.70093457943926,
          216.9298245614035,
          194.0701754385965,
          236.00833333333333,
          246.53174603174602,
          228.35238095238094,
          207.39361702127658,
          251.3781512605042,
          192.56410256410257,
          232.8728813559322,
          284.0687022900763,
          222.08982035928145,
          261.5625,
          358.42452830188677,
          274.60869565217394,
          249.19626168224298,
          282.42011834319527,
          333.14,
          232.41739130434783,
          436.4175824175824,
          196.43333333333334,
          239.99264705882354,
          189.73469387755102,
          330.6744186046512,
          184.78321678321677,
          246.90833333333333,
          188.08527131782947,
          251.94285714285715,
          175.74809160305344,
          198.74074074074073,
          197.67857142857142,
          188.73949579831933,
          383.375,
          321.1818181818182,
          273.6788990825688,
          324.2105263157895,
          373.12820512820514,
          230.375,
          199.33536585365854,
          214.184,
          224.41176470588235,
          422.2,
          174.6021505376344,
          405.30434782608694,
          330.40909090909093,
          236.9618320610687,
          227.04347826086956,
          126.84482758620689,
          204.3,
          258.85074626865674,
          443.6,
          158.61061946902655,
          294.6630434782609,
          299.1,
          219.17821782178217,
          229.06349206349208,
          232.24475524475525,
          243.4126984126984,
          99,
          209,
          308.2325581395349,
          494.74285714285713,
          206.12422360248448,
          259.873417721519,
          197.21978021978023,
          226.87735849056602,
          168.5151515151515,
          221.984496124031,
          244.46808510638297,
          254.6122448979592,
          333.07894736842104,
          174.5839416058394,
          657.5454545454545,
          247.04109589041096,
          220.96610169491527,
          279,
          330.60526315789474,
          226.28787878787878,
          195.26174496644296,
          186.91919191919192,
          249.76923076923077,
          233.22448979591837,
          334.15384615384613,
          183.18367346938774,
          371.2112676056338,
          197.8074074074074,
          219.46987951807228,
          498.4,
          238.11904761904762,
          194.93023255813952,
          180.95652173913044,
          220.51807228915663,
          189.3063063063063,
          221.49624060150376,
          287.22352941176473,
          393.33576642335765,
          191.97619047619048,
          229.65060240963857,
          204.05479452054794,
          417.5,
          233.078125,
          190.06666666666666,
          254.86776859504133,
          190.3148148148148,
          190.41121495327104,
          445.33653846153845,
          261.31944444444446,
          305.27868852459017,
          317.63235294117646,
          212.73584905660377,
          232.62745098039215,
          230.16666666666666,
          293.99378881987576,
          247.86206896551724,
          465.8196721311475,
          272.44444444444446,
          214.90434782608696,
          242.46,
          225.03809523809525,
          365.7291666666667,
          238.03603603603602,
          167.45833333333334,
          283.3,
          380.3448275862069,
          195.23853211009174,
          311.6046511627907,
          261.0506329113924,
          207,
          253.13333333333333,
          519.7076923076924,
          386.5483870967742,
          116.25,
          218.0900900900901,
          170.9712643678161,
          247.38095238095238,
          193.125,
          189.93617021276594,
          287.79411764705884,
          500.90909090909093,
          416.8139534883721,
          201.47014925373134,
          200.61417322834646,
          174.58,
          291.97478991596637,
          247.94805194805195,
          251.3695652173913,
          265.6744186046512,
          444.05102040816325,
          324.675,
          190.29007633587787,
          305.5940594059406,
          269.2073170731707,
          312.9795918367347,
          294.38,
          328.94029850746267,
          280.7313432835821,
          126.10924369747899,
          218.09166666666667,
          366.0615384615385,
          224.63492063492063,
          246.8135593220339,
          254.93333333333334,
          255.65686274509804,
          176.63302752293578,
          302.6734693877551,
          150.1509433962264,
          249.5,
          300.97402597402595,
          203.8957055214724,
          197.07432432432432,
          260.2608695652174,
          210.83333333333334,
          157.37777777777777,
          445.9642857142857,
          303.1,
          351.97701149425285,
          242.53608247422682,
          217.2125,
          205.23469387755102,
          204.96732026143792,
          188.58992805755395,
          305.8944099378882,
          292.4375,
          217.2952380952381,
          174.4891304347826,
          306.8333333333333,
          216.5,
          220.61379310344827,
          406.40909090909093,
          196.19387755102042,
          241.58503401360545,
          205.3968253968254,
          442.42105263157896,
          335.49056603773585,
          405.34285714285716,
          409.20454545454544,
          186.43548387096774,
          31.384615384615383,
          247.03149606299212,
          160.25,
          200.2970297029703,
          226.88235294117646,
          240.04255319148936,
          388.4923076923077,
          223.1195652173913,
          279.0217391304348,
          303.25333333333333,
          162.9264705882353,
          316.9896907216495,
          260.6333333333333,
          185.48181818181817,
          159.56944444444446,
          268.7826086956522,
          231.06015037593986,
          219.2695035460993,
          202.12571428571428,
          158.88888888888889,
          359.8412698412698,
          251.57407407407408,
          175.50381679389312,
          204.85714285714286,
          248.3015873015873,
          596.2321428571429,
          216.41666666666666,
          220.22307692307692,
          251.04132231404958,
          205.3861386138614,
          221.29090909090908,
          375.96,
          243.27184466019418,
          199.97540983606558,
          389.38759689922483,
          413.6142857142857,
          235.12844036697248,
          354.5,
          181.2,
          301.60833333333335,
          212.00645161290322,
          278.6231884057971,
          263.172131147541,
          255.39655172413794,
          250.52941176470588,
          477.53125,
          212.955223880597,
          214.3790322580645,
          200.04237288135593,
          197.76190476190476,
          314.3333333333333,
          223.79310344827587,
          259,
          233.36363636363637,
          710.5652173913044,
          196.17441860465115,
          199.05434782608697,
          451.72340425531917,
          212.2625,
          303.24107142857144,
          254.80459770114942,
          192.14457831325302,
          225.7608695652174,
          320.5217391304348,
          187.81147540983608,
          190.73611111111111,
          388.0693069306931,
          206.12087912087912,
          185.92567567567568,
          280.3636363636364,
          226.46808510638297,
          289.2089552238806,
          209.44036697247705,
          258.5531914893617,
          214.84615384615384,
          349.94202898550725,
          267.94805194805195,
          154.25,
          242.76047904191617,
          158.46067415730337,
          178.42592592592592,
          247.3375,
          380.39130434782606,
          243.61475409836066,
          226.46666666666667,
          309.28125,
          249.84337349397592,
          193.348623853211,
          194,
          176.28823529411764,
          242.93150684931507,
          251.80851063829786,
          188.9075630252101,
          257.06060606060606,
          489.219512195122,
          340.39622641509436,
          215.69444444444446,
          355.79487179487177,
          31.384615384615383,
          212.40495867768595,
          264.84615384615387,
          229.35616438356163,
          546.1571428571428,
          275.6625,
          116.25,
          233.16666666666666,
          472.02702702702703,
          137.75,
          190.61194029850745,
          282.5,
          222.43362831858408,
          270.10526315789474,
          457.41379310344826,
          245.04545454545453,
          285.4864864864865,
          213.53435114503816,
          181.5,
          649.5555555555555,
          249.25,
          168.9895287958115,
          255.75438596491227,
          188.38793103448276,
          221.21698113207546,
          217.3090909090909,
          254.16483516483515,
          285.7608695652174,
          192.56756756756758,
          224.05228758169935,
          248.05,
          281.93388429752065,
          295.9710144927536,
          207.31746031746033,
          211.56716417910448,
          252.59701492537314,
          195.16216216216216,
          192.0327868852459,
          246.84415584415584,
          299.0967741935484,
          348.13684210526316,
          256.71597633136093,
          228.2280701754386,
          202.01960784313727,
          260.078431372549,
          298.2197802197802,
          578.5571428571428,
          197.29166666666666,
          251.52201257861634,
          331.63157894736844,
          173.9240506329114,
          249.30337078651687,
          174.3181818181818,
          217.16521739130434,
          177.21951219512195,
          180.09782608695653,
          188.22388059701493,
          219.1078431372549,
          249.23728813559322,
          215.76,
          200.66304347826087,
          318.2142857142857,
          321.6545454545454,
          233.51546391752578,
          192.6451612903226,
          348.64864864864865,
          243.02803738317758,
          268.39864864864865,
          194.18584070796462
         ],
         "yaxis": "y"
        }
       ],
       "layout": {
        "autosize": true,
        "barmode": "relative",
        "legend": {
         "tracegroupgap": 0
        },
        "margin": {
         "t": 60
        },
        "template": {
         "data": {
          "bar": [
           {
            "error_x": {
             "color": "#2a3f5f"
            },
            "error_y": {
             "color": "#2a3f5f"
            },
            "marker": {
             "line": {
              "color": "#E5ECF6",
              "width": 0.5
             },
             "pattern": {
              "fillmode": "overlay",
              "size": 10,
              "solidity": 0.2
             }
            },
            "type": "bar"
           }
          ],
          "barpolar": [
           {
            "marker": {
             "line": {
              "color": "#E5ECF6",
              "width": 0.5
             },
             "pattern": {
              "fillmode": "overlay",
              "size": 10,
              "solidity": 0.2
             }
            },
            "type": "barpolar"
           }
          ],
          "carpet": [
           {
            "aaxis": {
             "endlinecolor": "#2a3f5f",
             "gridcolor": "white",
             "linecolor": "white",
             "minorgridcolor": "white",
             "startlinecolor": "#2a3f5f"
            },
            "baxis": {
             "endlinecolor": "#2a3f5f",
             "gridcolor": "white",
             "linecolor": "white",
             "minorgridcolor": "white",
             "startlinecolor": "#2a3f5f"
            },
            "type": "carpet"
           }
          ],
          "choropleth": [
           {
            "colorbar": {
             "outlinewidth": 0,
             "ticks": ""
            },
            "type": "choropleth"
           }
          ],
          "contour": [
           {
            "colorbar": {
             "outlinewidth": 0,
             "ticks": ""
            },
            "colorscale": [
             [
              0,
              "#0d0887"
             ],
             [
              0.1111111111111111,
              "#46039f"
             ],
             [
              0.2222222222222222,
              "#7201a8"
             ],
             [
              0.3333333333333333,
              "#9c179e"
             ],
             [
              0.4444444444444444,
              "#bd3786"
             ],
             [
              0.5555555555555556,
              "#d8576b"
             ],
             [
              0.6666666666666666,
              "#ed7953"
             ],
             [
              0.7777777777777778,
              "#fb9f3a"
             ],
             [
              0.8888888888888888,
              "#fdca26"
             ],
             [
              1,
              "#f0f921"
             ]
            ],
            "type": "contour"
           }
          ],
          "contourcarpet": [
           {
            "colorbar": {
             "outlinewidth": 0,
             "ticks": ""
            },
            "type": "contourcarpet"
           }
          ],
          "heatmap": [
           {
            "colorbar": {
             "outlinewidth": 0,
             "ticks": ""
            },
            "colorscale": [
             [
              0,
              "#0d0887"
             ],
             [
              0.1111111111111111,
              "#46039f"
             ],
             [
              0.2222222222222222,
              "#7201a8"
             ],
             [
              0.3333333333333333,
              "#9c179e"
             ],
             [
              0.4444444444444444,
              "#bd3786"
             ],
             [
              0.5555555555555556,
              "#d8576b"
             ],
             [
              0.6666666666666666,
              "#ed7953"
             ],
             [
              0.7777777777777778,
              "#fb9f3a"
             ],
             [
              0.8888888888888888,
              "#fdca26"
             ],
             [
              1,
              "#f0f921"
             ]
            ],
            "type": "heatmap"
           }
          ],
          "heatmapgl": [
           {
            "colorbar": {
             "outlinewidth": 0,
             "ticks": ""
            },
            "colorscale": [
             [
              0,
              "#0d0887"
             ],
             [
              0.1111111111111111,
              "#46039f"
             ],
             [
              0.2222222222222222,
              "#7201a8"
             ],
             [
              0.3333333333333333,
              "#9c179e"
             ],
             [
              0.4444444444444444,
              "#bd3786"
             ],
             [
              0.5555555555555556,
              "#d8576b"
             ],
             [
              0.6666666666666666,
              "#ed7953"
             ],
             [
              0.7777777777777778,
              "#fb9f3a"
             ],
             [
              0.8888888888888888,
              "#fdca26"
             ],
             [
              1,
              "#f0f921"
             ]
            ],
            "type": "heatmapgl"
           }
          ],
          "histogram": [
           {
            "marker": {
             "pattern": {
              "fillmode": "overlay",
              "size": 10,
              "solidity": 0.2
             }
            },
            "type": "histogram"
           }
          ],
          "histogram2d": [
           {
            "colorbar": {
             "outlinewidth": 0,
             "ticks": ""
            },
            "colorscale": [
             [
              0,
              "#0d0887"
             ],
             [
              0.1111111111111111,
              "#46039f"
             ],
             [
              0.2222222222222222,
              "#7201a8"
             ],
             [
              0.3333333333333333,
              "#9c179e"
             ],
             [
              0.4444444444444444,
              "#bd3786"
             ],
             [
              0.5555555555555556,
              "#d8576b"
             ],
             [
              0.6666666666666666,
              "#ed7953"
             ],
             [
              0.7777777777777778,
              "#fb9f3a"
             ],
             [
              0.8888888888888888,
              "#fdca26"
             ],
             [
              1,
              "#f0f921"
             ]
            ],
            "type": "histogram2d"
           }
          ],
          "histogram2dcontour": [
           {
            "colorbar": {
             "outlinewidth": 0,
             "ticks": ""
            },
            "colorscale": [
             [
              0,
              "#0d0887"
             ],
             [
              0.1111111111111111,
              "#46039f"
             ],
             [
              0.2222222222222222,
              "#7201a8"
             ],
             [
              0.3333333333333333,
              "#9c179e"
             ],
             [
              0.4444444444444444,
              "#bd3786"
             ],
             [
              0.5555555555555556,
              "#d8576b"
             ],
             [
              0.6666666666666666,
              "#ed7953"
             ],
             [
              0.7777777777777778,
              "#fb9f3a"
             ],
             [
              0.8888888888888888,
              "#fdca26"
             ],
             [
              1,
              "#f0f921"
             ]
            ],
            "type": "histogram2dcontour"
           }
          ],
          "mesh3d": [
           {
            "colorbar": {
             "outlinewidth": 0,
             "ticks": ""
            },
            "type": "mesh3d"
           }
          ],
          "parcoords": [
           {
            "line": {
             "colorbar": {
              "outlinewidth": 0,
              "ticks": ""
             }
            },
            "type": "parcoords"
           }
          ],
          "pie": [
           {
            "automargin": true,
            "type": "pie"
           }
          ],
          "scatter": [
           {
            "fillpattern": {
             "fillmode": "overlay",
             "size": 10,
             "solidity": 0.2
            },
            "type": "scatter"
           }
          ],
          "scatter3d": [
           {
            "line": {
             "colorbar": {
              "outlinewidth": 0,
              "ticks": ""
             }
            },
            "marker": {
             "colorbar": {
              "outlinewidth": 0,
              "ticks": ""
             }
            },
            "type": "scatter3d"
           }
          ],
          "scattercarpet": [
           {
            "marker": {
             "colorbar": {
              "outlinewidth": 0,
              "ticks": ""
             }
            },
            "type": "scattercarpet"
           }
          ],
          "scattergeo": [
           {
            "marker": {
             "colorbar": {
              "outlinewidth": 0,
              "ticks": ""
             }
            },
            "type": "scattergeo"
           }
          ],
          "scattergl": [
           {
            "marker": {
             "colorbar": {
              "outlinewidth": 0,
              "ticks": ""
             }
            },
            "type": "scattergl"
           }
          ],
          "scattermapbox": [
           {
            "marker": {
             "colorbar": {
              "outlinewidth": 0,
              "ticks": ""
             }
            },
            "type": "scattermapbox"
           }
          ],
          "scatterpolar": [
           {
            "marker": {
             "colorbar": {
              "outlinewidth": 0,
              "ticks": ""
             }
            },
            "type": "scatterpolar"
           }
          ],
          "scatterpolargl": [
           {
            "marker": {
             "colorbar": {
              "outlinewidth": 0,
              "ticks": ""
             }
            },
            "type": "scatterpolargl"
           }
          ],
          "scatterternary": [
           {
            "marker": {
             "colorbar": {
              "outlinewidth": 0,
              "ticks": ""
             }
            },
            "type": "scatterternary"
           }
          ],
          "surface": [
           {
            "colorbar": {
             "outlinewidth": 0,
             "ticks": ""
            },
            "colorscale": [
             [
              0,
              "#0d0887"
             ],
             [
              0.1111111111111111,
              "#46039f"
             ],
             [
              0.2222222222222222,
              "#7201a8"
             ],
             [
              0.3333333333333333,
              "#9c179e"
             ],
             [
              0.4444444444444444,
              "#bd3786"
             ],
             [
              0.5555555555555556,
              "#d8576b"
             ],
             [
              0.6666666666666666,
              "#ed7953"
             ],
             [
              0.7777777777777778,
              "#fb9f3a"
             ],
             [
              0.8888888888888888,
              "#fdca26"
             ],
             [
              1,
              "#f0f921"
             ]
            ],
            "type": "surface"
           }
          ],
          "table": [
           {
            "cells": {
             "fill": {
              "color": "#EBF0F8"
             },
             "line": {
              "color": "white"
             }
            },
            "header": {
             "fill": {
              "color": "#C8D4E3"
             },
             "line": {
              "color": "white"
             }
            },
            "type": "table"
           }
          ]
         },
         "layout": {
          "annotationdefaults": {
           "arrowcolor": "#2a3f5f",
           "arrowhead": 0,
           "arrowwidth": 1
          },
          "autotypenumbers": "strict",
          "coloraxis": {
           "colorbar": {
            "outlinewidth": 0,
            "ticks": ""
           }
          },
          "colorscale": {
           "diverging": [
            [
             0,
             "#8e0152"
            ],
            [
             0.1,
             "#c51b7d"
            ],
            [
             0.2,
             "#de77ae"
            ],
            [
             0.3,
             "#f1b6da"
            ],
            [
             0.4,
             "#fde0ef"
            ],
            [
             0.5,
             "#f7f7f7"
            ],
            [
             0.6,
             "#e6f5d0"
            ],
            [
             0.7,
             "#b8e186"
            ],
            [
             0.8,
             "#7fbc41"
            ],
            [
             0.9,
             "#4d9221"
            ],
            [
             1,
             "#276419"
            ]
           ],
           "sequential": [
            [
             0,
             "#0d0887"
            ],
            [
             0.1111111111111111,
             "#46039f"
            ],
            [
             0.2222222222222222,
             "#7201a8"
            ],
            [
             0.3333333333333333,
             "#9c179e"
            ],
            [
             0.4444444444444444,
             "#bd3786"
            ],
            [
             0.5555555555555556,
             "#d8576b"
            ],
            [
             0.6666666666666666,
             "#ed7953"
            ],
            [
             0.7777777777777778,
             "#fb9f3a"
            ],
            [
             0.8888888888888888,
             "#fdca26"
            ],
            [
             1,
             "#f0f921"
            ]
           ],
           "sequentialminus": [
            [
             0,
             "#0d0887"
            ],
            [
             0.1111111111111111,
             "#46039f"
            ],
            [
             0.2222222222222222,
             "#7201a8"
            ],
            [
             0.3333333333333333,
             "#9c179e"
            ],
            [
             0.4444444444444444,
             "#bd3786"
            ],
            [
             0.5555555555555556,
             "#d8576b"
            ],
            [
             0.6666666666666666,
             "#ed7953"
            ],
            [
             0.7777777777777778,
             "#fb9f3a"
            ],
            [
             0.8888888888888888,
             "#fdca26"
            ],
            [
             1,
             "#f0f921"
            ]
           ]
          },
          "colorway": [
           "#636efa",
           "#EF553B",
           "#00cc96",
           "#ab63fa",
           "#FFA15A",
           "#19d3f3",
           "#FF6692",
           "#B6E880",
           "#FF97FF",
           "#FECB52"
          ],
          "font": {
           "color": "#2a3f5f"
          },
          "geo": {
           "bgcolor": "white",
           "lakecolor": "white",
           "landcolor": "#E5ECF6",
           "showlakes": true,
           "showland": true,
           "subunitcolor": "white"
          },
          "hoverlabel": {
           "align": "left"
          },
          "hovermode": "closest",
          "mapbox": {
           "style": "light"
          },
          "paper_bgcolor": "white",
          "plot_bgcolor": "#E5ECF6",
          "polar": {
           "angularaxis": {
            "gridcolor": "white",
            "linecolor": "white",
            "ticks": ""
           },
           "bgcolor": "#E5ECF6",
           "radialaxis": {
            "gridcolor": "white",
            "linecolor": "white",
            "ticks": ""
           }
          },
          "scene": {
           "xaxis": {
            "backgroundcolor": "#E5ECF6",
            "gridcolor": "white",
            "gridwidth": 2,
            "linecolor": "white",
            "showbackground": true,
            "ticks": "",
            "zerolinecolor": "white"
           },
           "yaxis": {
            "backgroundcolor": "#E5ECF6",
            "gridcolor": "white",
            "gridwidth": 2,
            "linecolor": "white",
            "showbackground": true,
            "ticks": "",
            "zerolinecolor": "white"
           },
           "zaxis": {
            "backgroundcolor": "#E5ECF6",
            "gridcolor": "white",
            "gridwidth": 2,
            "linecolor": "white",
            "showbackground": true,
            "ticks": "",
            "zerolinecolor": "white"
           }
          },
          "shapedefaults": {
           "line": {
            "color": "#2a3f5f"
           }
          },
          "ternary": {
           "aaxis": {
            "gridcolor": "white",
            "linecolor": "white",
            "ticks": ""
           },
           "baxis": {
            "gridcolor": "white",
            "linecolor": "white",
            "ticks": ""
           },
           "bgcolor": "#E5ECF6",
           "caxis": {
            "gridcolor": "white",
            "linecolor": "white",
            "ticks": ""
           }
          },
          "title": {
           "x": 0.05
          },
          "xaxis": {
           "automargin": true,
           "gridcolor": "white",
           "linecolor": "white",
           "ticks": "",
           "title": {
            "standoff": 15
           },
           "zerolinecolor": "white",
           "zerolinewidth": 2
          },
          "yaxis": {
           "automargin": true,
           "gridcolor": "white",
           "linecolor": "white",
           "ticks": "",
           "title": {
            "standoff": 15
           },
           "zerolinecolor": "white",
           "zerolinewidth": 2
          }
         }
        },
        "xaxis": {
         "anchor": "y",
         "autorange": true,
         "domain": [
          0,
          1
         ],
         "range": [
          "2021-01-31 06:00",
          "2023-08-31 06:00"
         ],
         "title": {
          "text": "ext_replay_detail_datetime"
         },
         "type": "date"
        },
        "yaxis": {
         "anchor": "x",
         "autorange": true,
         "domain": [
          0,
          1
         ],
         "range": [
          0,
          20608.34590411975
         ],
         "title": {
          "text": "sum of avg_per_loop"
         },
         "type": "linear"
        }
       }
      },
      "image/png": "[encoded data removed]",
      "text/html": [
       "<div>                            <div id=\"6a3cbd19-105a-4a2e-b527-3f8fcd20c88d\" class=\"plotly-graph-div\" style=\"height:525px; width:100%;\"></div>            <script type=\"text/javascript\">                require([\"plotly\"], function(Plotly) {                    window.PLOTLYENV=window.PLOTLYENV || {};                                    if (document.getElementById(\"6a3cbd19-105a-4a2e-b527-3f8fcd20c88d\")) {                    Plotly.newPlot(                        \"6a3cbd19-105a-4a2e-b527-3f8fcd20c88d\",                        [{\"alignmentgroup\":\"True\",\"bingroup\":\"x\",\"histfunc\":\"sum\",\"hovertemplate\":\"ext_replay_detail_datetime=%{x}\\u003cbr\\u003esum of avg_per_loop=%{y}\\u003cextra\\u003e\\u003c\\u002fextra\\u003e\",\"legendgroup\":\"\",\"marker\":{\"color\":\"#636efa\",\"pattern\":{\"shape\":\"\"}},\"name\":\"\",\"offsetgroup\":\"\",\"orientation\":\"v\",\"showlegend\":false,\"x\":[\"2021-08-21T05:34:06.444213\",\"2021-07-25T09:57:59.295153\",\"2021-04-25T07:26:45.792124\",\"2021-05-12T14:05:38.922330\",\"2021-12-13T18:26:08.808133\",\"2021-12-29T16:48:35.037322\",\"2021-04-14T15:11:34.776993\",\"2021-09-28T18:33:47.187273\",\"2021-06-03T16:28:42.266941\",\"2022-05-24T16:56:38.355699\",\"2021-09-24T13:53:48.087363\",\"2021-10-02T03:26:36.352749\",\"2021-12-23T14:45:10.795991\",\"2021-06-12T05:13:20.660740\",\"2021-12-10T20:55:17.383347\",\"2021-09-25T15:25:34.260585\",\"2022-07-06T16:59:07.982406\",\"2022-03-28T17:18:40.522851\",\"2021-07-03T08:57:23.757764\",\"2021-02-19T22:12:28.948634\",\"2022-07-10T16:51:00.159231\",\"2021-05-16T17:53:14.962315\",\"2021-05-29T17:52:19.411251\",\"2022-07-20T17:30:22.053138\",\"2021-12-19T20:52:39.095993\",\"2022-02-24T20:34:32.367081\",\"2022-01-30T18:08:23.528119\",\"2022-02-12T20:36:07.969001\",\"2022-02-25T20:36:03.660989\",\"2022-04-30T12:45:13.891829\",\"2021-05-12T11:51:22.972386\",\"2022-08-24T15:48:00.877340\",\"2021-11-07T19:23:59.661158\",\"2021-09-11T05:49:24.596601\",\"2022-07-02T16:59:45.527258\",\"2022-12-15T18:48:57.289958\",\"2022-08-29T16:45:34.589265\",\"2022-07-29T19:38:37.444922\",\"2021-11-09T20:15:58.566652\",\"2021-12-20T16:59:18.077507\",\"2023-08-24T13:40:00.903590\",\"2021-11-10T14:55:26.290889\",\"2021-08-10T14:23:24.546618\",\"2022-08-29T15:50:58.333674\",\"2023-08-17T15:24:20.246755\",\"2022-04-23T17:00:02.658510\",\"2022-08-30T16:28:36.389498\",\"2022-03-23T20:19:26.075646\",\"2021-09-10T16:52:45.567821\",\"2023-03-09T19:50:37.934434\",\"2022-04-09T12:22:18.878344\",\"2022-09-24T14:02:40.348631\",\"2021-12-08T17:15:24.548016\",\"2022-09-05T15:28:09.229550\",\"2022-11-01T18:03:16.503846\",\"2023-08-08T14:36:28.305553\",\"2021-12-05T18:09:37.261362\",\"2022-09-18T13:43:05.017294\",\"2023-06-27T14:23:46.132868\",\"2022-10-09T16:08:22.142598\",\"2023-07-24T16:30:32.489611\",\"2022-11-13T17:29:38.271960\",\"2023-08-10T15:39:25.885537\",\"2023-08-13T04:58:49.352204\",\"2022-11-13T18:11:06.689561\",\"2023-08-23T14:20:17.659160\",\"2023-06-02T17:19:40.271427\",\"2021-06-06T11:46:28.995875\",\"2021-12-22T19:44:06.143243\",\"2021-02-16T17:32:17.273173\",\"2021-04-27T13:43:59.164518\",\"2021-03-02T06:38:21.110470\",\"2021-02-15T03:09:59.163410\",\"2022-02-05T17:50:49.886057\",\"2022-01-31T17:47:23.905429\",\"2021-09-21T16:29:55.155712\",\"2021-04-20T13:58:32.433407\",\"2021-12-10T15:05:26.051359\",\"2023-07-25T16:08:58.050601\",\"2022-05-30T17:14:05.769506\",\"2022-04-02T12:34:46.728453\",\"2021-08-15T16:30:52.115990\",\"2022-02-08T18:55:41.345123\",\"2021-09-08T17:09:52.492510\",\"2022-08-24T15:17:13.372845\",\"2022-04-28T15:52:02.896201\",\"2022-06-15T15:17:28.345937\",\"2021-05-09T17:43:41.768367\",\"2022-03-20T16:33:46.017889\",\"2021-10-21T18:30:29.972953\",\"2023-08-12T08:56:29.377051\",\"2022-04-01T15:13:34.757750\",\"2022-08-27T20:07:46.832903\",\"2021-07-21T17:47:51.733927\",\"2021-10-27T18:35:37.094373\",\"2022-04-06T16:15:18.111401\",\"2022-07-01T13:19:51.705400\",\"2021-11-16T19:55:14.474239\",\"2022-04-15T15:56:00.272046\",\"2021-11-02T16:39:42.859259\",\"2022-12-30T19:01:23.285058\",\"2022-04-24T14:09:17.539124\",\"2021-05-25T16:35:09.105747\",\"2021-11-17T19:38:27.348010\",\"2021-12-06T17:19:37.635845\",\"2023-01-06T19:03:47.238421\",\"2021-08-08T12:28:53.619734\",\"2021-11-27T10:32:32.410398\",\"2021-08-14T04:31:29.931486\",\"2021-12-10T20:26:17.499414\",\"2023-04-18T14:23:34.133815\",\"2021-11-16T15:51:14.821558\",\"2022-09-17T15:41:31.160895\",\"2022-10-30T16:56:38.694090\",\"2021-08-07T15:34:33.538145\",\"2023-04-28T17:17:12.264907\",\"2023-07-29T12:00:30.690366\",\"2021-09-02T15:55:08.309970\",\"2021-06-03T17:12:50.708337\",\"2022-04-27T17:49:33.945351\",\"2021-12-18T20:53:23.660449\",\"2022-02-05T19:04:40.947117\",\"2021-02-20T21:32:57.104186\",\"2021-02-23T21:14:56.821342\",\"2021-09-24T13:32:29.608713\",\"2022-01-01T15:29:38.694932\",\"2021-03-03T07:01:20.258258\",\"2021-06-27T13:46:41.118667\",\"2021-06-05T13:35:34.319177\",\"2022-01-07T15:31:40.919900\",\"2021-06-19T10:50:39.679507\",\"2022-06-29T16:15:07.589780\",\"2021-10-23T18:26:52.337998\",\"2021-12-26T18:17:58.433335\",\"2022-06-06T14:22:49.794735\",\"2021-05-25T17:23:28.725244\",\"2022-06-16T17:13:37.230087\",\"2021-12-28T15:26:45.110881\",\"2021-09-02T16:19:18.763377\",\"2021-12-21T18:36:40.980809\",\"2022-04-03T11:58:10.738573\",\"2022-06-14T15:30:41.797820\",\"2021-08-16T15:04:31.514488\",\"2021-12-20T17:16:11.576865\",\"2022-05-29T13:06:59.795592\",\"2021-09-11T18:40:10.567668\",\"2022-05-09T17:02:36.933667\",\"2022-04-02T18:13:52.797967\",\"2021-07-01T16:46:44.612304\",\"2021-04-23T07:51:54.689694\",\"2022-04-05T16:25:31.208544\",\"2022-12-16T17:22:39.384075\",\"2021-08-18T17:40:04.812384\",\"2021-07-18T16:21:19.711540\",\"2023-04-24T15:41:41.654129\",\"2022-07-08T16:22:34.109545\",\"2023-06-10T17:09:55.021879\",\"2022-09-21T16:16:50.361910\",\"2022-03-20T15:48:25.018313\",\"2023-04-18T16:34:52.186035\",\"2022-11-23T13:21:42.496723\",\"2021-12-19T15:08:09.513678\",\"2022-11-13T17:07:55.171191\",\"2021-12-01T19:07:53.681504\",\"2021-10-23T16:46:42.028076\",\"2023-08-03T12:54:40.226431\",\"2022-02-15T18:11:17.132580\",\"2021-06-04T17:10:52.128572\",\"2022-02-18T16:52:28.944445\",\"2022-05-08T14:14:03.655725\",\"2022-05-12T15:18:49.182671\",\"2021-07-10T18:49:22.757609\",\"2021-02-15T02:23:20.033100\",\"2022-02-14T18:43:36.955150\",\"2022-02-28T20:14:09.557309\",\"2021-09-30T15:53:09.964743\",\"2022-04-01T16:52:38.002175\",\"2021-12-27T16:16:20.965731\",\"2022-04-29T16:14:35.982826\",\"2022-03-27T18:14:31.328802\",\"2021-05-16T15:29:31.457557\",\"2021-02-14T19:43:49.269817\",\"2021-08-14T17:34:28.971851\",\"2022-06-14T15:47:24.308380\",\"2021-04-14T15:23:15.253310\",\"2022-03-25T13:32:17.110031\",\"2021-08-21T08:00:21.908132\",\"2021-08-22T15:41:19.569208\",\"2022-07-15T16:05:28.794902\",\"2022-03-25T19:20:47.043012\",\"2022-03-29T17:35:55.419519\",\"2021-10-18T15:50:15.924875\",\"2022-08-27T19:41:18.626552\",\"2022-04-15T15:33:27.607832\",\"2023-05-29T12:01:29.307584\",\"2022-03-24T20:01:27.781579\",\"2021-08-15T15:20:13.009617\",\"2022-03-27T15:16:54.790915\",\"2022-12-30T18:38:47.977441\",\"2023-01-17T18:29:28.343510\",\"2021-07-10T19:10:50.135677\",\"2022-04-24T12:10:43.686129\",\"2021-12-01T16:07:33.269591\",\"2021-12-06T17:38:47.519328\",\"2021-11-27T10:52:11.416327\",\"2022-10-19T15:07:13.053279\",\"2022-07-30T12:54:41.361569\",\"2021-11-20T10:03:12.055848\",\"2023-04-13T15:46:16.857658\",\"2022-11-20T13:35:00.487271\",\"2022-10-30T15:51:04.638861\",\"2022-10-25T13:28:54.096424\",\"2021-12-15T18:38:49.599247\",\"2022-12-23T18:28:34.481951\",\"2021-07-09T17:36:29.122088\",\"2021-09-02T15:41:30.513547\",\"2021-09-05T15:32:24.126376\",\"2021-08-28T16:38:30.021386\",\"2021-12-01T18:51:53.553158\",\"2023-08-13T10:47:05.666796\",\"2023-08-12T17:43:27.549150\",\"2021-05-02T08:53:31.965051\",\"2021-05-04T04:55:55.302033\",\"2021-02-15T17:42:43.037500\",\"2021-11-03T19:56:28.133368\",\"2021-04-15T18:09:52.149314\",\"2022-02-04T19:25:09.017434\",\"2021-10-25T16:43:13.700279\",\"2022-02-26T20:01:11.917890\",\"2021-02-22T06:46:47.030200\",\"2022-02-09T20:51:42.649922\",\"2021-12-30T17:37:01.782020\",\"2022-07-09T16:26:07.500022\",\"2022-07-01T15:19:27.856630\",\"2022-02-28T19:57:30.967132\",\"2022-08-15T14:50:02.588938\",\"2021-12-15T19:12:07.066473\",\"2022-03-19T19:43:48.264544\",\"2021-12-28T17:17:19.592392\",\"2022-08-13T19:21:03.801176\",\"2023-01-05T18:23:54.028379\",\"2021-09-18T11:42:52.366483\",\"2021-09-02T04:38:42.419206\",\"2022-06-05T15:29:13.665339\",\"2021-07-26T14:37:06.349243\",\"2022-06-05T15:05:33.359460\",\"2022-04-30T13:13:41.127741\",\"2022-06-18T16:35:08.935544\",\"2022-08-13T12:04:19.121951\",\"2022-08-13T12:26:36.145579\",\"2021-12-24T17:53:15.528231\",\"2022-04-02T14:44:15.504558\",\"2022-07-31T15:35:19.921193\",\"2022-08-01T13:34:59.411490\",\"2021-04-23T07:17:30.543568\",\"2021-09-18T12:44:50.731213\",\"2021-09-26T17:32:25.662520\",\"2022-12-01T19:01:29.753678\",\"2022-07-29T20:23:41.280125\",\"2022-12-20T14:49:53.968620\",\"2022-08-28T13:50:10.378557\",\"2023-08-17T15:36:24.820907\",\"2023-07-23T16:33:30.155986\",\"2022-03-26T15:35:54.077497\",\"2022-12-31T19:47:09.879876\",\"2021-08-08T17:30:59.487342\",\"2022-08-27T16:12:47.477160\",\"2022-07-30T12:27:58.870338\",\"2021-11-28T17:36:15.863463\",\"2022-09-18T14:26:01.223782\",\"2022-02-03T16:50:13.115360\",\"2021-11-23T19:20:01.842991\",\"2021-11-19T19:29:13.420736\",\"2021-08-20T17:15:14.160753\",\"2021-12-11T18:00:59.607368\",\"2022-11-16T19:23:33.104973\",\"2021-05-01T19:55:26.184086\",\"2022-10-23T16:20:59.523321\",\"2023-04-27T13:03:00.931831\",\"2021-12-21T17:38:04.108910\",\"2021-05-16T17:34:18.406367\",\"2021-06-06T11:11:31.557809\",\"2021-05-10T15:18:24.086934\",\"2021-06-10T02:37:52.683997\",\"2021-05-26T17:37:32.666890\",\"2021-02-15T19:56:11.403941\",\"2022-04-28T14:56:10.080955\",\"2022-02-22T19:08:19.468550\",\"2021-02-19T22:23:20.139781\",\"2022-08-05T20:35:59.437930\",\"2021-09-22T14:40:50.416949\",\"2021-06-12T05:07:41.042705\",\"2021-09-23T16:06:22.221834\",\"2021-07-12T14:36:33.901841\",\"2021-10-31T17:12:41.331670\",\"2021-08-20T04:52:11.383678\",\"2021-07-18T17:13:26.298921\",\"2021-07-03T09:51:38.167604\",\"2021-09-11T16:56:02.627156\",\"2023-03-24T18:58:01.384781\",\"2022-04-27T17:00:38.136493\",\"2022-05-28T18:10:16.347812\",\"2022-02-28T19:36:58.674316\",\"2021-04-27T04:41:19.897627\",\"2022-06-04T17:26:41.643881\",\"2021-12-16T20:56:26.172787\",\"2021-05-13T13:52:05.555776\",\"2021-12-16T17:35:28.971776\",\"2022-08-16T15:29:17.323021\",\"2022-08-16T16:01:54.812709\",\"2022-06-15T15:40:56.222850\",\"2022-02-01T20:08:03.535077\",\"2022-04-03T13:01:30.848686\",\"2022-08-27T14:38:26.529698\",\"2022-06-17T14:07:07.535030\",\"2021-12-28T19:54:15.451496\",\"2022-08-02T18:48:01.740068\",\"2022-03-13T16:55:19.128732\",\"2022-12-27T18:05:35.576442\",\"2022-03-19T20:03:01.489004\",\"2022-03-24T17:29:17.971939\",\"2022-04-27T11:26:36.391600\",\"2022-08-30T15:47:27.262056\",\"2022-09-18T14:04:50.263195\",\"2021-11-30T15:25:48.299874\",\"2022-10-26T16:07:12.697596\",\"2021-08-06T17:40:21.146879\",\"2022-11-03T14:40:28.416439\",\"2022-11-03T14:52:42.310857\",\"2021-12-02T18:24:08.855009\",\"2021-12-07T16:59:27.518452\",\"2021-12-11T18:18:39.093025\",\"2021-05-02T08:34:15.518198\",\"2023-08-24T13:58:26.788993\",\"2022-01-02T17:36:54.837054\",\"2021-02-16T18:29:40.785522\",\"2021-04-16T16:51:50.209908\",\"2021-02-14T19:11:53.916107\",\"2021-02-15T02:39:25.124834\",\"2021-04-11T17:23:02.364751\",\"2022-03-05T20:32:45.166630\",\"2022-08-13T18:38:09.204409\",\"2022-07-11T15:50:25.742507\",\"2021-11-20T09:26:52.000168\",\"2022-07-05T16:44:23.378352\",\"2022-04-24T12:45:29.489804\",\"2022-01-11T17:49:48.961539\",\"2022-03-01T19:46:21.223063\",\"2021-09-30T15:34:10.433036\",\"2022-07-01T16:21:02.366768\",\"2021-12-13T19:14:44.734092\",\"2021-12-27T19:18:47.783579\",\"2022-03-18T19:36:35.409077\",\"2021-09-11T13:43:25.002823\",\"2021-12-13T18:07:47.283451\",\"2022-05-24T17:42:38.427710\",\"2021-09-11T17:13:03.732337\",\"2022-03-30T17:46:45.827003\",\"2022-03-06T19:42:48.016970\",\"2021-09-17T19:11:18.440542\",\"2022-02-27T18:23:11.459342\",\"2021-09-11T17:59:10.413641\",\"2021-10-28T18:19:59.487771\",\"2021-08-07T16:10:02.856821\",\"2022-08-25T15:47:36.836854\",\"2022-06-17T17:45:09.065163\",\"2022-03-05T20:55:00.262651\",\"2022-10-29T06:50:24.150702\",\"2022-12-22T18:30:39.816659\",\"2022-03-13T20:32:50.552124\",\"2022-03-12T18:44:10.382541\",\"2022-08-03T18:09:41.923531\",\"2022-07-29T19:10:21.720531\",\"2022-08-07T18:23:04.781794\",\"2022-04-12T18:03:51.421418\",\"2023-08-13T15:18:31.650265\",\"2022-08-31T16:27:35.211107\",\"2023-01-11T18:58:17.886336\",\"2022-08-16T15:39:47.306576\",\"2022-11-01T17:31:01.955914\",\"2022-04-16T15:51:39.373517\",\"2021-12-05T17:48:42.456026\",\"2021-10-17T16:19:21.763868\",\"2021-12-07T15:28:34.207686\",\"2021-04-18T16:11:48.069307\",\"2022-09-25T16:44:56.381373\",\"2021-11-05T18:59:01.177923\",\"2023-08-08T14:53:19.686881\",\"2023-06-25T12:00:47.440436\",\"2021-07-17T14:01:10.073197\",\"2021-08-17T18:16:13.063878\",\"2022-03-08T18:32:37.752591\",\"2021-11-14T19:33:14.717162\",\"2022-02-15T18:24:46.695310\",\"2021-02-15T18:39:07.734434\",\"2021-06-15T14:23:16.409647\",\"2021-12-23T16:35:28.444526\",\"2021-08-26T07:03:58.269042\",\"2022-02-15T19:19:06.471428\",\"2021-06-03T15:47:22.814647\",\"2021-12-18T21:10:50.294310\",\"2022-01-01T15:49:04.366700\",\"2022-02-05T18:16:56.130593\",\"2022-07-08T16:11:01.004505\",\"2021-07-22T15:07:56.917627\",\"2021-04-12T13:44:26.565305\",\"2021-12-12T18:25:17.760433\",\"2022-06-04T17:37:44.245330\",\"2022-01-01T16:30:37.576830\",\"2022-04-01T17:16:13.619508\",\"2021-09-08T11:09:20.200325\",\"2022-05-30T17:40:44.129272\",\"2022-02-23T20:06:40.673740\",\"2022-06-14T16:00:11.782930\",\"2022-03-16T20:00:20.227732\",\"2022-09-03T14:22:57.870510\",\"2023-04-13T14:51:24.723513\",\"2021-11-10T19:25:29.904346\",\"2022-03-29T16:37:20.143005\",\"2022-12-31T19:04:21.974331\",\"2022-07-02T14:24:54.971236\",\"2021-09-24T14:07:33.475357\",\"2022-07-30T12:44:12.405789\",\"2022-07-29T18:46:14.367620\",\"2021-09-30T15:24:29.844154\",\"2022-03-20T18:35:41.704306\",\"2022-08-27T19:09:47.062555\",\"2021-11-06T15:27:20.603946\",\"2022-05-29T13:44:50.207362\",\"2021-11-11T17:45:19.096402\",\"2021-07-03T09:18:07.206407\",\"2023-02-13T19:02:21.782019\",\"2021-11-20T09:43:53.581644\",\"2021-12-03T20:16:29.354232\",\"2023-04-28T17:43:55.576125\",\"2021-11-12T21:18:51.350471\",\"2023-03-06T20:09:07.303013\",\"2022-12-03T14:44:38.661327\",\"2022-12-03T15:32:18.414519\",\"2021-12-18T20:24:51.743689\",\"2022-10-30T16:47:34.539519\",\"2023-08-09T13:22:23.290468\",\"2023-06-10T16:53:57.637699\",\"2023-06-19T15:37:15.204488\",\"2023-07-23T15:14:20.572892\",\"2023-08-03T13:17:14.678842\",\"2021-04-27T16:57:21.052026\",\"2021-05-11T17:22:57.142541\",\"2021-04-14T15:44:47.645955\",\"2021-02-16T17:52:07.136404\",\"2021-02-16T18:04:10.597225\",\"2022-08-12T18:23:52.862887\",\"2022-02-18T16:13:24.368560\",\"2021-06-12T04:58:59.846095\",\"2021-11-10T19:58:05.810794\",\"2021-06-19T13:56:58.775044\",\"2022-01-13T19:35:14.215173\",\"2022-01-14T18:20:22.435910\",\"2022-05-21T13:34:23.595824\",\"2021-09-25T17:19:39.451351\",\"2021-07-10T14:34:07.792627\",\"2021-06-16T04:44:00.630613\",\"2022-02-20T17:24:40.612950\",\"2021-12-12T16:44:47.461633\",\"2021-10-19T14:47:00.842870\",\"2021-10-27T12:02:56.749898\",\"2021-12-24T18:31:06.713904\",\"2022-01-02T18:29:39.806622\",\"2021-09-07T11:03:28.218171\",\"2022-06-28T14:08:43.281975\",\"2021-08-06T11:59:02.533333\",\"2021-07-09T13:21:38.014815\",\"2022-02-24T20:00:29.456430\",\"2022-12-07T17:37:14.080759\",\"2023-01-05T20:02:35.706674\",\"2022-04-02T15:55:06.294096\",\"2022-04-08T17:53:50.027200\",\"2023-01-02T19:51:52.259106\",\"2023-01-23T19:16:03.732162\",\"2022-03-08T17:57:35.696487\",\"2023-01-18T19:09:17.151601\",\"2021-11-29T15:27:53.133207\",\"2021-11-17T19:14:27.274005\",\"2023-02-03T17:58:06.100979\",\"2021-07-31T16:13:15.917043\",\"2022-09-03T13:08:21.586673\",\"2022-11-02T15:24:11.632310\",\"2022-11-15T17:35:14.117733\",\"2022-10-25T12:03:07.609022\",\"2022-10-30T15:38:40.073217\",\"2023-08-08T15:55:00.418552\",\"2023-08-13T15:33:28.145965\",\"2021-04-24T14:40:43.521482\",\"2022-03-12T15:14:05.771804\",\"2022-02-03T21:13:40.760817\",\"2021-04-19T11:39:20.132547\",\"2022-01-02T18:11:57.722785\",\"2021-06-26T17:38:29.284983\",\"2021-09-04T05:03:13.380338\",\"2021-05-25T17:11:59.329096\",\"2021-02-15T03:06:47.707636\",\"2021-11-27T12:34:07.824380\",\"2021-04-14T14:53:18.521936\",\"2021-09-07T13:39:02.666926\",\"2022-02-07T19:11:00.193758\",\"2022-03-04T18:52:36.601295\",\"2023-07-25T15:43:59.123205\",\"2022-02-08T19:18:08.358655\",\"2022-09-03T18:34:14.286626\",\"2021-08-08T13:12:48.665040\",\"2021-09-12T07:19:08.877060\",\"2022-06-02T16:41:05.025510\",\"2021-07-09T12:31:08.559811\",\"2022-08-27T14:19:06.565939\",\"2021-07-20T16:21:55.789667\",\"2021-04-24T07:26:33.090573\",\"2021-10-20T12:07:55.072829\",\"2022-04-17T18:03:51.361770\",\"2021-10-10T15:10:03.136693\",\"2021-08-17T16:28:34.343089\",\"2021-09-23T16:18:17.302876\",\"2022-08-12T16:04:58.684183\",\"2021-07-26T14:50:47.922473\",\"2022-07-29T20:05:16.426682\",\"2022-12-21T15:39:26.362874\",\"2021-12-12T18:47:52.294784\",\"2022-04-21T17:39:57.039806\",\"2022-12-19T17:35:39.591529\",\"2022-09-08T16:07:24.656983\",\"2021-11-16T19:12:56.101643\",\"2023-01-06T19:52:45.165457\",\"2022-08-20T17:45:52.844630\",\"2022-10-22T15:54:34.322990\",\"2021-12-04T19:28:28.991750\",\"2022-11-01T17:50:37.791408\",\"2022-11-04T15:33:58.433721\",\"2021-12-07T17:14:04.891647\",\"2022-12-04T15:29:24.441578\",\"2022-02-03T17:23:13.918953\",\"2022-02-22T18:14:59.249015\",\"2022-02-17T19:27:00.838138\",\"2022-01-01T18:27:22.368217\",\"2021-06-22T17:08:24.363030\",\"2021-06-10T02:52:41.811133\",\"2021-06-03T17:37:51.405454\",\"2021-05-26T16:35:29.288844\",\"2021-02-23T21:26:41.441474\",\"2021-11-12T14:50:57.211664\",\"2022-04-28T16:12:48.217486\",\"2022-06-03T14:54:56.767408\",\"2021-03-17T06:49:52.882475\",\"2021-04-01T04:36:36.215811\",\"2021-07-10T16:42:04.574297\",\"2021-10-25T16:58:22.843814\",\"2022-01-07T15:35:50.367184\",\"2021-12-09T16:33:02.699380\",\"2022-07-12T16:09:07.304534\",\"2022-02-26T20:50:53.187976\",\"2021-12-29T17:12:27.438145\",\"2022-07-09T16:00:46.144866\",\"2022-07-11T15:37:35.325910\",\"2021-08-13T16:34:36.608818\",\"2021-04-23T06:52:23.423823\",\"2021-11-08T18:53:28.812305\",\"2021-12-20T17:24:05.323953\",\"2021-12-21T17:57:41.681264\",\"2022-08-19T17:48:32.087235\",\"2022-12-03T10:28:44.142937\",\"2022-02-28T19:04:35.755009\",\"2022-07-02T14:08:03.336400\",\"2022-08-28T13:07:38.127889\",\"2022-12-17T17:46:38.076443\",\"2021-05-01T18:42:28.855034\",\"2022-03-27T17:47:19.182573\",\"2022-03-25T14:58:14.628279\",\"2023-01-23T19:03:24.988631\",\"2023-03-06T20:35:30.259177\",\"2022-04-23T13:27:51.983890\",\"2021-11-27T09:45:00.351506\",\"2022-09-08T15:47:17.397605\",\"2022-07-01T14:43:09.150857\",\"2021-08-07T17:57:35.081107\",\"2021-11-19T12:11:31.725838\",\"2021-11-29T15:48:27.766991\",\"2021-12-12T17:42:37.556908\",\"2021-11-30T18:43:03.620506\",\"2022-04-03T12:36:50.771931\",\"2022-10-08T15:40:36.317560\",\"2022-10-16T14:27:13.247710\",\"2021-04-05T08:27:34.596596\",\"2021-11-19T12:39:11.671489\",\"2021-05-22T18:16:40.472778\",\"2022-11-18T18:31:36.356067\",\"2022-02-17T20:19:32.250179\",\"2022-02-03T17:29:08.700011\",\"2022-02-20T17:14:29.819072\",\"2021-07-17T14:41:32.192836\",\"2022-02-04T18:59:07.068073\",\"2022-02-22T17:53:30.534167\",\"2021-08-28T13:27:54.663920\",\"2021-04-12T13:13:54.354962\",\"2021-04-05T07:04:18.445288\",\"2022-06-13T16:38:17.794419\",\"2021-10-23T15:14:32.401536\",\"2022-01-05T18:28:04.294608\",\"2021-10-10T14:47:07.270602\",\"2021-12-24T15:07:33.535421\",\"2021-06-03T15:09:06.240566\",\"2022-11-01T16:14:41.734424\",\"2021-08-28T09:23:26.461279\",\"2021-11-10T15:03:58.799615\",\"2022-04-04T17:02:40.040419\",\"2021-07-17T08:21:54.293453\",\"2022-04-05T15:15:16.046877\",\"2021-06-04T15:15:28.450276\",\"2021-12-27T15:29:57.999920\",\"2022-12-24T20:08:58.048504\",\"2022-03-27T14:58:13.692967\",\"2022-12-31T18:43:30.050084\",\"2021-07-22T18:18:04.272812\",\"2022-09-25T14:39:55.078217\",\"2021-07-10T15:34:28.089359\",\"2022-03-28T15:22:54.588780\",\"2021-08-15T11:45:44.278861\",\"2022-12-22T18:01:04.519075\",\"2021-10-13T14:39:17.598743\",\"2021-08-21T19:12:12.301799\",\"2023-04-01T18:47:11.130779\",\"2021-10-19T16:28:57.783345\",\"2022-04-08T17:22:11.567037\",\"2022-08-07T18:37:41.206382\",\"2021-09-13T12:53:38.369617\",\"2022-03-17T19:54:39.003124\",\"2022-08-05T19:15:13.862742\",\"2022-04-19T16:55:47.278403\",\"2023-04-13T14:30:49.289253\",\"2021-11-12T22:08:07.755805\",\"2022-09-25T15:14:18.162518\",\"2022-12-03T14:30:24.375126\",\"2021-12-06T18:09:06.817178\",\"2022-10-16T14:04:17.281411\",\"2023-08-12T17:48:31.610817\",\"2021-09-10T11:29:50.042053\",\"2023-06-25T12:39:13.269669\",\"2022-04-18T16:55:19.788291\",\"2021-02-17T06:22:33.793366\",\"2022-02-22T18:31:02.093008\",\"2021-06-06T08:22:57.211070\",\"2021-06-06T08:50:30.253736\",\"2021-06-18T16:38:54.603321\",\"2021-05-26T16:53:47.403199\",\"2022-07-27T18:13:06.620317\",\"2021-06-26T17:48:23.387647\",\"2021-02-20T21:20:21.030351\",\"2022-02-06T17:19:45.771323\",\"2022-03-06T18:28:33.965034\",\"2021-07-30T14:15:38.548031\",\"2021-12-14T20:24:10.433342\",\"2021-09-07T10:44:26.330966\",\"2021-12-04T18:27:46.369239\",\"2021-05-18T16:48:13.871355\",\"2023-07-23T15:44:55.237728\",\"2021-07-03T17:07:51.159452\",\"2022-04-18T16:31:35.879760\",\"2021-05-01T20:13:20.810348\",\"2022-06-27T17:01:07.397052\",\"2021-09-17T12:04:35.504060\",\"2021-07-27T15:15:51.879055\",\"2021-09-11T19:20:26.769376\",\"2021-07-29T14:38:31.076252\",\"2021-12-22T18:04:20.728109\",\"2022-10-20T17:23:54.876840\",\"2021-11-11T15:59:14.612322\",\"2023-01-15T15:19:41.421177\",\"2021-08-15T17:21:15.200868\",\"2022-03-12T18:13:50.401244\",\"2022-04-05T15:32:33.982626\",\"2021-11-02T15:55:27.390261\",\"2022-08-29T16:21:58.248111\",\"2021-07-31T15:03:39.362012\",\"2022-03-19T18:38:09.895354\",\"2021-10-18T16:05:42.163324\",\"2022-03-18T19:00:30.883564\",\"2021-12-03T19:56:07.902345\",\"2022-04-21T17:44:00.747906\",\"2022-12-27T17:25:24.958310\",\"2022-12-27T18:23:28.925557\",\"2022-05-17T16:34:42.041674\",\"2021-04-24T08:08:50.804751\",\"2021-11-23T15:24:48.884449\",\"2021-11-23T17:01:45.843556\",\"2022-09-04T16:48:01.035957\",\"2021-07-17T14:18:01.775553\",\"2021-08-20T16:56:17.005836\",\"2022-07-24T18:55:41.058588\",\"2023-04-13T15:18:09.037314\",\"2023-07-29T12:45:11.365876\",\"2021-12-04T19:03:13.149373\",\"2021-12-10T21:04:08.658978\",\"2022-09-07T18:39:53.988551\",\"2022-12-07T17:14:54.936622\",\"2023-08-08T16:15:30.479917\",\"2023-08-04T15:41:16.606473\",\"2022-01-07T20:14:43.311208\",\"2021-08-27T08:37:20.710778\",\"2021-12-27T16:44:56.443119\",\"2021-02-14T19:40:12.731273\",\"2021-07-03T14:06:31.247756\",\"2021-06-27T14:30:57.132969\",\"2021-02-22T06:59:58.658209\",\"2021-06-18T16:51:54.518411\",\"2021-02-15T03:16:00.058728\",\"2021-12-24T16:16:46.478726\",\"2022-01-05T17:25:23.654231\",\"2022-02-17T18:35:16.437569\",\"2021-09-23T16:38:53.642873\",\"2022-01-12T19:25:21.483899\",\"2022-01-05T18:19:58.438371\",\"2021-07-29T11:57:44.775934\",\"2021-10-30T15:54:35.445857\",\"2022-12-22T19:50:30.814829\",\"2022-05-29T12:48:40.201913\",\"2021-10-17T15:57:09.612431\",\"2021-07-22T15:25:07.544469\",\"2022-07-27T17:58:20.573282\",\"2022-03-13T19:40:07.831974\",\"2021-05-13T13:30:38.307267\",\"2022-12-01T18:25:47.669975\",\"2022-06-17T13:19:24.911812\",\"2022-12-04T16:27:15.141625\",\"2022-03-12T15:29:26.857701\",\"2022-08-01T13:52:17.788836\",\"2022-03-12T16:11:24.108427\",\"2021-07-28T17:26:42.163519\",\"2022-11-24T16:30:49.947022\",\"2022-07-29T14:44:30.119007\",\"2022-04-05T17:04:58.595515\",\"2022-04-09T16:46:13.334974\",\"2022-08-28T13:25:17.510705\",\"2022-08-19T14:19:51.483521\",\"2022-04-15T16:50:01.372587\",\"2022-04-18T17:19:00.727400\",\"2023-01-04T19:40:00.934707\",\"2021-07-31T06:23:59.713699\",\"2022-11-01T16:32:38.517839\",\"2022-11-20T15:49:24.664909\",\"2021-11-29T18:05:02.856890\",\"2022-10-29T13:46:20.248167\",\"2021-12-05T15:10:27.230648\",\"2022-09-16T18:06:23.552158\",\"2022-09-25T17:21:25.875050\",\"2022-10-01T12:57:09.562849\",\"2023-07-21T15:35:42.560628\",\"2022-12-23T19:08:55.432937\",\"2022-10-30T16:01:23.090950\",\"2023-08-11T16:41:45.043442\",\"2021-02-15T19:07:01.432229\",\"2022-01-10T19:20:41.677881\",\"2021-12-17T17:54:40.024440\",\"2022-02-05T20:42:20.429094\",\"2021-11-27T18:00:09.316842\",\"2022-03-01T02:41:53.712514\",\"2021-05-02T08:23:35.242197\",\"2021-09-30T16:05:30.177105\",\"2022-04-17T17:41:30.143415\",\"2022-01-06T18:13:03.706518\",\"2021-12-26T18:32:23.014910\",\"2021-07-13T17:17:41.582309\",\"2021-12-27T20:11:20.568102\",\"2022-08-14T19:10:45.421297\",\"2022-07-05T16:32:16.115907\",\"2022-01-08T20:46:43.364784\",\"2021-09-09T16:41:10.906205\",\"2021-11-21T14:49:30.737619\",\"2021-08-08T16:44:52.057037\",\"2021-08-12T15:35:24.753448\",\"2021-09-13T06:46:26.895239\",\"2022-06-29T15:55:05.822367\",\"2022-04-01T16:12:21.410309\",\"2022-06-06T14:59:43.786883\",\"2021-11-08T19:36:00.692030\",\"2022-03-01T17:06:46.817892\",\"2022-06-19T15:40:43.989775\",\"2022-10-20T16:14:13.188075\",\"2022-06-23T15:05:57.686052\",\"2022-06-23T15:40:16.939199\",\"2022-04-06T14:04:33.826872\",\"2021-08-22T15:27:18.696435\",\"2023-03-06T19:56:00.502844\",\"2023-04-30T12:43:20.275143\",\"2023-01-03T17:15:55.634915\",\"2023-02-14T20:19:46.259935\",\"2023-02-14T20:03:17.685559\",\"2021-11-13T19:37:02.809779\",\"2023-01-04T19:18:14.437428\",\"2021-11-14T13:55:07.830102\",\"2022-04-16T17:17:56.030214\",\"2023-04-28T13:53:05.908473\",\"2021-11-27T17:35:52.569599\",\"2021-05-25T16:05:55.992463\",\"2022-09-26T16:44:20.538900\",\"2021-12-13T16:45:22.888359\",\"2021-07-18T16:41:30.363536\",\"2022-09-25T17:01:50.847854\",\"2023-08-18T15:37:52.141838\",\"2021-11-28T14:46:31.416211\",\"2021-08-22T06:28:49.398531\",\"2022-04-27T12:06:22.378756\",\"2022-03-01T20:07:07.413988\",\"2021-02-15T18:57:38.320050\",\"2022-03-13T18:45:26.308645\",\"2021-12-24T15:48:35.853363\",\"2021-05-29T15:37:20.702491\",\"2022-08-01T14:17:19.041350\",\"2021-11-27T17:12:10.222203\",\"2021-02-20T21:22:19.137853\",\"2021-02-22T06:38:30.436423\",\"2022-02-27T16:22:38.794229\",\"2021-04-13T16:35:52.181099\",\"2022-02-12T20:28:11.528217\",\"2022-07-13T14:52:09.992802\",\"2021-07-31T16:45:50.569183\",\"2022-01-04T18:31:48.792239\",\"2021-04-14T04:52:06.420281\",\"2022-01-13T16:05:01.792635\",\"2021-06-06T11:40:15.350447\",\"2021-11-25T16:00:45.358141\",\"2022-01-31T18:18:09.325036\",\"2021-09-21T19:51:58.594070\",\"2022-12-24T15:54:10.986419\",\"2022-06-19T16:00:48.537547\",\"2021-05-10T14:20:04.784384\",\"2021-09-29T17:21:20.042926\",\"2021-09-06T15:52:23.896109\",\"2022-08-19T14:30:09.816340\",\"2022-04-03T13:48:39.295888\",\"2022-03-24T18:21:48.290027\",\"2022-03-02T17:30:39.801488\",\"2021-07-18T14:10:16.447218\",\"2022-03-12T17:44:09.622876\",\"2022-12-16T17:50:55.183414\",\"2022-03-17T20:09:22.200623\",\"2022-04-06T15:58:04.957027\",\"2022-03-12T15:45:48.275799\",\"2022-08-24T17:07:01.061467\",\"2022-08-10T18:09:03.167657\",\"2023-04-28T14:07:08.597377\",\"2021-08-22T15:09:49.035936\",\"2023-07-29T11:48:51.414669\",\"2022-08-28T14:14:27.294384\",\"2022-07-28T17:34:44.885495\",\"2023-02-03T20:18:53.959074\",\"2022-04-19T17:12:58.198554\",\"2022-07-02T17:11:29.431748\",\"2022-07-29T14:32:18.368078\",\"2022-07-02T12:01:31.204122\",\"2022-08-27T17:05:13.090608\",\"2023-04-18T16:12:15.742630\",\"2022-11-01T17:02:35.817154\",\"2022-09-03T19:41:28.047124\",\"2021-12-08T19:44:15.728124\",\"2022-10-08T15:47:57.866688\",\"2022-11-20T19:17:02.167899\",\"2022-11-01T17:56:04.013442\",\"2021-07-20T16:07:26.422993\",\"2022-12-19T17:06:41.956447\",\"2022-09-24T13:43:50.354981\",\"2021-12-14T17:07:29.373720\",\"2021-08-12T15:19:15.925377\",\"2022-10-09T15:24:43.131338\",\"2023-07-27T15:41:33.376370\",\"2021-12-18T22:05:03.971622\",\"2022-11-02T15:08:38.011582\",\"2023-08-10T15:17:04.665384\",\"2022-10-30T17:23:32.485569\",\"2023-08-13T15:52:11.005877\",\"2022-11-20T19:00:44.024724\",\"2023-06-25T13:22:30.798745\"],\"xaxis\":\"x\",\"y\":[227.2086956521739,209.36082474226805,218.86065573770492,274.36170212765956,183.1235294117647,229.015873015873,248.74100719424462,235.7311827956989,255.9591836734694,231.9245283018868,199.56,301.9189189189189,167.37614678899084,224.95238095238096,196.65714285714284,226.31313131313132,198.11627906976744,212.96891191709844,200.05263157894737,464.2,224.1238095238095,208.3135593220339,144.6818181818182,230.67105263157896,277.3551912568306,232.20149253731344,365.14,266.25925925925924,362.3859649122807,202.873417721519,211.0344827586207,257.77142857142854,329.9714285714286,515.3728813559322,336.5632183908046,238.96842105263158,340.2448979591837,433.76056338028167,217.68867924528303,268.4823529411765,376.6923076923077,521.3055555555555,245.98850574712642,276.2352941176471,305.68595041322317,198.52941176470588,301.39285714285717,183.2751677852349,199.328125,320.97777777777776,193.87272727272727,255.42105263157896,282.3606557377049,394.11578947368423,342.0,154.6315789473684,376.4590163934426,195.90243902439025,142.98095238095237,198.94405594405595,295.7169811320755,348.7843137254902,245.85714285714286,379.50666666666666,168.71134020618555,143.77777777777777,224.5,245.42222222222222,187.6,475.9428571428571,302.74626865671644,412.52272727272725,225.14285714285714,211.02564102564102,261.05970149253733,295.86486486486484,195.9506172839506,204.3548387096774,380.88695652173914,271.0103092783505,298.39285714285717,194.34513274336283,303.60714285714283,320.25,222.8252427184466,194.17,268.08196721311475,241.7157894736842,276.7676767676768,298.7230769230769,267.7956989247312,285.2631578947368,297.3265306122449,204.6013071895425,296.3490566037736,284.8131868131868,283.63380281690144,284.5925925925926,342.949494949495,303.7962962962963,219.20833333333334,256.51063829787233,352.38461538461536,237.34415584415584,431.65909090909093,207.80701754385964,245.9,295.33663366336634,210.46666666666667,245.52,256.7105263157895,211.28925619834712,311.29411764705884,239.28333333333333,304.6666666666667,222.9951690821256,365.48936170212767,256.36619718309856,230.2258064516129,240.56424581005587,317.52222222222224,270.21794871794873,371.72340425531917,31.384615384615383,233.52702702702703,177.85826771653544,428.13793103448273,209.29268292682926,249.0948275862069,230.4,350.56164383561645,245.0909090909091,236.2549019607843,299.4886363636364,175.6,524.8888888888889,389.9887640449438,260.9767441860465,282.010989010989,240.9640287769784,173.70634920634922,246.2596153846154,357.42857142857144,232.93805309734512,229.07534246575344,431.765306122449,205.9699248120301,187.65,258.6969696969697,205.42056074766356,369.0744680851064,220.4904458598726,221.81553398058253,224.56962025316454,391.5,430.84615384615387,153.2941176470588,287.635593220339,231.31623931623932,372.2631578947368,192.57615894039736,201.66101694915255,160.19230769230768,246.24752475247524,222.6219512195122,465.92,247.06474820143885,461.144578313253,283.0,196.98275862068965,167.6783625730994,276.37179487179486,228.30434782608697,253.0701754385965,131.23008849557522,192.8372093023256,245.91447368421052,336.7155963302752,301.1730769230769,397.74074074074076,293.51851851851853,116.375,226.79768786127167,563.3414634146342,205.36986301369862,371.5977011494253,186.38297872340425,239.43396226415095,235.34408602150538,173.9526627218935,318.2012578616352,319.6422764227642,357.7073170731707,184.8265306122449,220.7685185185185,297.22222222222223,217.57037037037037,208.07438016528926,208.3859649122807,304.367816091954,261.688679245283,419.4406779661017,200.0609756097561,209.65671641791045,231.928,228.32432432432432,241.0,191.81730769230768,268.0082644628099,266.5934065934066,198.61666666666667,432.52525252525254,267.6164383561644,571.12,273.27777777777777,258.36559139784947,235.99115044247787,205.28947368421052,238.87209302325581,305.56410256410254,287.99122807017545,251.29885057471265,208.2237762237762,233.83333333333334,242.8978102189781,34.92307692307692,284.7319587628866,227.02380952380952,367.9583333333333,496.5,254.9059829059829,234.23214285714286,228.61068702290078,422.0833333333333,182.05208333333334,194.01492537313433,290.29,218.83098591549296,300.825,191.11494252873564,118.96581196581197,307.5980392156863,239.75590551181102,209.7403846153846,370.46610169491527,292.9313725490196,168.47727272727272,235.11320754716982,349.4875,222.80722891566265,194.00735294117646,252.375,213.4262295081967,177.40384615384616,149.625,304.5959595959596,264.84466019417476,276.12631578947367,200.2283950617284,357.4237288135593,209.74358974358975,251.47368421052633,192.19886363636363,189.02758620689656,314.67105263157896,310.69924812030075,339.5833333333333,287.8,280.136,189.66129032258064,526.8888888888889,203.13978494623655,269.17021276595744,245.4214876033058,228.0625,261.25,249.2941176470588,310.13,173.31896551724137,179.8548387096774,316.6629213483146,31.846153846153847,175.4468085106383,193.39473684210526,313.0,425.5238095238095,189.2235294117647,164.63120567375887,257.95714285714286,463.4195804195804,223.24242424242425,398.7931034482759,310.358024691358,257.27891156462584,325.60869565217394,239.20325203252034,86.70588235294117,388.0657894736842,315.96875,248.53781512605042,197.36496350364965,284.5625,252.69354838709677,292.0,249.34615384615384,519.4878048780488,253.93959731543623,245.22608695652173,256.0104166666667,456.67123287671234,284.8082191780822,836.1538461538462,200.82119205298014,192.62773722627736,198.5985401459854,328.7083333333333,251.0,152.4298245614035,191.75,224.28971962616822,169.5114503816794,258.855421686747,263.7244897959184,213.268115942029,236.75,203.171875,202.51818181818183,286.1940298507463,238.10294117647058,194.41666666666666,207.75352112676057,189.1216216216216,262.86842105263156,322.32911392405066,208.81034482758622,418.0,247.21052631578948,31.384615384615383,228.79166666666666,352.3917525773196,312.8,287.4190476190476,422.36170212765956,178.295719844358,293.5,312.2096774193548,189.0,264.348623853211,241.2,215.42307692307693,259.7977528089888,183.94565217391303,362.9758064516129,165.09345794392524,182.43157894736842,268.44897959183675,201.3913043478261,273.873417721519,182.92929292929293,268.89247311827955,306.671875,256.4864864864865,266.37719298245617,220.87704918032787,248.7826086956522,248.38888888888889,343.66326530612247,322.62666666666667,292.42857142857144,232.69426751592357,200.49557522123894,230.12037037037038,439.05882352941177,230.17757009345794,195.46875,548.015625,238.21014492753622,342.5135135135135,179.0,346.62608695652176,253.6390977443609,307.5,262.95364238410593,260.26732673267327,804.9102564102565,258.4193548387097,264.34090909090907,175.54,156.24193548387098,229.5084745762712,222.1875,216.325,203.0233918128655,173.27184466019418,478.48571428571427,185.375,215.38095238095238,194.6036036036036,231.0300751879699,249.9016393442623,201.6627906976744,349.0769230769231,232.72,213.06578947368422,215.38636363636363,194.36170212765958,215.98979591836735,204.87912087912088,199.76,196.59259259259258,131.25416666666666,507.77142857142854,138.69076305220884,290.04477611940297,263.47058823529414,253.11926605504587,80.6,402.5970149253731,286.3193277310924,249.10833333333332,164.01904761904763,176.41129032258064,216.3763440860215,186.5,358.6930693069307,138.42156862745097,329.0810810810811,274.84444444444443,278.2696629213483,179.1958041958042,383.7142857142857,385.84615384615387,262.6,198.6583850931677,302.0390625,211.86065573770492,209.8170731707317,161.6846846846847,268.81702127659577,173.6969696969697,222.53333333333333,287.09183673469386,156.98901098901098,226.10416666666666,178.140350877193,288.8,363.38461538461536,288.3768115942029,273.0777777777778,31.384615384615383,389.19607843137254,256.34375,213.5157894736842,300.86813186813185,370.30841121495325,216.16901408450704,160.65254237288136,361.65625,237.31730769230768,532.0196078431372,217.8080808080808,413.84375,413.1,284.35227272727275,294.0,266.6060606060606,396.96666666666664,224.19834710743802,265.14150943396226,208.19463087248323,190.28571428571428,288.21794871794873,191.16167664670658,277.9920634920635,274.6601941747573,192.808,231.9181818181818,411.1515151515151,207.27927927927928,167.17977528089887,215.5165876777251,180.65853658536585,177.92660550458714,181.72916666666666,284.2945205479452,219.33333333333334,257.8863636363636,264.0561797752809,198.00833333333333,343.2647058823529,348.3801652892562,269.51960784313724,310.0897435897436,213.38202247191012,258.8305084745763,210.9078014184397,205.53383458646616,435.71875,201.8913043478261,237.51162790697674,31.384615384615383,237.91538461538462,264.8636363636364,289.59090909090907,246.58778625954199,407.8255813953488,206.04950495049505,287.3972602739726,185.98214285714286,278.8196721311475,228.86170212765958,189.15584415584416,310.30434782608694,320.97457627118644,221.70093457943926,216.9298245614035,194.0701754385965,236.00833333333333,246.53174603174602,228.35238095238094,207.39361702127658,251.3781512605042,192.56410256410257,232.8728813559322,284.0687022900763,222.08982035928145,261.5625,358.42452830188677,274.60869565217394,249.19626168224298,282.42011834319527,333.14,232.41739130434783,436.4175824175824,196.43333333333334,239.99264705882354,189.73469387755102,330.6744186046512,184.78321678321677,246.90833333333333,188.08527131782947,251.94285714285715,175.74809160305344,198.74074074074073,197.67857142857142,188.73949579831933,383.375,321.1818181818182,273.6788990825688,324.2105263157895,373.12820512820514,230.375,199.33536585365854,214.184,224.41176470588235,422.2,174.6021505376344,405.30434782608694,330.40909090909093,236.9618320610687,227.04347826086956,126.84482758620689,204.3,258.85074626865674,443.6,158.61061946902655,294.6630434782609,299.1,219.17821782178217,229.06349206349208,232.24475524475525,243.4126984126984,99.0,209.0,308.2325581395349,494.74285714285713,206.12422360248448,259.873417721519,197.21978021978023,226.87735849056602,168.5151515151515,221.984496124031,244.46808510638297,254.6122448979592,333.07894736842104,174.5839416058394,657.5454545454545,247.04109589041096,220.96610169491527,279.0,330.60526315789474,226.28787878787878,195.26174496644296,186.91919191919192,249.76923076923077,233.22448979591837,334.15384615384613,183.18367346938774,371.2112676056338,197.8074074074074,219.46987951807228,498.4,238.11904761904762,194.93023255813952,180.95652173913044,220.51807228915663,189.3063063063063,221.49624060150376,287.22352941176473,393.33576642335765,191.97619047619048,229.65060240963857,204.05479452054794,417.5,233.078125,190.06666666666666,254.86776859504133,190.3148148148148,190.41121495327104,445.33653846153845,261.31944444444446,305.27868852459017,317.63235294117646,212.73584905660377,232.62745098039215,230.16666666666666,293.99378881987576,247.86206896551724,465.8196721311475,272.44444444444446,214.90434782608696,242.46,225.03809523809525,365.7291666666667,238.03603603603602,167.45833333333334,283.3,380.3448275862069,195.23853211009174,311.6046511627907,261.0506329113924,207.0,253.13333333333333,519.7076923076924,386.5483870967742,116.25,218.0900900900901,170.9712643678161,247.38095238095238,193.125,189.93617021276594,287.79411764705884,500.90909090909093,416.8139534883721,201.47014925373134,200.61417322834646,174.58,291.97478991596637,247.94805194805195,251.3695652173913,265.6744186046512,444.05102040816325,324.675,190.29007633587787,305.5940594059406,269.2073170731707,312.9795918367347,294.38,328.94029850746267,280.7313432835821,126.10924369747899,218.09166666666667,366.0615384615385,224.63492063492063,246.8135593220339,254.93333333333334,255.65686274509804,176.63302752293578,302.6734693877551,150.1509433962264,249.5,300.97402597402595,203.8957055214724,197.07432432432432,260.2608695652174,210.83333333333334,157.37777777777777,445.9642857142857,303.1,351.97701149425285,242.53608247422682,217.2125,205.23469387755102,204.96732026143792,188.58992805755395,305.8944099378882,292.4375,217.2952380952381,174.4891304347826,306.8333333333333,216.5,220.61379310344827,406.40909090909093,196.19387755102042,241.58503401360545,205.3968253968254,442.42105263157896,335.49056603773585,405.34285714285716,409.20454545454544,186.43548387096774,31.384615384615383,247.03149606299212,160.25,200.2970297029703,226.88235294117646,240.04255319148936,388.4923076923077,223.1195652173913,279.0217391304348,303.25333333333333,162.9264705882353,316.9896907216495,260.6333333333333,185.48181818181817,159.56944444444446,268.7826086956522,231.06015037593986,219.2695035460993,202.12571428571428,158.88888888888889,359.8412698412698,251.57407407407408,175.50381679389312,204.85714285714286,248.3015873015873,596.2321428571429,216.41666666666666,220.22307692307692,251.04132231404958,205.3861386138614,221.29090909090908,375.96,243.27184466019418,199.97540983606558,389.38759689922483,413.6142857142857,235.12844036697248,354.5,181.2,301.60833333333335,212.00645161290322,278.6231884057971,263.172131147541,255.39655172413794,250.52941176470588,477.53125,212.955223880597,214.3790322580645,200.04237288135593,197.76190476190476,314.3333333333333,223.79310344827587,259.0,233.36363636363637,710.5652173913044,196.17441860465115,199.05434782608697,451.72340425531917,212.2625,303.24107142857144,254.80459770114942,192.14457831325302,225.7608695652174,320.5217391304348,187.81147540983608,190.73611111111111,388.0693069306931,206.12087912087912,185.92567567567568,280.3636363636364,226.46808510638297,289.2089552238806,209.44036697247705,258.5531914893617,214.84615384615384,349.94202898550725,267.94805194805195,154.25,242.76047904191617,158.46067415730337,178.42592592592592,247.3375,380.39130434782606,243.61475409836066,226.46666666666667,309.28125,249.84337349397592,193.348623853211,194.0,176.28823529411764,242.93150684931507,251.80851063829786,188.9075630252101,257.06060606060606,489.219512195122,340.39622641509436,215.69444444444446,355.79487179487177,31.384615384615383,212.40495867768595,264.84615384615387,229.35616438356163,546.1571428571428,275.6625,116.25,233.16666666666666,472.02702702702703,137.75,190.61194029850745,282.5,222.43362831858408,270.10526315789474,457.41379310344826,245.04545454545453,285.4864864864865,213.53435114503816,181.5,649.5555555555555,249.25,168.9895287958115,255.75438596491227,188.38793103448276,221.21698113207546,217.3090909090909,254.16483516483515,285.7608695652174,192.56756756756758,224.05228758169935,248.05,281.93388429752065,295.9710144927536,207.31746031746033,211.56716417910448,252.59701492537314,195.16216216216216,192.0327868852459,246.84415584415584,299.0967741935484,348.13684210526316,256.71597633136093,228.2280701754386,202.01960784313727,260.078431372549,298.2197802197802,578.5571428571428,197.29166666666666,251.52201257861634,331.63157894736844,173.9240506329114,249.30337078651687,174.3181818181818,217.16521739130434,177.21951219512195,180.09782608695653,188.22388059701493,219.1078431372549,249.23728813559322,215.76,200.66304347826087,318.2142857142857,321.6545454545454,233.51546391752578,192.6451612903226,348.64864864864865,243.02803738317758,268.39864864864865,194.18584070796462],\"yaxis\":\"y\",\"type\":\"histogram\"}],                        {\"template\":{\"data\":{\"histogram2dcontour\":[{\"type\":\"histogram2dcontour\",\"colorbar\":{\"outlinewidth\":0,\"ticks\":\"\"},\"colorscale\":[[0.0,\"#0d0887\"],[0.1111111111111111,\"#46039f\"],[0.2222222222222222,\"#7201a8\"],[0.3333333333333333,\"#9c179e\"],[0.4444444444444444,\"#bd3786\"],[0.5555555555555556,\"#d8576b\"],[0.6666666666666666,\"#ed7953\"],[0.7777777777777778,\"#fb9f3a\"],[0.8888888888888888,\"#fdca26\"],[1.0,\"#f0f921\"]]}],\"choropleth\":[{\"type\":\"choropleth\",\"colorbar\":{\"outlinewidth\":0,\"ticks\":\"\"}}],\"histogram2d\":[{\"type\":\"histogram2d\",\"colorbar\":{\"outlinewidth\":0,\"ticks\":\"\"},\"colorscale\":[[0.0,\"#0d0887\"],[0.1111111111111111,\"#46039f\"],[0.2222222222222222,\"#7201a8\"],[0.3333333333333333,\"#9c179e\"],[0.4444444444444444,\"#bd3786\"],[0.5555555555555556,\"#d8576b\"],[0.6666666666666666,\"#ed7953\"],[0.7777777777777778,\"#fb9f3a\"],[0.8888888888888888,\"#fdca26\"],[1.0,\"#f0f921\"]]}],\"heatmap\":[{\"type\":\"heatmap\",\"colorbar\":{\"outlinewidth\":0,\"ticks\":\"\"},\"colorscale\":[[0.0,\"#0d0887\"],[0.1111111111111111,\"#46039f\"],[0.2222222222222222,\"#7201a8\"],[0.3333333333333333,\"#9c179e\"],[0.4444444444444444,\"#bd3786\"],[0.5555555555555556,\"#d8576b\"],[0.6666666666666666,\"#ed7953\"],[0.7777777777777778,\"#fb9f3a\"],[0.8888888888888888,\"#fdca26\"],[1.0,\"#f0f921\"]]}],\"heatmapgl\":[{\"type\":\"heatmapgl\",\"colorbar\":{\"outlinewidth\":0,\"ticks\":\"\"},\"colorscale\":[[0.0,\"#0d0887\"],[0.1111111111111111,\"#46039f\"],[0.2222222222222222,\"#7201a8\"],[0.3333333333333333,\"#9c179e\"],[0.4444444444444444,\"#bd3786\"],[0.5555555555555556,\"#d8576b\"],[0.6666666666666666,\"#ed7953\"],[0.7777777777777778,\"#fb9f3a\"],[0.8888888888888888,\"#fdca26\"],[1.0,\"#f0f921\"]]}],\"contourcarpet\":[{\"type\":\"contourcarpet\",\"colorbar\":{\"outlinewidth\":0,\"ticks\":\"\"}}],\"contour\":[{\"type\":\"contour\",\"colorbar\":{\"outlinewidth\":0,\"ticks\":\"\"},\"colorscale\":[[0.0,\"#0d0887\"],[0.1111111111111111,\"#46039f\"],[0.2222222222222222,\"#7201a8\"],[0.3333333333333333,\"#9c179e\"],[0.4444444444444444,\"#bd3786\"],[0.5555555555555556,\"#d8576b\"],[0.6666666666666666,\"#ed7953\"],[0.7777777777777778,\"#fb9f3a\"],[0.8888888888888888,\"#fdca26\"],[1.0,\"#f0f921\"]]}],\"surface\":[{\"type\":\"surface\",\"colorbar\":{\"outlinewidth\":0,\"ticks\":\"\"},\"colorscale\":[[0.0,\"#0d0887\"],[0.1111111111111111,\"#46039f\"],[0.2222222222222222,\"#7201a8\"],[0.3333333333333333,\"#9c179e\"],[0.4444444444444444,\"#bd3786\"],[0.5555555555555556,\"#d8576b\"],[0.6666666666666666,\"#ed7953\"],[0.7777777777777778,\"#fb9f3a\"],[0.8888888888888888,\"#fdca26\"],[1.0,\"#f0f921\"]]}],\"mesh3d\":[{\"type\":\"mesh3d\",\"colorbar\":{\"outlinewidth\":0,\"ticks\":\"\"}}],\"scatter\":[{\"fillpattern\":{\"fillmode\":\"overlay\",\"size\":10,\"solidity\":0.2},\"type\":\"scatter\"}],\"parcoords\":[{\"type\":\"parcoords\",\"line\":{\"colorbar\":{\"outlinewidth\":0,\"ticks\":\"\"}}}],\"scatterpolargl\":[{\"type\":\"scatterpolargl\",\"marker\":{\"colorbar\":{\"outlinewidth\":0,\"ticks\":\"\"}}}],\"bar\":[{\"error_x\":{\"color\":\"#2a3f5f\"},\"error_y\":{\"color\":\"#2a3f5f\"},\"marker\":{\"line\":{\"color\":\"#E5ECF6\",\"width\":0.5},\"pattern\":{\"fillmode\":\"overlay\",\"size\":10,\"solidity\":0.2}},\"type\":\"bar\"}],\"scattergeo\":[{\"type\":\"scattergeo\",\"marker\":{\"colorbar\":{\"outlinewidth\":0,\"ticks\":\"\"}}}],\"scatterpolar\":[{\"type\":\"scatterpolar\",\"marker\":{\"colorbar\":{\"outlinewidth\":0,\"ticks\":\"\"}}}],\"histogram\":[{\"marker\":{\"pattern\":{\"fillmode\":\"overlay\",\"size\":10,\"solidity\":0.2}},\"type\":\"histogram\"}],\"scattergl\":[{\"type\":\"scattergl\",\"marker\":{\"colorbar\":{\"outlinewidth\":0,\"ticks\":\"\"}}}],\"scatter3d\":[{\"type\":\"scatter3d\",\"line\":{\"colorbar\":{\"outlinewidth\":0,\"ticks\":\"\"}},\"marker\":{\"colorbar\":{\"outlinewidth\":0,\"ticks\":\"\"}}}],\"scattermapbox\":[{\"type\":\"scattermapbox\",\"marker\":{\"colorbar\":{\"outlinewidth\":0,\"ticks\":\"\"}}}],\"scatterternary\":[{\"type\":\"scatterternary\",\"marker\":{\"colorbar\":{\"outlinewidth\":0,\"ticks\":\"\"}}}],\"scattercarpet\":[{\"type\":\"scattercarpet\",\"marker\":{\"colorbar\":{\"outlinewidth\":0,\"ticks\":\"\"}}}],\"carpet\":[{\"aaxis\":{\"endlinecolor\":\"#2a3f5f\",\"gridcolor\":\"white\",\"linecolor\":\"white\",\"minorgridcolor\":\"white\",\"startlinecolor\":\"#2a3f5f\"},\"baxis\":{\"endlinecolor\":\"#2a3f5f\",\"gridcolor\":\"white\",\"linecolor\":\"white\",\"minorgridcolor\":\"white\",\"startlinecolor\":\"#2a3f5f\"},\"type\":\"carpet\"}],\"table\":[{\"cells\":{\"fill\":{\"color\":\"#EBF0F8\"},\"line\":{\"color\":\"white\"}},\"header\":{\"fill\":{\"color\":\"#C8D4E3\"},\"line\":{\"color\":\"white\"}},\"type\":\"table\"}],\"barpolar\":[{\"marker\":{\"line\":{\"color\":\"#E5ECF6\",\"width\":0.5},\"pattern\":{\"fillmode\":\"overlay\",\"size\":10,\"solidity\":0.2}},\"type\":\"barpolar\"}],\"pie\":[{\"automargin\":true,\"type\":\"pie\"}]},\"layout\":{\"autotypenumbers\":\"strict\",\"colorway\":[\"#636efa\",\"#EF553B\",\"#00cc96\",\"#ab63fa\",\"#FFA15A\",\"#19d3f3\",\"#FF6692\",\"#B6E880\",\"#FF97FF\",\"#FECB52\"],\"font\":{\"color\":\"#2a3f5f\"},\"hovermode\":\"closest\",\"hoverlabel\":{\"align\":\"left\"},\"paper_bgcolor\":\"white\",\"plot_bgcolor\":\"#E5ECF6\",\"polar\":{\"bgcolor\":\"#E5ECF6\",\"angularaxis\":{\"gridcolor\":\"white\",\"linecolor\":\"white\",\"ticks\":\"\"},\"radialaxis\":{\"gridcolor\":\"white\",\"linecolor\":\"white\",\"ticks\":\"\"}},\"ternary\":{\"bgcolor\":\"#E5ECF6\",\"aaxis\":{\"gridcolor\":\"white\",\"linecolor\":\"white\",\"ticks\":\"\"},\"baxis\":{\"gridcolor\":\"white\",\"linecolor\":\"white\",\"ticks\":\"\"},\"caxis\":{\"gridcolor\":\"white\",\"linecolor\":\"white\",\"ticks\":\"\"}},\"coloraxis\":{\"colorbar\":{\"outlinewidth\":0,\"ticks\":\"\"}},\"colorscale\":{\"sequential\":[[0.0,\"#0d0887\"],[0.1111111111111111,\"#46039f\"],[0.2222222222222222,\"#7201a8\"],[0.3333333333333333,\"#9c179e\"],[0.4444444444444444,\"#bd3786\"],[0.5555555555555556,\"#d8576b\"],[0.6666666666666666,\"#ed7953\"],[0.7777777777777778,\"#fb9f3a\"],[0.8888888888888888,\"#fdca26\"],[1.0,\"#f0f921\"]],\"sequentialminus\":[[0.0,\"#0d0887\"],[0.1111111111111111,\"#46039f\"],[0.2222222222222222,\"#7201a8\"],[0.3333333333333333,\"#9c179e\"],[0.4444444444444444,\"#bd3786\"],[0.5555555555555556,\"#d8576b\"],[0.6666666666666666,\"#ed7953\"],[0.7777777777777778,\"#fb9f3a\"],[0.8888888888888888,\"#fdca26\"],[1.0,\"#f0f921\"]],\"diverging\":[[0,\"#8e0152\"],[0.1,\"#c51b7d\"],[0.2,\"#de77ae\"],[0.3,\"#f1b6da\"],[0.4,\"#fde0ef\"],[0.5,\"#f7f7f7\"],[0.6,\"#e6f5d0\"],[0.7,\"#b8e186\"],[0.8,\"#7fbc41\"],[0.9,\"#4d9221\"],[1,\"#276419\"]]},\"xaxis\":{\"gridcolor\":\"white\",\"linecolor\":\"white\",\"ticks\":\"\",\"title\":{\"standoff\":15},\"zerolinecolor\":\"white\",\"automargin\":true,\"zerolinewidth\":2},\"yaxis\":{\"gridcolor\":\"white\",\"linecolor\":\"white\",\"ticks\":\"\",\"title\":{\"standoff\":15},\"zerolinecolor\":\"white\",\"automargin\":true,\"zerolinewidth\":2},\"scene\":{\"xaxis\":{\"backgroundcolor\":\"#E5ECF6\",\"gridcolor\":\"white\",\"linecolor\":\"white\",\"showbackground\":true,\"ticks\":\"\",\"zerolinecolor\":\"white\",\"gridwidth\":2},\"yaxis\":{\"backgroundcolor\":\"#E5ECF6\",\"gridcolor\":\"white\",\"linecolor\":\"white\",\"showbackground\":true,\"ticks\":\"\",\"zerolinecolor\":\"white\",\"gridwidth\":2},\"zaxis\":{\"backgroundcolor\":\"#E5ECF6\",\"gridcolor\":\"white\",\"linecolor\":\"white\",\"showbackground\":true,\"ticks\":\"\",\"zerolinecolor\":\"white\",\"gridwidth\":2}},\"shapedefaults\":{\"line\":{\"color\":\"#2a3f5f\"}},\"annotationdefaults\":{\"arrowcolor\":\"#2a3f5f\",\"arrowhead\":0,\"arrowwidth\":1},\"geo\":{\"bgcolor\":\"white\",\"landcolor\":\"#E5ECF6\",\"subunitcolor\":\"white\",\"showland\":true,\"showlakes\":true,\"lakecolor\":\"white\"},\"title\":{\"x\":0.05},\"mapbox\":{\"style\":\"light\"}}},\"xaxis\":{\"anchor\":\"y\",\"domain\":[0.0,1.0],\"title\":{\"text\":\"ext_replay_detail_datetime\"}},\"yaxis\":{\"anchor\":\"x\",\"domain\":[0.0,1.0],\"title\":{\"text\":\"sum of avg_per_loop\"}},\"legend\":{\"tracegroupgap\":0},\"margin\":{\"t\":60},\"barmode\":\"relative\"},                        {\"responsive\": true}                    ).then(function(){\n",
       "                            \n",
       "var gd = document.getElementById('6a3cbd19-105a-4a2e-b527-3f8fcd20c88d');\n",
       "var x = new MutationObserver(function (mutations, observer) {{\n",
       "        var display = window.getComputedStyle(gd).display;\n",
       "        if (!display || display === 'none') {{\n",
       "            console.log([gd, 'removed!']);\n",
       "            Plotly.purge(gd);\n",
       "            observer.disconnect();\n",
       "        }}\n",
       "}});\n",
       "\n",
       "// Listen for the removal of the full notebook cells\n",
       "var notebookContainer = gd.closest('#notebook-container');\n",
       "if (notebookContainer) {{\n",
       "    x.observe(notebookContainer, {childList: true});\n",
       "}}\n",
       "\n",
       "// Listen for the clearing of the current output cell\n",
       "var outputEl = gd.closest('.output');\n",
       "if (outputEl) {{\n",
       "    x.observe(outputEl, {childList: true});\n",
       "}}\n",
       "\n",
       "                        })                };                });            </script>        </div>"
      ]
     },
     "metadata": {},
     "output_type": "display_data"
    }
   ],
   "source": [
    "fig = px.histogram(avg_drones_per_map, x=\"ext_replay_detail_datetime\", y=\"avg_per_loop\")\n",
    "fig.show()"
   ]
  },
  {
   "cell_type": "code",
   "execution_count": null,
   "id": "785833ef-2f21-4887-b5a7-b0d82a4fc5f3",
   "metadata": {},
   "outputs": [],
   "source": [
    "df_unit_born_details_join = (\n",
    "    unit_born_df.join(details_df, on=\"ext_fs_replay_sha256\", how=\"inner\")\n",
    "    .filter(\n",
    "        (pl.col(\"ext_replay_detail_player_name\") == \"2-1-8459957-Sazed\")\n",
    "        & (pl.col(\"unit_type_name\") != \"InvisibleTargetDummy\")\n",
    "        & (~pl.col(\"unit_type_name\").str.starts_with(\"Beacon\"))\n",
    "        & (~pl.col(\"unit_type_name\").str.ends_with(\"Geyser\"))\n",
    "        & (~pl.col(\"unit_type_name\").str.starts_with(\"LabMineralField\"))\n",
    "        & (~pl.col(\"unit_type_name\").str.starts_with(\"RichMineralField\"))\n",
    "        & (~pl.col(\"unit_type_name\").str.starts_with(\"MineralField\"))\n",
    "    )\n",
    "    .select([pl.col(\"title\"), pl.col(\"unit_type_name\")])\n",
    "    .group_by([\"title\", \"unit_type_name\"])\n",
    "    .agg(pl.col(\"unit_type_name\").count().alias(\"count\"))\n",
    "    .filter(pl.col(\"count\") > 200)\n",
    "    .collect()\n",
    "    .sort(\"count\", descending=True)\n",
    ")"
   ]
  },
  {
   "cell_type": "code",
   "execution_count": null,
   "id": "68af493e-f219-46d8-ac11-fe87e8790be0",
   "metadata": {},
   "outputs": [],
   "source": []
  }
 ],
 "metadata": {
  "kernelspec": {
   "display_name": "Python 3 (ipykernel)",
   "language": "python",
   "name": "python3"
  },
  "language_info": {
   "codemirror_mode": {
    "name": "ipython",
    "version": 3
   },
   "file_extension": ".py",
   "mimetype": "text/x-python",
   "name": "python",
   "nbconvert_exporter": "python",
   "pygments_lexer": "ipython3",
   "version": "3.11.5"
  }
 },
 "nbformat": 4,
 "nbformat_minor": 5
}
